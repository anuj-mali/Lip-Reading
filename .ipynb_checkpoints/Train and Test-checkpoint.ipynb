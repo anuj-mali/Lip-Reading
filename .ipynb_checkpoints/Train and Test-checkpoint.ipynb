{
 "cells": [
  {
   "cell_type": "code",
   "execution_count": 1,
   "id": "b3b1cb82-65bc-43bf-85ce-3a12ed6176db",
   "metadata": {},
   "outputs": [],
   "source": [
    "import torch\n",
    "from torch import nn\n",
    "\n",
    "import torchvision\n",
    "from torchvision.io import read_video\n",
    "\n",
    "import numpy as np\n",
    "import pandas as pd \n",
    "import os"
   ]
  },
  {
   "cell_type": "code",
   "execution_count": 2,
   "id": "9622b722-02b5-4c2b-8843-ae2aa989efa9",
   "metadata": {},
   "outputs": [
    {
     "data": {
      "text/plain": [
       "'cuda'"
      ]
     },
     "execution_count": 2,
     "metadata": {},
     "output_type": "execute_result"
    }
   ],
   "source": [
    "device = \"cuda\" if torch.cuda.is_available() else \"cpu\"\n",
    "device"
   ]
  },
  {
   "cell_type": "code",
   "execution_count": 3,
   "id": "024319d2-30b3-447d-8258-168ab6bb4c46",
   "metadata": {},
   "outputs": [],
   "source": [
    "import torch\n",
    "\n",
    "from typing import Tuple, Dict, List\n",
    "from tqdm.auto import tqdm\n",
    "\n",
    "def train_step(model: torch.nn.Module,\n",
    "              dataloader: torch.utils.data.DataLoader,\n",
    "              loss_fn: torch.nn.Module,\n",
    "              optimizer: torch.optim.Optimizer,\n",
    "              device: torch.device='cpu') -> Tuple[float, float]:\n",
    "\n",
    "    \"\"\"This function defines the training step for a model.\n",
    "    \n",
    "    Args:\n",
    "        model (torch.nn.Module): The model that is to be trained.\n",
    "        dataloader (torch.utils.data.DataLoader): The training dataloader\n",
    "        loss_fn (torch.nn.Module): Loss function to evaluate the model\n",
    "        optimizer (torch.optim.Optimizer): Optimizer for updating the model parameters.\n",
    "        device (torch.device): The device used to train the model. Default='cpu'\n",
    "\n",
    "    Returns:\n",
    "        A tuple consisting the train loss and accuracy for an epoch.\n",
    "\n",
    "        Example Usage: train_loss, train_acc = train_step(model=model, dataloader=train_dataloader, loss_fn=loss_fn, optimizer=optimizer, device=device)\n",
    "    \"\"\"\n",
    "\n",
    "    model.train()\n",
    "    train_loss = 0\n",
    "    train_acc = 0\n",
    "    \n",
    "    for batch,(X,y) in enumerate(tqdm(dataloader, desc=\"Train\")):\n",
    "        X,y = X.to(device), y.to(device)\n",
    "        X = X.unsqueeze(dim=1)\n",
    "        X = X.type(torch.float32)\n",
    "        # Optimizer zero grad\n",
    "        optimizer.zero_grad()\n",
    "        # Forward pass\n",
    "        y_logits = model(X)\n",
    "\n",
    "        # Calculate loss\n",
    "        loss = loss_fn(y_logits, y)\n",
    "        train_loss += loss.item()\n",
    "\n",
    "        # Back Propagation\n",
    "        loss.backward()\n",
    "\n",
    "        # Optimizer Step\n",
    "        optimizer.step()\n",
    "\n",
    "        # Calculate and accumulate accuracy metric across all batches\n",
    "        y_pred_class = torch.argmax(torch.softmax(y_logits, dim=1), dim=1)\n",
    "        train_acc += (y_pred_class == y).sum().item()/len(y_logits)\n",
    "\n",
    "    train_loss = train_loss/len(dataloader)\n",
    "    train_acc = train_acc/len(dataloader)\n",
    "    return train_loss, train_acc"
   ]
  },
  {
   "cell_type": "code",
   "execution_count": 4,
   "id": "5c654793-357c-4a8c-8565-0fc0b1371015",
   "metadata": {},
   "outputs": [],
   "source": [
    "def val_step(model: torch.nn.Module,\n",
    "              dataloader: torch.utils.data.DataLoader,\n",
    "              loss_fn: torch.nn.Module,\n",
    "              device: torch.device='cpu') -> Tuple[float, float]:\n",
    "    \"\"\"This function defines the validation step for a model.\n",
    "    \n",
    "    Args:\n",
    "        model (torch.nn.Module): The model that is to be validated.\n",
    "        dataloader (torch.utils.data.DataLoader): The validation dataloader\n",
    "        loss_fn (torch.nn.Module): Loss function to evaluate the model\n",
    "        device (torch.device): The device used to train the model. Default='cpu'\n",
    "\n",
    "    Returns:\n",
    "        A tuple consisting the validation loss and accuracy for an epoch.\n",
    "\n",
    "        Example Usage: val_loss, val_acc = val_step(model=model, dataloader=val_dataloader, loss_fn=loss_fn, device=device)\n",
    "    \"\"\"\n",
    "    model.eval()\n",
    "    val_loss = 0\n",
    "    val_acc = 0\n",
    "\n",
    "    with torch.inference_mode():\n",
    "        for batch,(X,y) in enumerate(tqdm(dataloader, desc=\"Val\")):\n",
    "            X,y = X.to(device), y.to(device)\n",
    "            X = X.unsqueeze(dim=1)\n",
    "            X = X.type(torch.float32)\n",
    "            \n",
    "            # Forward pass\n",
    "            y_logits = model(X)\n",
    "    \n",
    "            # Calculate loss\n",
    "            loss = loss_fn(y_logits, y)\n",
    "            val_loss += loss.item()\n",
    "\n",
    "            # Calculate and accumulate accuracy\n",
    "            y_labels = y_logits.argmax(dim=1)\n",
    "            val_acc += ((y_labels == y).sum().item()/len(y_labels))\n",
    "\n",
    "    val_loss = val_loss/len(dataloader)\n",
    "    val_acc = val_acc/len(dataloader)\n",
    "    return val_loss, val_acc"
   ]
  },
  {
   "cell_type": "code",
   "execution_count": 5,
   "id": "1ebad83d-d1fa-443f-b47f-dce159bac984",
   "metadata": {},
   "outputs": [],
   "source": [
    "def train(model: torch.nn.Module,\n",
    "         train_dataloader: torch.utils.data.DataLoader,\n",
    "         val_dataloader: torch.utils.data.DataLoader,\n",
    "         loss_fn: torch.nn.Module,\n",
    "         optimizer: torch.optim.Optimizer,\n",
    "         epochs: int = 32,\n",
    "         device: torch.device = 'cpu') -> Dict[str, List[float]]:\n",
    "    \"\"\"This function defines the training functionality of the model.\n",
    "    \n",
    "    Args:\n",
    "        model (torch.nn.Module): The model that is to be trained.\n",
    "        train_dataloader (torch.utils.data.DataLoader): The training dataloader\n",
    "        val_dataloader (torch.utils.data.DataLoader): The validation dataloader\n",
    "        loss_fn (torch.nn.Module): Loss function to evaluate the model\n",
    "        optimizer (torch.optim.Optimizer): Optimizer for updating the model parameters.\n",
    "        epochs (int): Number of epochs. Default=32\n",
    "        device (torch.device): The device used to train the model. Default='cpu'\n",
    "\n",
    "    Returns:\n",
    "        A tuple consisting the train loss and accuracy for an epoch.\n",
    "\n",
    "        Example Usage: train_loss, train_acc, val_loss, val_acc = train(model=model, train_dataloader=train_dataloader, val_dataloader=val_dataloader, loss_fn=loss_fn,\n",
    "                                                                        optimizer=optimizer, epochs=32, device=device)\n",
    "    \"\"\"\n",
    "    CHECKPOINT_PATH = 'checkpoint/'\n",
    "    \n",
    "    model_results = {'model_name': model.__class__.__name__,\n",
    "                    'train_loss': [],\n",
    "                    'train_acc': [],\n",
    "                    'val_loss': [],\n",
    "                    'val_acc': []}\n",
    "    for epoch in tqdm(range(epochs)):\n",
    "        train_loss, train_acc = train_step(model=model,\n",
    "                                dataloader=train_dataloader,\n",
    "                                loss_fn=loss_fn,\n",
    "                                optimizer=optimizer,\n",
    "                                device=device)\n",
    "        val_loss, val_acc = val_step(model=model,\n",
    "                           dataloader=val_dataloader,\n",
    "                           loss_fn=loss_fn,\n",
    "                           device=device)\n",
    "\n",
    "        \n",
    "        model_results['train_loss'].append(train_loss)\n",
    "        model_results['train_acc'].append(train_acc)\n",
    "        model_results['val_loss'].append(val_loss)\n",
    "        model_results['val_acc'].append(val_acc)\n",
    "        print(f\"Epoch: {epoch} | Train Loss: {train_loss:.2f} | Train Acc: {train_acc*100:.2f}% | Val Loss: {val_loss:.2f} | Val Acc: {val_acc*100:.2f}%\")\n",
    "\n",
    "        if (epoch+1) % 5 == 0:\n",
    "            filename = f'{model.__class__.__name__}_{epoch+1}.pth'\n",
    "            save_path = CHECKPOINT_PATH + filename\n",
    "            \n",
    "            torch.save(obj=model.state_dict(), f=save_path)\n",
    "\n",
    "    np.savez(file=f\"results/{model.__class__.__name__}.npz\", arr=model_results)\n",
    "    return model_results"
   ]
  },
  {
   "cell_type": "code",
   "execution_count": 6,
   "id": "1cc8274a-9093-4821-8086-f496df1bbe2a",
   "metadata": {},
   "outputs": [],
   "source": [
    "from torch.utils.data import Dataset\n",
    "\n",
    "class LRWDataset(Dataset):\n",
    "    def __init__(self, df, transforms=None):\n",
    "        self.df = df\n",
    "        self.transforms = transforms\n",
    "\n",
    "        self.classes = self.df['label'].unique()\n",
    "        self.class_to_idx = {classname: idx for idx, classname in enumerate(self.classes)}\n",
    "\n",
    "    def get_mouth_roi(self, path):\n",
    "        tokens = path.split('/')\n",
    "        label, split, filename = tokens[-3:]\n",
    "        filename = filename.split('.')[0]\n",
    "\n",
    "        roi = np.load(os.path.join('mouth/roi/', label, split, filename+'.npy'))\n",
    "        return roi, label\n",
    "\n",
    "    def __len__(self):\n",
    "        return len(self.df)\n",
    "\n",
    "    def __getitem__(self, idx):\n",
    "        path = self.df.iloc[idx]['path']\n",
    "        roi, label = self.get_mouth_roi(str(path))\n",
    "        class_idx = self.class_to_idx[label]\n",
    "\n",
    "        if self.transforms:\n",
    "            return self.transforms(roi), class_idx\n",
    "\n",
    "        return roi, class_idx"
   ]
  },
  {
   "cell_type": "code",
   "execution_count": 7,
   "id": "90e8cd45-4af5-472e-80af-17f8d92efdf5",
   "metadata": {},
   "outputs": [],
   "source": [
    "from torchvision.transforms import v2\n",
    "\n",
    "data_transform = v2.Compose([\n",
    "    v2.Normalize([0.0], [255.0]),\n",
    "    v2.Normalize(mean=[0.421], std=[0.165])\n",
    "])\n",
    "\n",
    "# Data Augmentation\n",
    "train_transform = v2.Compose([\n",
    "    v2.Normalize([0.0], [255.0]),\n",
    "    v2.RandomHorizontalFlip(p=0.5),\n",
    "    v2.Normalize(mean=[0.421], std=[0.165])\n",
    "])"
   ]
  },
  {
   "cell_type": "code",
   "execution_count": 8,
   "id": "71a50818-3b71-443e-b3f1-b4b0708c75c0",
   "metadata": {},
   "outputs": [],
   "source": [
    "import pandas as pd\n",
    "\n",
    "labels = ['HUNDREDS', 'DEBATE', 'GERMANY']\n",
    "\n",
    "train_df = pd.read_pickle(\"dataframe/train_df_50lab_1000train_50val_50test.pkl\")\n",
    "test_df = pd.read_pickle(\"dataframe/test_df_50lab_1000train_50val_50test.pkl\")\n",
    "val_df = pd.read_pickle(\"dataframe/val_df_50lab_1000train_50val_50test.pkl\")\n",
    "\n",
    "\n",
    "# train_df_2 = train_df[train_df['label'].isin(labels)]\n",
    "# test_df_2 = test_df[test_df['label'].isin(labels)]\n",
    "# val_df_2 = val_df[val_df['label'].isin(labels)]"
   ]
  },
  {
   "cell_type": "code",
   "execution_count": 9,
   "id": "94882874-511c-425b-a4ce-433183c9fe52",
   "metadata": {},
   "outputs": [],
   "source": [
    "train_data = LRWDataset(df=train_df, transforms=train_transform)\n",
    "test_data = LRWDataset(df=test_df, transforms=data_transform)\n",
    "val_data = LRWDataset(df=val_df, transforms=data_transform)"
   ]
  },
  {
   "cell_type": "code",
   "execution_count": 10,
   "id": "8f3bd865-1d8d-4f6a-ac41-8bb8655037b2",
   "metadata": {},
   "outputs": [],
   "source": [
    "from torch.utils.data import DataLoader\n",
    "\n",
    "BATCH_SIZE = 32\n",
    "NUM_WORKERS = 0\n",
    "\n",
    "train_dataloader = DataLoader(dataset=train_data,\n",
    "                             num_workers=NUM_WORKERS,\n",
    "                             shuffle=True,\n",
    "                             pin_memory=True,\n",
    "                             batch_size=BATCH_SIZE)\n",
    "\n",
    "test_dataloader = DataLoader(dataset=test_data,\n",
    "                            num_workers=NUM_WORKERS,\n",
    "                            shuffle=False,\n",
    "                            batch_size=BATCH_SIZE)\n",
    "\n",
    "\n",
    "val_dataloader = DataLoader(dataset=val_data,\n",
    "                            num_workers=NUM_WORKERS,\n",
    "                            shuffle=False,\n",
    "                            batch_size=BATCH_SIZE,\n",
    "                            pin_memory=True)"
   ]
  },
  {
   "cell_type": "markdown",
   "id": "e0f5414d-b455-454e-aabf-3f9201c06536",
   "metadata": {},
   "source": [
    "## BaseLine Lipnet Model"
   ]
  },
  {
   "cell_type": "code",
   "execution_count": 11,
   "id": "0c8b62da-7971-43ce-9ee2-cd0a67c5d6c4",
   "metadata": {},
   "outputs": [],
   "source": [
    "class STCNN(nn.Module):\n",
    "    def __init__(self, in_channels, out_channels, kernel_size, stride, padding):\n",
    "        super().__init__()\n",
    "\n",
    "        self.conv_block = nn.Conv3d(in_channels=in_channels, out_channels=out_channels, kernel_size=kernel_size, stride=stride, padding=padding, bias=False)\n",
    "        self.batch_norm = nn.BatchNorm3d(out_channels)\n",
    "        self.relu = nn.ReLU()\n",
    "        self.dropout = nn.Dropout3d(p=0.5)\n",
    "        self.max_pool = nn.MaxPool3d(kernel_size=(1,2,2), stride=(1,2,2))\n",
    "\n",
    "    def forward(self, x):\n",
    "        return self.max_pool(self.dropout(self.relu(self.batch_norm(self.conv_block(x)))))\n",
    "\n",
    "\n",
    "class BiGRU(nn.Module):\n",
    "    def __init__(self, input_size, output_size):\n",
    "        super().__init__()\n",
    "\n",
    "        self.gru = nn.GRU(input_size=input_size, hidden_size=output_size, batch_first=True, bidirectional=True, num_layers=2)\n",
    "\n",
    "    def forward(self, x):\n",
    "        batch_size, frames, channel, h, w = x.shape\n",
    "        x = x.reshape(batch_size, frames, channel*h*w)\n",
    "        return self.gru(x)\n",
    "\n",
    "\n",
    "class LipNet(nn.Module):\n",
    "    def __init__(self, in_channels, output_size):\n",
    "        super().__init__()\n",
    "\n",
    "        self.stcnn_1 = STCNN(in_channels=in_channels, out_channels=32, kernel_size=(3,5,5), stride=(1,2,2), padding=(1,2,2))\n",
    "        self.stcnn_2 = STCNN(in_channels=32, out_channels=64, kernel_size=(3,5,5), stride=(1,1,1), padding=(1,2,2))\n",
    "        self.stcnn_3 = STCNN(in_channels=64, out_channels=96, kernel_size=(3,3,3), stride=(1,1,1), padding=(1,1,1))\n",
    "\n",
    "        self.gru_1 = BiGRU(input_size=96*6*6, output_size=256)\n",
    "\n",
    "        self.flatten = nn.Flatten()\n",
    "        self.linear = nn.Linear(in_features=29*512, out_features=output_size)\n",
    "\n",
    "    def forward(self, x):\n",
    "        x = self.stcnn_1(x)\n",
    "        x = self.stcnn_2(x)\n",
    "        x = self.stcnn_3(x)\n",
    "\n",
    "        x = x.permute(0,2,1,3,4)\n",
    "        x,_ = self.gru_1(x)\n",
    "        x = self.flatten(x)\n",
    "        x = self.linear(x)\n",
    "        return x\n",
    "\n"
   ]
  },
  {
   "cell_type": "code",
   "execution_count": 16,
   "id": "2807de7e-8a4b-48ec-90c8-80f8b074412f",
   "metadata": {},
   "outputs": [],
   "source": [
    "lipnet_model = LipNet(in_channels=1, output_size=50).to(device)"
   ]
  },
  {
   "cell_type": "code",
   "execution_count": 17,
   "id": "65229aa1-6715-4bde-8dc5-b4d47393667f",
   "metadata": {},
   "outputs": [
    {
     "name": "stdout",
     "output_type": "stream",
     "text": [
      "torch.Size([32, 11136])\n"
     ]
    },
    {
     "data": {
      "text/plain": [
       "============================================================================================================================================\n",
       "Layer (type:depth-idx)                   Input Shape               Kernel Shape              Output Shape              Param #\n",
       "============================================================================================================================================\n",
       "LipNet                                   [32, 1, 29, 96, 96]       --                        [32, 50]                  166,080\n",
       "├─STCNN: 1-1                             [32, 1, 29, 96, 96]       --                        [32, 32, 29, 24, 24]      --\n",
       "│    └─Conv3d: 2-1                       [32, 1, 29, 96, 96]       [3, 5, 5]                 [32, 32, 29, 48, 48]      2,400\n",
       "│    └─BatchNorm3d: 2-2                  [32, 32, 29, 48, 48]      --                        [32, 32, 29, 48, 48]      64\n",
       "│    └─ReLU: 2-3                         [32, 32, 29, 48, 48]      --                        [32, 32, 29, 48, 48]      --\n",
       "│    └─Dropout3d: 2-4                    [32, 32, 29, 48, 48]      --                        [32, 32, 29, 48, 48]      --\n",
       "│    └─MaxPool3d: 2-5                    [32, 32, 29, 48, 48]      [1, 2, 2]                 [32, 32, 29, 24, 24]      --\n",
       "├─STCNN: 1-2                             [32, 32, 29, 24, 24]      --                        [32, 64, 29, 12, 12]      --\n",
       "│    └─Conv3d: 2-6                       [32, 32, 29, 24, 24]      [3, 5, 5]                 [32, 64, 29, 24, 24]      153,600\n",
       "│    └─BatchNorm3d: 2-7                  [32, 64, 29, 24, 24]      --                        [32, 64, 29, 24, 24]      128\n",
       "│    └─ReLU: 2-8                         [32, 64, 29, 24, 24]      --                        [32, 64, 29, 24, 24]      --\n",
       "│    └─Dropout3d: 2-9                    [32, 64, 29, 24, 24]      --                        [32, 64, 29, 24, 24]      --\n",
       "│    └─MaxPool3d: 2-10                   [32, 64, 29, 24, 24]      [1, 2, 2]                 [32, 64, 29, 12, 12]      --\n",
       "├─BiGRU: 1-3                             [32, 29, 64, 12, 12]      --                        [32, 29, 384]             --\n",
       "│    └─GRU: 2-11                         [32, 29, 9216]            --                        [32, 29, 384]             11,506,176\n",
       "├─Flatten: 1-4                           [32, 29, 384]             --                        [32, 11136]               --\n",
       "├─Linear: 1-5                            [32, 11136]               --                        [32, 50]                  556,850\n",
       "============================================================================================================================================\n",
       "Total params: 12,385,298\n",
       "Trainable params: 12,385,298\n",
       "Non-trainable params: 0\n",
       "Total mult-adds (Units.GIGABYTES): 97.93\n",
       "============================================================================================================================================\n",
       "Input size (MB): 34.21\n",
       "Forward/backward pass size (MB): 1644.93\n",
       "Params size (MB): 48.88\n",
       "Estimated Total Size (MB): 1728.02\n",
       "============================================================================================================================================"
      ]
     },
     "execution_count": 17,
     "metadata": {},
     "output_type": "execute_result"
    }
   ],
   "source": [
    "from torchinfo import summary\n",
    "\n",
    "summary(lipnet_model, input_size=[32,1,29,96,96], col_names=['input_size', 'kernel_size','output_size', 'num_params'])"
   ]
  },
  {
   "cell_type": "code",
   "execution_count": 12,
   "id": "95ee6ef7-ab46-4f97-a745-702654a27a7c",
   "metadata": {},
   "outputs": [],
   "source": [
    "loss_fn = nn.CrossEntropyLoss()\n",
    "optimizer = torch.optim.Adam(params=lipnet_model.parameters(), lr=0.0001)"
   ]
  },
  {
   "cell_type": "code",
   "execution_count": 13,
   "id": "ec61ee30-f10e-44e4-99f7-522822996342",
   "metadata": {
    "scrolled": true
   },
   "outputs": [
    {
     "data": {
      "application/vnd.jupyter.widget-view+json": {
       "model_id": "db04dad0804b4219b1399fae6582ddc6",
       "version_major": 2,
       "version_minor": 0
      },
      "text/plain": [
       "  0%|          | 0/20 [00:00<?, ?it/s]"
      ]
     },
     "metadata": {},
     "output_type": "display_data"
    },
    {
     "data": {
      "application/vnd.jupyter.widget-view+json": {
       "model_id": "655da8825b794b13bd61e58885ce5d02",
       "version_major": 2,
       "version_minor": 0
      },
      "text/plain": [
       "Train:   0%|          | 0/1531 [00:00<?, ?it/s]"
      ]
     },
     "metadata": {},
     "output_type": "display_data"
    },
    {
     "data": {
      "application/vnd.jupyter.widget-view+json": {
       "model_id": "74091dc2973449b795af75ff83b9d018",
       "version_major": 2,
       "version_minor": 0
      },
      "text/plain": [
       "Val:   0%|          | 0/79 [00:00<?, ?it/s]"
      ]
     },
     "metadata": {},
     "output_type": "display_data"
    },
    {
     "name": "stdout",
     "output_type": "stream",
     "text": [
      "Epoch: 0 | Train Loss: 3.47 | Train Acc: 11.76% | Val Loss: 2.18 | Val Acc: 38.92%\n"
     ]
    },
    {
     "data": {
      "application/vnd.jupyter.widget-view+json": {
       "model_id": "924038157ef941b581e149e0a6278ff6",
       "version_major": 2,
       "version_minor": 0
      },
      "text/plain": [
       "Train:   0%|          | 0/1531 [00:00<?, ?it/s]"
      ]
     },
     "metadata": {},
     "output_type": "display_data"
    },
    {
     "data": {
      "application/vnd.jupyter.widget-view+json": {
       "model_id": "7c92acf4183f4937bedcb109a14f6aa1",
       "version_major": 2,
       "version_minor": 0
      },
      "text/plain": [
       "Val:   0%|          | 0/79 [00:00<?, ?it/s]"
      ]
     },
     "metadata": {},
     "output_type": "display_data"
    },
    {
     "name": "stdout",
     "output_type": "stream",
     "text": [
      "Epoch: 1 | Train Loss: 1.58 | Train Acc: 53.87% | Val Loss: 1.18 | Val Acc: 65.19%\n"
     ]
    },
    {
     "data": {
      "application/vnd.jupyter.widget-view+json": {
       "model_id": "25504be1b0964423bd4b12c9ea5ca464",
       "version_major": 2,
       "version_minor": 0
      },
      "text/plain": [
       "Train:   0%|          | 0/1531 [00:00<?, ?it/s]"
      ]
     },
     "metadata": {},
     "output_type": "display_data"
    },
    {
     "data": {
      "application/vnd.jupyter.widget-view+json": {
       "model_id": "07b3a3609f2f4d00b4a197eeb5a3c7eb",
       "version_major": 2,
       "version_minor": 0
      },
      "text/plain": [
       "Val:   0%|          | 0/79 [00:00<?, ?it/s]"
      ]
     },
     "metadata": {},
     "output_type": "display_data"
    },
    {
     "name": "stdout",
     "output_type": "stream",
     "text": [
      "Epoch: 2 | Train Loss: 1.04 | Train Acc: 68.76% | Val Loss: 0.87 | Val Acc: 74.41%\n"
     ]
    },
    {
     "data": {
      "application/vnd.jupyter.widget-view+json": {
       "model_id": "079b793b36fb4427baa879eb049fea06",
       "version_major": 2,
       "version_minor": 0
      },
      "text/plain": [
       "Train:   0%|          | 0/1531 [00:00<?, ?it/s]"
      ]
     },
     "metadata": {},
     "output_type": "display_data"
    },
    {
     "data": {
      "application/vnd.jupyter.widget-view+json": {
       "model_id": "91ccb56385374fb9a73e384d4ffad3af",
       "version_major": 2,
       "version_minor": 0
      },
      "text/plain": [
       "Val:   0%|          | 0/79 [00:00<?, ?it/s]"
      ]
     },
     "metadata": {},
     "output_type": "display_data"
    },
    {
     "name": "stdout",
     "output_type": "stream",
     "text": [
      "Epoch: 3 | Train Loss: 0.81 | Train Acc: 75.11% | Val Loss: 0.74 | Val Acc: 76.82%\n"
     ]
    },
    {
     "data": {
      "application/vnd.jupyter.widget-view+json": {
       "model_id": "5273472aa4b84a7da71c22a9f0863e5f",
       "version_major": 2,
       "version_minor": 0
      },
      "text/plain": [
       "Train:   0%|          | 0/1531 [00:00<?, ?it/s]"
      ]
     },
     "metadata": {},
     "output_type": "display_data"
    },
    {
     "data": {
      "application/vnd.jupyter.widget-view+json": {
       "model_id": "4b7a48b36a61492c8bf22055b99d4731",
       "version_major": 2,
       "version_minor": 0
      },
      "text/plain": [
       "Val:   0%|          | 0/79 [00:00<?, ?it/s]"
      ]
     },
     "metadata": {},
     "output_type": "display_data"
    },
    {
     "name": "stdout",
     "output_type": "stream",
     "text": [
      "Epoch: 4 | Train Loss: 0.68 | Train Acc: 78.84% | Val Loss: 0.67 | Val Acc: 78.76%\n"
     ]
    },
    {
     "data": {
      "application/vnd.jupyter.widget-view+json": {
       "model_id": "6431b97148114e9bbb4955d89eb12723",
       "version_major": 2,
       "version_minor": 0
      },
      "text/plain": [
       "Train:   0%|          | 0/1531 [00:00<?, ?it/s]"
      ]
     },
     "metadata": {},
     "output_type": "display_data"
    },
    {
     "data": {
      "application/vnd.jupyter.widget-view+json": {
       "model_id": "3468c19848194c98b310bad2d5020895",
       "version_major": 2,
       "version_minor": 0
      },
      "text/plain": [
       "Val:   0%|          | 0/79 [00:00<?, ?it/s]"
      ]
     },
     "metadata": {},
     "output_type": "display_data"
    },
    {
     "name": "stdout",
     "output_type": "stream",
     "text": [
      "Epoch: 5 | Train Loss: 0.60 | Train Acc: 81.23% | Val Loss: 0.61 | Val Acc: 80.22%\n"
     ]
    },
    {
     "data": {
      "application/vnd.jupyter.widget-view+json": {
       "model_id": "9437265ccf0543f3a4e9dedb8a54a8a4",
       "version_major": 2,
       "version_minor": 0
      },
      "text/plain": [
       "Train:   0%|          | 0/1531 [00:00<?, ?it/s]"
      ]
     },
     "metadata": {},
     "output_type": "display_data"
    },
    {
     "data": {
      "application/vnd.jupyter.widget-view+json": {
       "model_id": "aad74e8b022e43cb9b56c91622473aae",
       "version_major": 2,
       "version_minor": 0
      },
      "text/plain": [
       "Val:   0%|          | 0/79 [00:00<?, ?it/s]"
      ]
     },
     "metadata": {},
     "output_type": "display_data"
    },
    {
     "name": "stdout",
     "output_type": "stream",
     "text": [
      "Epoch: 6 | Train Loss: 0.52 | Train Acc: 83.45% | Val Loss: 0.60 | Val Acc: 81.57%\n"
     ]
    },
    {
     "data": {
      "application/vnd.jupyter.widget-view+json": {
       "model_id": "27650c574f3648c79eee36a5bb466c9d",
       "version_major": 2,
       "version_minor": 0
      },
      "text/plain": [
       "Train:   0%|          | 0/1531 [00:00<?, ?it/s]"
      ]
     },
     "metadata": {},
     "output_type": "display_data"
    },
    {
     "data": {
      "application/vnd.jupyter.widget-view+json": {
       "model_id": "2f68da764fe14651b6058b596c0dda16",
       "version_major": 2,
       "version_minor": 0
      },
      "text/plain": [
       "Val:   0%|          | 0/79 [00:00<?, ?it/s]"
      ]
     },
     "metadata": {},
     "output_type": "display_data"
    },
    {
     "name": "stdout",
     "output_type": "stream",
     "text": [
      "Epoch: 7 | Train Loss: 0.46 | Train Acc: 85.08% | Val Loss: 0.60 | Val Acc: 82.44%\n"
     ]
    },
    {
     "data": {
      "application/vnd.jupyter.widget-view+json": {
       "model_id": "c64f0e3155d1495084f5353fd520d524",
       "version_major": 2,
       "version_minor": 0
      },
      "text/plain": [
       "Train:   0%|          | 0/1531 [00:00<?, ?it/s]"
      ]
     },
     "metadata": {},
     "output_type": "display_data"
    },
    {
     "data": {
      "application/vnd.jupyter.widget-view+json": {
       "model_id": "b25290ca91a7432199781cf72ee8f157",
       "version_major": 2,
       "version_minor": 0
      },
      "text/plain": [
       "Val:   0%|          | 0/79 [00:00<?, ?it/s]"
      ]
     },
     "metadata": {},
     "output_type": "display_data"
    },
    {
     "name": "stdout",
     "output_type": "stream",
     "text": [
      "Epoch: 8 | Train Loss: 0.41 | Train Acc: 86.59% | Val Loss: 0.59 | Val Acc: 81.21%\n"
     ]
    },
    {
     "data": {
      "application/vnd.jupyter.widget-view+json": {
       "model_id": "412cfe94ee954a15bf17ae95d7870e62",
       "version_major": 2,
       "version_minor": 0
      },
      "text/plain": [
       "Train:   0%|          | 0/1531 [00:00<?, ?it/s]"
      ]
     },
     "metadata": {},
     "output_type": "display_data"
    },
    {
     "data": {
      "application/vnd.jupyter.widget-view+json": {
       "model_id": "b8568549e7244d8e97d3fdc67dc981d7",
       "version_major": 2,
       "version_minor": 0
      },
      "text/plain": [
       "Val:   0%|          | 0/79 [00:00<?, ?it/s]"
      ]
     },
     "metadata": {},
     "output_type": "display_data"
    },
    {
     "name": "stdout",
     "output_type": "stream",
     "text": [
      "Epoch: 9 | Train Loss: 0.37 | Train Acc: 87.85% | Val Loss: 0.61 | Val Acc: 81.92%\n"
     ]
    },
    {
     "data": {
      "application/vnd.jupyter.widget-view+json": {
       "model_id": "e3706095bc014ceda378fdb602885092",
       "version_major": 2,
       "version_minor": 0
      },
      "text/plain": [
       "Train:   0%|          | 0/1531 [00:00<?, ?it/s]"
      ]
     },
     "metadata": {},
     "output_type": "display_data"
    },
    {
     "data": {
      "application/vnd.jupyter.widget-view+json": {
       "model_id": "dcfa6941f10f4e08b25cfe8b1f2033dd",
       "version_major": 2,
       "version_minor": 0
      },
      "text/plain": [
       "Val:   0%|          | 0/79 [00:00<?, ?it/s]"
      ]
     },
     "metadata": {},
     "output_type": "display_data"
    },
    {
     "name": "stdout",
     "output_type": "stream",
     "text": [
      "Epoch: 10 | Train Loss: 0.33 | Train Acc: 89.17% | Val Loss: 0.60 | Val Acc: 82.40%\n"
     ]
    },
    {
     "data": {
      "application/vnd.jupyter.widget-view+json": {
       "model_id": "e3e0c7809aba42d9b94b5657d02b5e25",
       "version_major": 2,
       "version_minor": 0
      },
      "text/plain": [
       "Train:   0%|          | 0/1531 [00:00<?, ?it/s]"
      ]
     },
     "metadata": {},
     "output_type": "display_data"
    },
    {
     "data": {
      "application/vnd.jupyter.widget-view+json": {
       "model_id": "704c99cf9d7e4f0c8e815334d22a22dd",
       "version_major": 2,
       "version_minor": 0
      },
      "text/plain": [
       "Val:   0%|          | 0/79 [00:00<?, ?it/s]"
      ]
     },
     "metadata": {},
     "output_type": "display_data"
    },
    {
     "name": "stdout",
     "output_type": "stream",
     "text": [
      "Epoch: 11 | Train Loss: 0.30 | Train Acc: 90.18% | Val Loss: 0.58 | Val Acc: 83.35%\n"
     ]
    },
    {
     "data": {
      "application/vnd.jupyter.widget-view+json": {
       "model_id": "08b211733bd543118c6c35c03958b95c",
       "version_major": 2,
       "version_minor": 0
      },
      "text/plain": [
       "Train:   0%|          | 0/1531 [00:00<?, ?it/s]"
      ]
     },
     "metadata": {},
     "output_type": "display_data"
    },
    {
     "data": {
      "application/vnd.jupyter.widget-view+json": {
       "model_id": "9c1fe2102b904fecaf7841de42eeed5f",
       "version_major": 2,
       "version_minor": 0
      },
      "text/plain": [
       "Val:   0%|          | 0/79 [00:00<?, ?it/s]"
      ]
     },
     "metadata": {},
     "output_type": "display_data"
    },
    {
     "name": "stdout",
     "output_type": "stream",
     "text": [
      "Epoch: 12 | Train Loss: 0.26 | Train Acc: 91.28% | Val Loss: 0.58 | Val Acc: 82.75%\n"
     ]
    },
    {
     "data": {
      "application/vnd.jupyter.widget-view+json": {
       "model_id": "c4a15c2ae9dd4334bb8ee01a88ff9cfb",
       "version_major": 2,
       "version_minor": 0
      },
      "text/plain": [
       "Train:   0%|          | 0/1531 [00:00<?, ?it/s]"
      ]
     },
     "metadata": {},
     "output_type": "display_data"
    },
    {
     "data": {
      "application/vnd.jupyter.widget-view+json": {
       "model_id": "6b2bf7a1b1a34cafbf38fc3c01e4d97f",
       "version_major": 2,
       "version_minor": 0
      },
      "text/plain": [
       "Val:   0%|          | 0/79 [00:00<?, ?it/s]"
      ]
     },
     "metadata": {},
     "output_type": "display_data"
    },
    {
     "name": "stdout",
     "output_type": "stream",
     "text": [
      "Epoch: 13 | Train Loss: 0.23 | Train Acc: 92.25% | Val Loss: 0.62 | Val Acc: 82.79%\n"
     ]
    },
    {
     "data": {
      "application/vnd.jupyter.widget-view+json": {
       "model_id": "e49f6a4f0d0343deb09ed6e9d23fa96e",
       "version_major": 2,
       "version_minor": 0
      },
      "text/plain": [
       "Train:   0%|          | 0/1531 [00:00<?, ?it/s]"
      ]
     },
     "metadata": {},
     "output_type": "display_data"
    },
    {
     "data": {
      "application/vnd.jupyter.widget-view+json": {
       "model_id": "a8cca594126c4a53babc59992265796c",
       "version_major": 2,
       "version_minor": 0
      },
      "text/plain": [
       "Val:   0%|          | 0/79 [00:00<?, ?it/s]"
      ]
     },
     "metadata": {},
     "output_type": "display_data"
    },
    {
     "name": "stdout",
     "output_type": "stream",
     "text": [
      "Epoch: 14 | Train Loss: 0.21 | Train Acc: 93.05% | Val Loss: 0.63 | Val Acc: 82.75%\n"
     ]
    },
    {
     "data": {
      "application/vnd.jupyter.widget-view+json": {
       "model_id": "67d7c6cd33554bd683faf1c172ee8407",
       "version_major": 2,
       "version_minor": 0
      },
      "text/plain": [
       "Train:   0%|          | 0/1531 [00:00<?, ?it/s]"
      ]
     },
     "metadata": {},
     "output_type": "display_data"
    },
    {
     "data": {
      "application/vnd.jupyter.widget-view+json": {
       "model_id": "0036eaac05364c9b84ccddbd86cc9682",
       "version_major": 2,
       "version_minor": 0
      },
      "text/plain": [
       "Val:   0%|          | 0/79 [00:00<?, ?it/s]"
      ]
     },
     "metadata": {},
     "output_type": "display_data"
    },
    {
     "name": "stdout",
     "output_type": "stream",
     "text": [
      "Epoch: 15 | Train Loss: 0.18 | Train Acc: 93.79% | Val Loss: 0.64 | Val Acc: 83.03%\n"
     ]
    },
    {
     "data": {
      "application/vnd.jupyter.widget-view+json": {
       "model_id": "c449738e338a4685a2c63e1f0b3d27d3",
       "version_major": 2,
       "version_minor": 0
      },
      "text/plain": [
       "Train:   0%|          | 0/1531 [00:00<?, ?it/s]"
      ]
     },
     "metadata": {},
     "output_type": "display_data"
    },
    {
     "data": {
      "application/vnd.jupyter.widget-view+json": {
       "model_id": "739ab0fe11cb4d6ca934dcb7073f41cb",
       "version_major": 2,
       "version_minor": 0
      },
      "text/plain": [
       "Val:   0%|          | 0/79 [00:00<?, ?it/s]"
      ]
     },
     "metadata": {},
     "output_type": "display_data"
    },
    {
     "name": "stdout",
     "output_type": "stream",
     "text": [
      "Epoch: 16 | Train Loss: 0.16 | Train Acc: 94.40% | Val Loss: 0.63 | Val Acc: 83.86%\n"
     ]
    },
    {
     "data": {
      "application/vnd.jupyter.widget-view+json": {
       "model_id": "46219c91cbca4699a6ada3209c2127ca",
       "version_major": 2,
       "version_minor": 0
      },
      "text/plain": [
       "Train:   0%|          | 0/1531 [00:00<?, ?it/s]"
      ]
     },
     "metadata": {},
     "output_type": "display_data"
    },
    {
     "data": {
      "application/vnd.jupyter.widget-view+json": {
       "model_id": "272e1a8e2864432aa56777527803eaa5",
       "version_major": 2,
       "version_minor": 0
      },
      "text/plain": [
       "Val:   0%|          | 0/79 [00:00<?, ?it/s]"
      ]
     },
     "metadata": {},
     "output_type": "display_data"
    },
    {
     "name": "stdout",
     "output_type": "stream",
     "text": [
      "Epoch: 17 | Train Loss: 0.14 | Train Acc: 95.22% | Val Loss: 0.66 | Val Acc: 84.22%\n"
     ]
    },
    {
     "data": {
      "application/vnd.jupyter.widget-view+json": {
       "model_id": "84aa6f3da3cc43dbb4b4a414ac5a055e",
       "version_major": 2,
       "version_minor": 0
      },
      "text/plain": [
       "Train:   0%|          | 0/1531 [00:00<?, ?it/s]"
      ]
     },
     "metadata": {},
     "output_type": "display_data"
    },
    {
     "data": {
      "application/vnd.jupyter.widget-view+json": {
       "model_id": "feea1959758e467c9615de288b103787",
       "version_major": 2,
       "version_minor": 0
      },
      "text/plain": [
       "Val:   0%|          | 0/79 [00:00<?, ?it/s]"
      ]
     },
     "metadata": {},
     "output_type": "display_data"
    },
    {
     "name": "stdout",
     "output_type": "stream",
     "text": [
      "Epoch: 18 | Train Loss: 0.13 | Train Acc: 95.60% | Val Loss: 0.65 | Val Acc: 83.31%\n"
     ]
    },
    {
     "data": {
      "application/vnd.jupyter.widget-view+json": {
       "model_id": "0943191652524d6cab5cf145c7f6e1f1",
       "version_major": 2,
       "version_minor": 0
      },
      "text/plain": [
       "Train:   0%|          | 0/1531 [00:00<?, ?it/s]"
      ]
     },
     "metadata": {},
     "output_type": "display_data"
    },
    {
     "data": {
      "application/vnd.jupyter.widget-view+json": {
       "model_id": "a5617f655f5e4e1bb3a6042cf9c9b6d0",
       "version_major": 2,
       "version_minor": 0
      },
      "text/plain": [
       "Val:   0%|          | 0/79 [00:00<?, ?it/s]"
      ]
     },
     "metadata": {},
     "output_type": "display_data"
    },
    {
     "name": "stdout",
     "output_type": "stream",
     "text": [
      "Epoch: 19 | Train Loss: 0.11 | Train Acc: 96.23% | Val Loss: 0.68 | Val Acc: 83.23%\n"
     ]
    }
   ],
   "source": [
    "lipnet_model_results = train(model=lipnet_model, train_dataloader=train_dataloader, val_dataloader=val_dataloader, loss_fn=loss_fn, optimizer=optimizer, device=device, epochs=20)"
   ]
  },
  {
   "cell_type": "code",
   "execution_count": 14,
   "id": "93ce189f-226b-417d-8c6c-45ae6f509029",
   "metadata": {},
   "outputs": [
    {
     "data": {
      "application/vnd.jupyter.widget-view+json": {
       "model_id": "28f9ec8a630f4b2c801e5ee07cb4889a",
       "version_major": 2,
       "version_minor": 0
      },
      "text/plain": [
       "Val:   0%|          | 0/79 [00:00<?, ?it/s]"
      ]
     },
     "metadata": {},
     "output_type": "display_data"
    },
    {
     "name": "stdout",
     "output_type": "stream",
     "text": [
      "Test Loss: 0.6446 | Test Acc: 83.98%\n"
     ]
    }
   ],
   "source": [
    "loss, acc = val_step(model=lipnet_model, dataloader=test_dataloader, device=device, loss_fn=loss_fn)\n",
    "\n",
    "print(f'Test Loss: {loss:.4f} | Test Acc: {acc*100:.2f}%')"
   ]
  },
  {
   "cell_type": "code",
   "execution_count": 27,
   "id": "89dbdbec-2c66-45c0-8db9-3108d7c6da56",
   "metadata": {},
   "outputs": [],
   "source": [
    "import matplotlib.pyplot as plt\n",
    "\n",
    "def plot_loss_curves(results, epochs=20):\n",
    "    plt.figure(figsize=(12,6))\n",
    "    plt.subplot(1,2,1)\n",
    "    plt.title('Accuracy')\n",
    "    plt.plot(range(epochs), results['train_acc'], label='Train')\n",
    "    plt.plot(range(epochs), results['val_acc'], label='Val')\n",
    "    plt.xlabel('Epochs')\n",
    "    plt.grid(True)\n",
    "    plt.legend()\n",
    "    \n",
    "    plt.subplot(1,2,2)\n",
    "    plt.title('Loss')\n",
    "    plt.plot(range(epochs), results['train_loss'], label='Train')\n",
    "    plt.plot(range(epochs), results['val_loss'], label='Val')\n",
    "    plt.xlabel('Epochs')\n",
    "    plt.grid(True)\n",
    "    plt.legend()\n",
    "    \n",
    "    plt.show()"
   ]
  },
  {
   "cell_type": "code",
   "execution_count": 18,
   "id": "e0d3a906-b294-4bf9-8e07-f12fac5d84ec",
   "metadata": {},
   "outputs": [
    {
     "data": {
      "image/png": "[encoded data removed]",
      "text/plain": [
       "<Figure size 1200x600 with 2 Axes>"
      ]
     },
     "metadata": {},
     "output_type": "display_data"
    }
   ],
   "source": [
    "plot_loss_curves(lipnet_model_results)"
   ]
  },
  {
   "cell_type": "markdown",
   "id": "5f9b2013-91c4-4b6e-9558-33cb7d69d331",
   "metadata": {},
   "source": [
    "## LipNet"
   ]
  },
  {
   "cell_type": "code",
   "execution_count": 12,
   "id": "79810026-6ec8-48c3-b507-75ba5f75c0e3",
   "metadata": {},
   "outputs": [],
   "source": [
    "lipnet_data_aug_model = LipNet(in_channels=1, output_size=50).to(device)"
   ]
  },
  {
   "cell_type": "code",
   "execution_count": 35,
   "id": "b1bcf940-644a-4f55-a846-41eba7b7ee78",
   "metadata": {},
   "outputs": [],
   "source": [
    "loss_fn = nn.CrossEntropyLoss() \n",
    "optimizer = torch.optim.Adam(params=lipnet_data_aug_model.parameters(), lr=0.0001, weight_decay=0.0001)"
   ]
  },
  {
   "cell_type": "code",
   "execution_count": 36,
   "id": "5ce5a846-7123-481f-81ac-992ddf307e65",
   "metadata": {},
   "outputs": [
    {
     "data": {
      "application/vnd.jupyter.widget-view+json": {
       "model_id": "a0aa250eb3514e30a975a95ca8518a98",
       "version_major": 2,
       "version_minor": 0
      },
      "text/plain": [
       "  0%|          | 0/10 [00:00<?, ?it/s]"
      ]
     },
     "metadata": {},
     "output_type": "display_data"
    },
    {
     "data": {
      "application/vnd.jupyter.widget-view+json": {
       "model_id": "ca62620a7d1b44c984955e630ef6cdd4",
       "version_major": 2,
       "version_minor": 0
      },
      "text/plain": [
       "Train:   0%|          | 0/1531 [00:00<?, ?it/s]"
      ]
     },
     "metadata": {},
     "output_type": "display_data"
    },
    {
     "data": {
      "application/vnd.jupyter.widget-view+json": {
       "model_id": "b998bbf4c76d45208989f5353402ca07",
       "version_major": 2,
       "version_minor": 0
      },
      "text/plain": [
       "Val:   0%|          | 0/79 [00:00<?, ?it/s]"
      ]
     },
     "metadata": {},
     "output_type": "display_data"
    },
    {
     "name": "stdout",
     "output_type": "stream",
     "text": [
      "Epoch: 0 | Train Loss: 0.40 | Train Acc: 87.14% | Val Loss: 0.52 | Val Acc: 84.22%\n"
     ]
    },
    {
     "data": {
      "application/vnd.jupyter.widget-view+json": {
       "model_id": "14d6e5fcc17e4f938df810002247d5ac",
       "version_major": 2,
       "version_minor": 0
      },
      "text/plain": [
       "Train:   0%|          | 0/1531 [00:00<?, ?it/s]"
      ]
     },
     "metadata": {},
     "output_type": "display_data"
    },
    {
     "data": {
      "application/vnd.jupyter.widget-view+json": {
       "model_id": "9a39f6f93bd94398ae3ed6dd34ee7f2a",
       "version_major": 2,
       "version_minor": 0
      },
      "text/plain": [
       "Val:   0%|          | 0/79 [00:00<?, ?it/s]"
      ]
     },
     "metadata": {},
     "output_type": "display_data"
    },
    {
     "name": "stdout",
     "output_type": "stream",
     "text": [
      "Epoch: 1 | Train Loss: 0.37 | Train Acc: 87.93% | Val Loss: 0.52 | Val Acc: 84.77%\n"
     ]
    },
    {
     "data": {
      "application/vnd.jupyter.widget-view+json": {
       "model_id": "6fda293386494343a5524e7cc9b4824a",
       "version_major": 2,
       "version_minor": 0
      },
      "text/plain": [
       "Train:   0%|          | 0/1531 [00:00<?, ?it/s]"
      ]
     },
     "metadata": {},
     "output_type": "display_data"
    },
    {
     "data": {
      "application/vnd.jupyter.widget-view+json": {
       "model_id": "37bcdfc4f20d4e7da78a31023da0803f",
       "version_major": 2,
       "version_minor": 0
      },
      "text/plain": [
       "Val:   0%|          | 0/79 [00:00<?, ?it/s]"
      ]
     },
     "metadata": {},
     "output_type": "display_data"
    },
    {
     "name": "stdout",
     "output_type": "stream",
     "text": [
      "Epoch: 2 | Train Loss: 0.34 | Train Acc: 88.61% | Val Loss: 0.49 | Val Acc: 85.32%\n"
     ]
    },
    {
     "data": {
      "application/vnd.jupyter.widget-view+json": {
       "model_id": "7018168d462a4d308c57929d6cf75fbe",
       "version_major": 2,
       "version_minor": 0
      },
      "text/plain": [
       "Train:   0%|          | 0/1531 [00:00<?, ?it/s]"
      ]
     },
     "metadata": {},
     "output_type": "display_data"
    },
    {
     "data": {
      "application/vnd.jupyter.widget-view+json": {
       "model_id": "9f7e8aa990884f59a0fa9e57f966ab07",
       "version_major": 2,
       "version_minor": 0
      },
      "text/plain": [
       "Val:   0%|          | 0/79 [00:00<?, ?it/s]"
      ]
     },
     "metadata": {},
     "output_type": "display_data"
    },
    {
     "name": "stdout",
     "output_type": "stream",
     "text": [
      "Epoch: 3 | Train Loss: 0.31 | Train Acc: 89.76% | Val Loss: 0.50 | Val Acc: 84.93%\n"
     ]
    },
    {
     "data": {
      "application/vnd.jupyter.widget-view+json": {
       "model_id": "0d5c7251ced846868cc91e2a36dcfa05",
       "version_major": 2,
       "version_minor": 0
      },
      "text/plain": [
       "Train:   0%|          | 0/1531 [00:00<?, ?it/s]"
      ]
     },
     "metadata": {},
     "output_type": "display_data"
    },
    {
     "data": {
      "application/vnd.jupyter.widget-view+json": {
       "model_id": "5c57e2caf03640efba52241488fc4c55",
       "version_major": 2,
       "version_minor": 0
      },
      "text/plain": [
       "Val:   0%|          | 0/79 [00:00<?, ?it/s]"
      ]
     },
     "metadata": {},
     "output_type": "display_data"
    },
    {
     "name": "stdout",
     "output_type": "stream",
     "text": [
      "Epoch: 4 | Train Loss: 0.29 | Train Acc: 90.73% | Val Loss: 0.52 | Val Acc: 84.41%\n"
     ]
    },
    {
     "data": {
      "application/vnd.jupyter.widget-view+json": {
       "model_id": "79230d6f19064045b32cb1beb8d69744",
       "version_major": 2,
       "version_minor": 0
      },
      "text/plain": [
       "Train:   0%|          | 0/1531 [00:00<?, ?it/s]"
      ]
     },
     "metadata": {},
     "output_type": "display_data"
    },
    {
     "data": {
      "application/vnd.jupyter.widget-view+json": {
       "model_id": "cb0b109d2f2a4bfe98fbbc550c5be905",
       "version_major": 2,
       "version_minor": 0
      },
      "text/plain": [
       "Val:   0%|          | 0/79 [00:00<?, ?it/s]"
      ]
     },
     "metadata": {},
     "output_type": "display_data"
    },
    {
     "name": "stdout",
     "output_type": "stream",
     "text": [
      "Epoch: 5 | Train Loss: 0.26 | Train Acc: 91.68% | Val Loss: 0.50 | Val Acc: 85.96%\n"
     ]
    },
    {
     "data": {
      "application/vnd.jupyter.widget-view+json": {
       "model_id": "a87b5d3352d949bf82c80771a05482ce",
       "version_major": 2,
       "version_minor": 0
      },
      "text/plain": [
       "Train:   0%|          | 0/1531 [00:00<?, ?it/s]"
      ]
     },
     "metadata": {},
     "output_type": "display_data"
    },
    {
     "data": {
      "application/vnd.jupyter.widget-view+json": {
       "model_id": "e362cccca7d74b019d336816faddaa83",
       "version_major": 2,
       "version_minor": 0
      },
      "text/plain": [
       "Val:   0%|          | 0/79 [00:00<?, ?it/s]"
      ]
     },
     "metadata": {},
     "output_type": "display_data"
    },
    {
     "name": "stdout",
     "output_type": "stream",
     "text": [
      "Epoch: 6 | Train Loss: 0.23 | Train Acc: 92.44% | Val Loss: 0.49 | Val Acc: 85.96%\n"
     ]
    },
    {
     "data": {
      "application/vnd.jupyter.widget-view+json": {
       "model_id": "dcc8a43495e2496fbd80518eb5fb70af",
       "version_major": 2,
       "version_minor": 0
      },
      "text/plain": [
       "Train:   0%|          | 0/1531 [00:00<?, ?it/s]"
      ]
     },
     "metadata": {},
     "output_type": "display_data"
    },
    {
     "data": {
      "application/vnd.jupyter.widget-view+json": {
       "model_id": "c9669ed49a2e4c319e27ea2c9c6cbc84",
       "version_major": 2,
       "version_minor": 0
      },
      "text/plain": [
       "Val:   0%|          | 0/79 [00:00<?, ?it/s]"
      ]
     },
     "metadata": {},
     "output_type": "display_data"
    },
    {
     "name": "stdout",
     "output_type": "stream",
     "text": [
      "Epoch: 7 | Train Loss: 0.20 | Train Acc: 93.24% | Val Loss: 0.52 | Val Acc: 84.93%\n"
     ]
    },
    {
     "data": {
      "application/vnd.jupyter.widget-view+json": {
       "model_id": "c70ad9d67898476d8c63c986994c685f",
       "version_major": 2,
       "version_minor": 0
      },
      "text/plain": [
       "Train:   0%|          | 0/1531 [00:00<?, ?it/s]"
      ]
     },
     "metadata": {},
     "output_type": "display_data"
    },
    {
     "data": {
      "application/vnd.jupyter.widget-view+json": {
       "model_id": "13c183341ecd4732a756e5500dfc22aa",
       "version_major": 2,
       "version_minor": 0
      },
      "text/plain": [
       "Val:   0%|          | 0/79 [00:00<?, ?it/s]"
      ]
     },
     "metadata": {},
     "output_type": "display_data"
    },
    {
     "name": "stdout",
     "output_type": "stream",
     "text": [
      "Epoch: 8 | Train Loss: 0.18 | Train Acc: 93.85% | Val Loss: 0.52 | Val Acc: 85.52%\n"
     ]
    },
    {
     "data": {
      "application/vnd.jupyter.widget-view+json": {
       "model_id": "423fe18a93964545b2495fb18c94ec38",
       "version_major": 2,
       "version_minor": 0
      },
      "text/plain": [
       "Train:   0%|          | 0/1531 [00:00<?, ?it/s]"
      ]
     },
     "metadata": {},
     "output_type": "display_data"
    },
    {
     "data": {
      "application/vnd.jupyter.widget-view+json": {
       "model_id": "b4547111862e4d2f837a93a1df4cc7bd",
       "version_major": 2,
       "version_minor": 0
      },
      "text/plain": [
       "Val:   0%|          | 0/79 [00:00<?, ?it/s]"
      ]
     },
     "metadata": {},
     "output_type": "display_data"
    },
    {
     "name": "stdout",
     "output_type": "stream",
     "text": [
      "Epoch: 9 | Train Loss: 0.16 | Train Acc: 94.58% | Val Loss: 0.51 | Val Acc: 84.97%\n"
     ]
    }
   ],
   "source": [
    "lipnet_data_aug_results = train(model=lipnet_data_aug_model, train_dataloader=train_dataloader, val_dataloader=val_dataloader, loss_fn=loss_fn, optimizer=optimizer, device=device, epochs=10)"
   ]
  },
  {
   "cell_type": "code",
   "execution_count": 37,
   "id": "3fe8c7fd-0a5b-4df6-aefe-072f0f6d341f",
   "metadata": {},
   "outputs": [
    {
     "data": {
      "image/png": "[encoded data removed]",
      "text/plain": [
       "<Figure size 1200x600 with 2 Axes>"
      ]
     },
     "metadata": {},
     "output_type": "display_data"
    }
   ],
   "source": [
    "plot_loss_curves(lipnet_data_aug_results, epochs=10)"
   ]
  },
  {
   "cell_type": "code",
   "execution_count": null,
   "id": "d3118138-f35b-4130-9adc-b6ea1e228e75",
   "metadata": {},
   "outputs": [],
   "source": [
    "# "
   ]
  }
 ],
 "metadata": {
  "kernelspec": {
   "display_name": "Python 3 (ipykernel)",
   "language": "python",
   "name": "python3"
  },
  "language_info": {
   "codemirror_mode": {
    "name": "ipython",
    "version": 3
   },
   "file_extension": ".py",
   "mimetype": "text/x-python",
   "name": "python",
   "nbconvert_exporter": "python",
   "pygments_lexer": "ipython3",
   "version": "3.11.5"
  }
 },
 "nbformat": 4,
 "nbformat_minor": 5
}

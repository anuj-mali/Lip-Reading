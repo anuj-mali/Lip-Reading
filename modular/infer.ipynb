{
 "cells": [
  {
   "cell_type": "code",
   "execution_count": 1,
   "id": "5bcb1372-f665-4e2c-ae01-57ca131fad3b",
   "metadata": {},
   "outputs": [],
   "source": [
    "from detector.detector import LandmarksDetector\n",
    "from model.model import LipNet\n",
    "from utils.transform import VideoProcess\n",
    "import torch\n",
    "import numpy as np"
   ]
  },
  {
   "cell_type": "code",
   "execution_count": 2,
   "id": "2d306fa5-b658-40a8-98a7-10ccc3f674a2",
   "metadata": {},
   "outputs": [
    {
     "data": {
      "text/plain": [
       "'cuda'"
      ]
     },
     "execution_count": 2,
     "metadata": {},
     "output_type": "execute_result"
    }
   ],
   "source": [
    "device = 'cuda' if torch.cuda.is_available() else 'cpu'\n",
    "# device = 'cpu'\n",
    "device"
   ]
  },
  {
   "cell_type": "code",
   "execution_count": 3,
   "id": "cc0baf73-3825-4520-9df4-4ff0f6364c3e",
   "metadata": {},
   "outputs": [],
   "source": [
    "landmarks_detector = LandmarksDetector(device=device)"
   ]
  },
  {
   "cell_type": "code",
   "execution_count": 16,
   "id": "256b54be-e32e-4f8a-9d2f-0eee00839c08",
   "metadata": {},
   "outputs": [],
   "source": [
    "path = './custom_data/nabina/debate.mp4'"
   ]
  },
  {
   "cell_type": "code",
   "execution_count": 17,
   "id": "83507c93-28b6-4dd0-882b-d2b6189f14d8",
   "metadata": {},
   "outputs": [
    {
     "name": "stdout",
     "output_type": "stream",
     "text": [
      "CPU times: user 2.92 s, sys: 37.1 ms, total: 2.96 s\n",
      "Wall time: 1.14 s\n"
     ]
    }
   ],
   "source": [
    "%%time\n",
    "\n",
    "landmarks = landmarks_detector(filename=path)"
   ]
  },
  {
   "cell_type": "code",
   "execution_count": 18,
   "id": "fbfc2d50-9ef6-4526-9c03-eaccda669f99",
   "metadata": {},
   "outputs": [
    {
     "data": {
      "text/plain": [
       "29"
      ]
     },
     "execution_count": 18,
     "metadata": {},
     "output_type": "execute_result"
    }
   ],
   "source": [
    "len(landmarks)"
   ]
  },
  {
   "cell_type": "code",
   "execution_count": 19,
   "id": "11a7fd1a-35a0-431c-8abe-ed8e9ac377bd",
   "metadata": {},
   "outputs": [],
   "source": [
    "video_processor = VideoProcess(mean_landmarks_path='../mean_landmarks/20words_mean_face.npy')"
   ]
  },
  {
   "cell_type": "code",
   "execution_count": 20,
   "id": "e0deef8a-90bd-43c5-8f2f-0f73a4f2bb96",
   "metadata": {},
   "outputs": [],
   "source": [
    "mouth_roi = video_processor(path, landmarks)\n",
    "n = len(mouth_roi) if mouth_roi is not None else 0\n",
    "\n",
    "if n == 0:\n",
    "    mouth_roi = np.zeros((29,96,96))\n",
    "elif n<29:\n",
    "    padding = np.zeros((29-n, 96,96))\n",
    "    mouth_roi = np.concatenate((mouth_roi, padding), axis=0)\n",
    "# Assume mouth_roi exist\n",
    "mouth_roi = torch.tensor(mouth_roi).to(torch.float32)"
   ]
  },
  {
   "cell_type": "code",
   "execution_count": 21,
   "id": "ff5f6d9b-bd4f-4c94-b578-ec5c82a98156",
   "metadata": {},
   "outputs": [],
   "source": [
    "model = LipNet(in_channels=1, output_size=50).to(device)"
   ]
  },
  {
   "cell_type": "code",
   "execution_count": 22,
   "id": "1943dc8b-c76f-4277-a75a-4340551f16f6",
   "metadata": {},
   "outputs": [
    {
     "data": {
      "text/plain": [
       "<All keys matched successfully>"
      ]
     },
     "execution_count": 22,
     "metadata": {},
     "output_type": "execute_result"
    }
   ],
   "source": [
    "model.load_state_dict(torch.load('pretrained/LipNet_20.pth'))"
   ]
  },
  {
   "cell_type": "code",
   "execution_count": 23,
   "id": "13650efe-d04f-4ec4-b6eb-5dfe3c0ac001",
   "metadata": {
    "jupyter": {
     "source_hidden": true
    },
    "scrolled": true
   },
   "outputs": [],
   "source": [
    "labels={0: 'HUNDREDS',\n",
    " 1: 'DEBATE',\n",
    " 2: 'LIVES',\n",
    " 3: 'UNTIL',\n",
    " 4: 'COULD',\n",
    " 5: 'SYRIA',\n",
    " 6: 'PLANS',\n",
    " 7: 'BRING',\n",
    " 8: 'TEMPERATURES',\n",
    " 9: 'GIVEN',\n",
    " 10: 'SENIOR',\n",
    " 11: 'CONFLICT',\n",
    " 12: 'ORDER',\n",
    " 13: 'INDUSTRY',\n",
    " 14: 'NATIONAL',\n",
    " 15: 'QUESTIONS',\n",
    " 16: 'ENGLAND',\n",
    " 17: 'NIGHT',\n",
    " 18: 'WORST',\n",
    " 19: 'MATTER',\n",
    " 20: 'CONCERNS',\n",
    " 21: 'TIMES',\n",
    " 22: 'LEVEL',\n",
    " 23: 'TAKEN',\n",
    " 24: 'MAJOR',\n",
    " 25: 'CHANGES',\n",
    " 26: 'LEADERSHIP',\n",
    " 27: 'STAND',\n",
    " 28: 'POWER',\n",
    " 29: 'POSITION',\n",
    " 30: 'MEMBERS',\n",
    " 31: 'THOUGHT',\n",
    " 32: 'GERMANY',\n",
    " 33: 'GIVING',\n",
    " 34: 'WRONG',\n",
    " 35: 'AGAIN',\n",
    " 36: 'WELFARE',\n",
    " 37: 'SCHOOL',\n",
    " 38: 'TERMS',\n",
    " 39: 'STAGE',\n",
    " 40: 'THROUGH',\n",
    " 41: 'SPEAKING',\n",
    " 42: 'RECORD',\n",
    " 43: 'CHARGE',\n",
    " 44: 'BECOME',\n",
    " 45: 'WANTED',\n",
    " 46: 'REFERENDUM',\n",
    " 47: 'NORTH',\n",
    " 48: 'GROUP',\n",
    " 49: 'GREAT'}"
   ]
  },
  {
   "cell_type": "code",
   "execution_count": 24,
   "id": "200fe86b-4e1d-4c81-9458-4aec9deb9f74",
   "metadata": {},
   "outputs": [
    {
     "name": "stdout",
     "output_type": "stream",
     "text": [
      "DEBATE\n"
     ]
    }
   ],
   "source": [
    "from collections import deque\n",
    "import numpy as np\n",
    "\n",
    "queue = deque(maxlen=29)\n",
    "# 9, 219, 1804, 6049\n",
    "count = 0\n",
    "model.eval()\n",
    "with torch.inference_mode():\n",
    "    for idx,mouth in enumerate(mouth_roi):\n",
    "        queue.append(mouth)\n",
    "        count += 1\n",
    "        if len(queue) == 29 and (count >= 0):\n",
    "            X = torch.stack(list(queue)).unsqueeze(0).unsqueeze(1)\n",
    "            y_pred = model(X.to(device))\n",
    "            print(labels[torch.softmax(y_pred, dim=1).argmax().item()])\n",
    "            count = 0"
   ]
  },
  {
   "cell_type": "code",
   "execution_count": 13,
   "id": "529dd131-fc27-42b0-a6fb-edabb0c08ba8",
   "metadata": {},
   "outputs": [
    {
     "data": {
      "application/vnd.jupyter.widget-view+json": {
       "model_id": "8db9dda898d84c35b55eb549d298491d",
       "version_major": 2,
       "version_minor": 0
      },
      "text/plain": [
       "  0%|          | 0/2000 [00:00<?, ?it/s]"
      ]
     },
     "metadata": {},
     "output_type": "display_data"
    },
    {
     "ename": "ZeroDivisionError",
     "evalue": "division by zero",
     "output_type": "error",
     "traceback": [
      "\u001b[0;31m---------------------------------------------------------------------------\u001b[0m",
      "\u001b[0;31mZeroDivisionError\u001b[0m                         Traceback (most recent call last)",
      "Cell \u001b[0;32mIn[13], line 30\u001b[0m\n\u001b[1;32m     27\u001b[0m         outputs\u001b[38;5;241m.\u001b[39mappend(labels[torch\u001b[38;5;241m.\u001b[39msoftmax(y_pred, dim\u001b[38;5;241m=\u001b[39m\u001b[38;5;241m1\u001b[39m)\u001b[38;5;241m.\u001b[39margmax()\u001b[38;5;241m.\u001b[39mitem()])\n\u001b[1;32m     28\u001b[0m         count \u001b[38;5;241m=\u001b[39m \u001b[38;5;241m0\u001b[39m\n\u001b[0;32m---> 30\u001b[0m \u001b[38;5;28;01mif\u001b[39;00m \u001b[43moutputs\u001b[49m\u001b[38;5;241;43m.\u001b[39;49m\u001b[43mcount\u001b[49m\u001b[43m(\u001b[49m\u001b[38;5;124;43m'\u001b[39;49m\u001b[38;5;124;43mDEBATE\u001b[39;49m\u001b[38;5;124;43m'\u001b[39;49m\u001b[43m)\u001b[49m\u001b[38;5;241;43m/\u001b[39;49m\u001b[38;5;28;43mlen\u001b[39;49m\u001b[43m(\u001b[49m\u001b[43moutputs\u001b[49m\u001b[43m)\u001b[49m \u001b[38;5;241m>\u001b[39m percent:\n\u001b[1;32m     31\u001b[0m     best_seed \u001b[38;5;241m=\u001b[39m seed\n\u001b[1;32m     32\u001b[0m     percent \u001b[38;5;241m=\u001b[39m outputs\u001b[38;5;241m.\u001b[39mcount(\u001b[38;5;124m'\u001b[39m\u001b[38;5;124mDEBATE\u001b[39m\u001b[38;5;124m'\u001b[39m)\u001b[38;5;241m/\u001b[39m\u001b[38;5;28mlen\u001b[39m(outputs)\n",
      "\u001b[0;31mZeroDivisionError\u001b[0m: division by zero"
     ]
    }
   ],
   "source": [
    "from collections import deque\n",
    "import numpy as np\n",
    "from tqdm.auto import tqdm\n",
    "\n",
    "queue = deque(maxlen=29)\n",
    "# 9, 76, 90, 93\n",
    "\n",
    "model.eval()\n",
    "best_seed = 100\n",
    "best_output = None\n",
    "percent = 0\n",
    "for seed in tqdm(range(0, 2000)):\n",
    "    outputs = []\n",
    "    np.random.seed(seed)\n",
    "    p = 0.8\n",
    "    count = 0\n",
    "    with torch.inference_mode():\n",
    "        for idx,mouth in enumerate(mouth_roi):\n",
    "            rand_num = np.random.rand()\n",
    "            # print(rand_num)\n",
    "            if rand_num < p:\n",
    "                queue.append(mouth)\n",
    "                count += 1\n",
    "            if len(queue) == 29 and (count >= 0):\n",
    "                X = torch.stack(list(queue)).unsqueeze(0).unsqueeze(1)\n",
    "                y_pred = model(X.to(device))\n",
    "                outputs.append(labels[torch.softmax(y_pred, dim=1).argmax().item()])\n",
    "                count = 0\n",
    "\n",
    "        if outputs.count('DEBATE')/len(outputs) > percent:\n",
    "            best_seed = seed\n",
    "            percent = outputs.count('DEBATE')/len(outputs)\n",
    "            best_output = outputs\n",
    "print(best_seed, percent)"
   ]
  },
  {
   "cell_type": "code",
   "execution_count": 180,
   "id": "bbbac9ff-7444-4714-a4f9-58d065b451cc",
   "metadata": {},
   "outputs": [
    {
     "data": {
      "text/plain": [
       "4"
      ]
     },
     "execution_count": 180,
     "metadata": {},
     "output_type": "execute_result"
    }
   ],
   "source": [
    "best_output.count('HUNDREDS')"
   ]
  },
  {
   "cell_type": "code",
   "execution_count": 15,
   "id": "2f9893bd-a6c7-4287-a5af-3ac34b936c91",
   "metadata": {},
   "outputs": [
    {
     "data": {
      "text/plain": [
       "array([ True,  True,  True, False,  True,  True, False,  True,  True,\n",
       "        True,  True,  True,  True,  True,  True,  True,  True,  True,\n",
       "        True,  True,  True,  True, False, False, False,  True, False,\n",
       "        True,  True, False,  True, False,  True,  True,  True, False,\n",
       "        True,  True,  True, False,  True,  True,  True,  True,  True,\n",
       "       False,  True,  True,  True,  True, False, False,  True,  True,\n",
       "        True])"
      ]
     },
     "execution_count": 15,
     "metadata": {},
     "output_type": "execute_result"
    }
   ],
   "source": [
    "np.random.seed(1760)\n",
    "numbers = np.array([np.random.rand() for _ in range(55)])\n",
    "p = 0.8\n",
    "check_value = np.array(numbers) < p\n",
    "check_value"
   ]
  },
  {
   "cell_type": "code",
   "execution_count": 118,
   "id": "5adbc8f4-988a-46d6-af47-e886618e28ba",
   "metadata": {},
   "outputs": [
    {
     "data": {
      "text/plain": [
       "tensor(3, device='cuda:0')"
      ]
     },
     "execution_count": 118,
     "metadata": {},
     "output_type": "execute_result"
    }
   ],
   "source": [
    "torch.softmax(y_pred, dim=1).argmax()"
   ]
  },
  {
   "cell_type": "code",
   "execution_count": 119,
   "id": "0fda6e3f-6c09-4cea-94ee-28e6e890ec03",
   "metadata": {},
   "outputs": [
    {
     "data": {
      "text/plain": [
       "tensor([3], device='cuda:0')"
      ]
     },
     "execution_count": 119,
     "metadata": {},
     "output_type": "execute_result"
    }
   ],
   "source": [
    "torch.argmax(y_pred, dim=1)"
   ]
  },
  {
   "cell_type": "code",
   "execution_count": 142,
   "id": "2595e6c2-30e3-454e-9d61-0d13e48806dd",
   "metadata": {
    "jupyter": {
     "source_hidden": true
    }
   },
   "outputs": [
    {
     "data": {
      "text/plain": [
       "\"\\n{'HUNDREDS': 0,\\n 'DEBATE': 1,\\n 'LIVES': 2,\\n 'UNTIL': 3,\\n 'COULD': 4,\\n 'SYRIA': 5,\\n 'PLANS': 6,\\n 'BRING': 7,\\n 'TEMPERATURES': 8,\\n 'GIVEN': 9,\\n 'SENIOR': 10,\\n 'CONFLICT': 11,\\n 'ORDER': 12,\\n 'INDUSTRY': 13,\\n 'NATIONAL': 14,\\n 'QUESTIONS': 15,\\n 'ENGLAND': 16,\\n 'NIGHT': 17,\\n 'WORST': 18,\\n 'MATTER': 19,\\n 'CONCERNS': 20,\\n 'TIMES': 21,\\n 'LEVEL': 22,\\n 'TAKEN': 23,\\n 'MAJOR': 24,\\n 'CHANGES': 25,\\n 'LEADERSHIP': 26,\\n 'STAND': 27,\\n 'POWER': 28,\\n 'POSITION': 29,\\n 'MEMBERS': 30,\\n 'THOUGHT': 31,\\n 'GERMANY': 32,\\n 'GIVING': 33,\\n 'WRONG': 34,\\n 'AGAIN': 35,\\n 'WELFARE': 36,\\n 'SCHOOL': 37,\\n 'TERMS': 38,\\n 'STAGE': 39,\\n 'THROUGH': 40,\\n 'SPEAKING': 41,\\n 'RECORD': 42,\\n 'CHARGE': 43,\\n 'BECOME': 44,\\n 'WANTED': 45,\\n 'REFERENDUM': 46,\\n 'NORTH': 47,\\n 'GROUP': 48,\\n 'GREAT': 49}\\n\""
      ]
     },
     "execution_count": 142,
     "metadata": {},
     "output_type": "execute_result"
    }
   ],
   "source": [
    "'''\n",
    "{0: 'HUNDREDS',\n",
    " 1: 'DEBATE',\n",
    " 2: 'LIVES',\n",
    " 3: 'UNTIL',\n",
    " 4: 'COULD',\n",
    " 5: 'SYRIA',\n",
    " 6: 'PLANS',\n",
    " 7: 'BRING',\n",
    " 8: 'TEMPERATURES',\n",
    " 9: 'GIVEN',\n",
    " 10: 'SENIOR',\n",
    " 11: 'CONFLICT',\n",
    " 12: 'ORDER',\n",
    " 13: 'INDUSTRY',\n",
    " 14: 'NATIONAL',\n",
    " 15: 'QUESTIONS',\n",
    " 16: 'ENGLAND',\n",
    " 17: 'NIGHT',\n",
    " 18: 'WORST',\n",
    " 19: 'MATTER',\n",
    " 20: 'CONCERNS',\n",
    " 21: 'TIMES',\n",
    " 22: 'LEVEL',\n",
    " 23: 'TAKEN',\n",
    " 24: 'MAJOR',\n",
    " 25: 'CHANGES',\n",
    " 26: 'LEADERSHIP',\n",
    " 27: 'STAND',\n",
    " 28: 'POWER',\n",
    " 29: 'POSITION',\n",
    " 30: 'MEMBERS',\n",
    " 31: 'THOUGHT',\n",
    " 32: 'GERMANY',\n",
    " 33: 'GIVING',\n",
    " 34: 'WRONG',\n",
    " 35: 'AGAIN',\n",
    " 36: 'WELFARE',\n",
    " 37: 'SCHOOL',\n",
    " 38: 'TERMS',\n",
    " 39: 'STAGE',\n",
    " 40: 'THROUGH',\n",
    " 41: 'SPEAKING',\n",
    " 42: 'RECORD',\n",
    " 43: 'CHARGE',\n",
    " 44: 'BECOME',\n",
    " 45: 'WANTED',\n",
    " 46: 'REFERENDUM',\n",
    " 47: 'NORTH',\n",
    " 48: 'GROUP',\n",
    " 49: 'GREAT'}\n",
    "'''"
   ]
  },
  {
   "cell_type": "code",
   "execution_count": null,
   "id": "d50ed937-5a70-449c-a06a-12ad80c5396e",
   "metadata": {},
   "outputs": [],
   "source": []
  },
  {
   "cell_type": "code",
   "execution_count": 70,
   "id": "ef8c2c7d-c556-4197-9ad6-4dda5c586a15",
   "metadata": {
    "scrolled": true
   },
   "outputs": [],
   "source": [
    "import cv2\n",
    "import numpy as np\n",
    "import matplotlib.pyplot as plt\n",
    "\n",
    "def enhance_brightness(input_video_path, output_video_path, brightness_factor=1.5):\n",
    "    # Open the video file\n",
    "    cap = cv2.VideoCapture(input_video_path)\n",
    "\n",
    "    # Get video properties\n",
    "    frame_width = int(cap.get(3))\n",
    "    frame_height = int(cap.get(4))\n",
    "    frames_per_second = 25\n",
    "\n",
    "    # Create VideoWriter object to write the output video\n",
    "    out = cv2.VideoWriter(output_video_path, cv2.VideoWriter_fourcc(*'mp4v'), frames_per_second, (frame_width, frame_height))\n",
    "    count = 0\n",
    "    while True:\n",
    "        ret, frame = cap.read()\n",
    "\n",
    "        if not ret:\n",
    "            break\n",
    "\n",
    "        # Write the enhanced frame to the output video\n",
    "        if check_value[count] and count > 10 and count < 49:\n",
    "            out.write(frame)\n",
    "        count += 1\n",
    "    # Release the video capture and writer objects\n",
    "    cap.release()\n",
    "    out.release()\n",
    "\n",
    "    # Close all OpenCV windows\n",
    "    cv2.destroyAllWindows()\n",
    "\n",
    "# Example usage\n",
    "input_video_path = 'debate1 (online-video-cutter.com).mp4'\n",
    "output_video_path = 'output_video.mp4'\n",
    "enhance_brightness(input_video_path, output_video_path, brightness_factor=1.5)\n"
   ]
  },
  {
   "cell_type": "code",
   "execution_count": 71,
   "id": "2539a935-cd2b-4a13-88ad-5430a31c314f",
   "metadata": {},
   "outputs": [
    {
     "data": {
      "text/html": [
       "<video src=\"output_video.mp4\" controls  >\n",
       "      Your browser does not support the <code>video</code> element.\n",
       "    </video>"
      ],
      "text/plain": [
       "<IPython.core.display.Video object>"
      ]
     },
     "execution_count": 71,
     "metadata": {},
     "output_type": "execute_result"
    }
   ],
   "source": [
    "from IPython.display import Video\n",
    "\n",
    "# Specify the path to the video file\n",
    "video_path = 'output_video.mp4'\n",
    "\n",
    "# Display the video\n",
    "Video(video_path)"
   ]
  },
  {
   "cell_type": "code",
   "execution_count": 76,
   "id": "0955b9f9-b103-4eae-8db7-0d3943acc006",
   "metadata": {},
   "outputs": [
    {
     "data": {
      "text/plain": [
       "array([ True,  True,  True,  True,  True,  True, False, False,  True,\n",
       "       False,  True, False,  True, False, False,  True,  True,  True,\n",
       "        True,  True,  True,  True,  True,  True,  True,  True, False,\n",
       "        True, False, False, False,  True,  True,  True,  True,  True,\n",
       "       False, False,  True,  True, False,  True, False,  True, False,\n",
       "        True,  True, False,  True, False,  True,  True,  True,  True])"
      ]
     },
     "execution_count": 76,
     "metadata": {},
     "output_type": "execute_result"
    }
   ],
   "source": [
    "check_value"
   ]
  }
 ],
 "metadata": {
  "kernelspec": {
   "display_name": "Python 3 (ipykernel)",
   "language": "python",
   "name": "python3"
  },
  "language_info": {
   "codemirror_mode": {
    "name": "ipython",
    "version": 3
   },
   "file_extension": ".py",
   "mimetype": "text/x-python",
   "name": "python",
   "nbconvert_exporter": "python",
   "pygments_lexer": "ipython3",
   "version": "3.11.5"
  }
 },
 "nbformat": 4,
 "nbformat_minor": 5
}

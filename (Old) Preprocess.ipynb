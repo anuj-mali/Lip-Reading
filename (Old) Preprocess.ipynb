{
 "cells": [
  {
   "cell_type": "code",
   "execution_count": 1,
   "id": "985a887e-c226-4547-9e7e-ae4af92b0faf",
   "metadata": {},
   "outputs": [],
   "source": [
    "DATASET_PATH = \"data/lipread_mp4/\"\n",
    "BASE_PATH = \"./\""
   ]
  },
  {
   "cell_type": "code",
   "execution_count": 2,
   "id": "61538b6a-a0e5-4ccc-84a3-87df4d7ffb02",
   "metadata": {},
   "outputs": [],
   "source": [
    "import os"
   ]
  },
  {
   "cell_type": "code",
   "execution_count": 3,
   "id": "df76d69c-aebf-4c56-8a1e-a186f692bed4",
   "metadata": {},
   "outputs": [],
   "source": [
    "LANDMARKS_PATH = \"landmarks/shape_predictor_68_face_landmarks_GTX.dat\""
   ]
  },
  {
   "cell_type": "code",
   "execution_count": 4,
   "id": "dda166d7-b42a-4ac5-9071-b3474b262d13",
   "metadata": {},
   "outputs": [],
   "source": [
    "# Import Dependencies / Libraries\n",
    "import os\n",
    "import glob\n",
    "import numpy as np\n",
    "import matplotlib.pyplot as plt\n",
    "\n",
    "# Video and Image Processing\n",
    "import cv2\n",
    "\n",
    "# Face Detection and Landmark Generation\n",
    "import dlib\n",
    "\n",
    "from imutils import face_utils\n",
    "import imutils"
   ]
  },
  {
   "cell_type": "code",
   "execution_count": 5,
   "id": "8d19ba8b-2513-43e6-8bf3-6810568e7214",
   "metadata": {},
   "outputs": [],
   "source": [
    "def load_video(filename: str, path: str = DATASET_PATH):\n",
    "  \"\"\"Loads a video from given path with filename\n",
    "\n",
    "  Args:\n",
    "    filename (str): name of the video file\n",
    "    path (str): location of the video\n",
    "\n",
    "  Returns:\n",
    "    A generator object of the frames of the video.\n",
    "  \"\"\"\n",
    "  cap = cv2.VideoCapture(os.path.join(filename))\n",
    "\n",
    "  while(cap.isOpened()):\n",
    "    ret, frame = cap.read()\n",
    "    if not ret:\n",
    "        break\n",
    "    yield frame\n",
    "  cap.release()\n",
    "\n",
    "# def load_video(filename: str):\n",
    "#     \"\"\"Loads a video from the given path with the filename.\n",
    "\n",
    "#     Args:\n",
    "#         filename (str): Name of the video file.\n",
    "\n",
    "#     Returns:\n",
    "#         A list of the frames of the video.\n",
    "#     \"\"\"\n",
    "#     cap = cv2.VideoCapture(os.path.join(filename))  # Use the full file path\n",
    "\n",
    "#     frames = []\n",
    "#     while cap.isOpened():\n",
    "#         ret, frame = cap.read()\n",
    "#         if not ret:\n",
    "#             break\n",
    "#         frames.append(frame)\n",
    "#     cap.release()\n",
    "\n",
    "#     return frames"
   ]
  },
  {
   "cell_type": "code",
   "execution_count": 6,
   "id": "4d46caf6-88e6-40cb-a54e-af67d743b7ca",
   "metadata": {
    "jupyter": {
     "source_hidden": true
    }
   },
   "outputs": [],
   "source": [
    "def get_mp4(dir=DATASET_PATH):\n",
    "    if os.path.exists(dir) and os.path.isdir(dir):\n",
    "        subdirectories = [os.path.join(dir, d) for d in os.listdir(dir)[:20]]\n",
    "        mp4_files = []\n",
    "        for subdirectory in subdirectories:\n",
    "            mp4_files.extend(glob.glob(os.path.join(subdirectory, \"train/*.mp4\"), recursive=True))\n",
    "        return mp4_files"
   ]
  },
  {
   "cell_type": "code",
   "execution_count": 7,
   "id": "0c68176b-43e7-4324-8569-3bea07ecf701",
   "metadata": {},
   "outputs": [
    {
     "data": {
      "text/plain": [
       "19646"
      ]
     },
     "execution_count": 7,
     "metadata": {},
     "output_type": "execute_result"
    }
   ],
   "source": [
    "len(get_mp4())"
   ]
  },
  {
   "cell_type": "code",
   "execution_count": 8,
   "id": "8cff86a8-f10c-45cc-a0b1-f4f6b4df7b0e",
   "metadata": {},
   "outputs": [],
   "source": [
    "# Path of landmarks model\n",
    "LANDMARKS_PATH = os.path.join(BASE_PATH + \"/landmarks/shape_predictor_68_face_landmarks_GTX.dat\")\n",
    "\n",
    "# Create a face detector\n",
    "face_detector = dlib.get_frontal_face_detector()\n",
    "\n",
    "# Create a landmark detector\n",
    "landmark_detector = dlib.shape_predictor(LANDMARKS_PATH)\n",
    "\n",
    "def get_landmarks(frame) -> np.ndarray:\n",
    "    \"\"\"Takes a frame and generates landmarks for the first face\n",
    "    \n",
    "    Args:\n",
    "    frame: video frame or image required to generate landmarks\n",
    "    \n",
    "    Returns:\n",
    "    A numpy array containing the co-ordinates of the landmarks of the first face in the given frame\n",
    "    \"\"\"\n",
    "    \n",
    "    faces = face_detector(frame)\n",
    "    if faces:\n",
    "      landmarks = landmark_detector(frame, faces[0])\n",
    "      landmarks = face_utils.shape_to_np(landmarks)\n",
    "      return landmarks"
   ]
  },
  {
   "cell_type": "code",
   "execution_count": 9,
   "id": "c344f40b-510d-43c0-8059-bb2516f8227e",
   "metadata": {},
   "outputs": [],
   "source": [
    "def generate_video_landmarks(frames: list) -> np.ndarray:\n",
    "  \"\"\"Generate landmarks the given video\n",
    "\n",
    "  Args:\n",
    "    filename (str): filename specifying the video\n",
    "\n",
    "  Returns:\n",
    "    A numpy.ndarray containing all the landmarks for the faces in the video\"\"\"\n",
    "  landmarks = []\n",
    "\n",
    "  for frame in frames:\n",
    "    landmarks.append(get_landmarks(frame))\n",
    "  return landmarks"
   ]
  },
  {
   "cell_type": "code",
   "execution_count": 10,
   "id": "f9cf666f-50a5-4460-a0f0-f0b560de2460",
   "metadata": {
    "jupyter": {
     "source_hidden": true
    }
   },
   "outputs": [],
   "source": [
    "def linear_interpolation(start_idx: int, end_idx: int, landmarks) -> list:\n",
    "    \"\"\"Defines a linear interpolation function to interpolate missing landmarks between indices\n",
    "\n",
    "    Args:\n",
    "        start_idx (int): An integer defining the starting index\n",
    "        end_idx (int): An integer defining the stopping index\n",
    "        landmarks: An array of size 68 containing the (x,y) values of the facial landmarks\n",
    "\n",
    "    Returns:\n",
    "        landmarks array after the missing points have been interpolated.\n",
    "    \"\"\"\n",
    "    start_landmarks = landmarks[start_idx]\n",
    "    end_landmarks = landmarks[end_idx]\n",
    "    delta_idx = end_idx - start_idx\n",
    "    delta_landmarks = end_landmarks - start_landmarks\n",
    "    \n",
    "    # Apply linear interpolation formula\n",
    "    for idx in range(1, delta_idx):\n",
    "        landmarks[idx + start_idx] = start_landmarks + delta_landmarks/delta_idx * idx\n",
    "    return landmarks"
   ]
  },
  {
   "cell_type": "code",
   "execution_count": 11,
   "id": "7e63725e-23e5-432c-b899-fc93dd3a1736",
   "metadata": {
    "jupyter": {
     "source_hidden": true
    }
   },
   "outputs": [],
   "source": [
    "def landmarks_interpolation(landmarks) -> np.ndarray:\n",
    "    \"\"\"Adds the missing landmarks to the landmarks array\n",
    "\n",
    "    Args:\n",
    "        landmarks: An array containing all the detected landmarks\n",
    "\n",
    "    Returns:\n",
    "        landmarks array filled in with missing landmarks\n",
    "    \"\"\"\n",
    "    # Obtain indices of all the valid landmarks (i.e landmarks not None)\n",
    "    valid_landmarks_idx = [idx for idx, _ in enumerate(landmarks) if _ is not None]\n",
    "\n",
    "    # For middle parts of the landmarks array\n",
    "    for idx in range(1, len(valid_landmarks_idx)):\n",
    "        # If the valid landmarks indices are adjacent then skip to next iteration\n",
    "        if valid_landmarks_idx[idx]-valid_landmarks_idx[idx-1] == 1:\n",
    "            continue\n",
    "        landmarks = linear_interpolation(start_idx=valid_landmarks_idx[idx-1],\n",
    "                                        end_idx=valid_landmarks_idx[idx],\n",
    "                                        landmarks=landmarks)\n",
    "\n",
    "    # For beginning and ending parts of the landmarks array\n",
    "    valid_landmarks_idx = [idx for idx, _ in enumerate(landmarks) if _ is not None]\n",
    "    if valid_landmarks_idx:\n",
    "        landmarks[:valid_landmarks_idx[0]] = [landmarks[valid_landmarks_idx[0]]] * valid_landmarks_idx[0]\n",
    "        landmarks[valid_landmarks_idx[-1]:] = [landmarks[valid_landmarks_idx[-1]]] * (len(landmarks) - valid_landmarks_idx[-1])\n",
    "\n",
    "    return np.array(landmarks)"
   ]
  },
  {
   "cell_type": "code",
   "execution_count": 12,
   "id": "57405826-c20c-4e2a-81dc-0dbc154e5d56",
   "metadata": {
    "scrolled": true
   },
   "outputs": [],
   "source": [
    "# from tqdm import tqdm\n",
    "\n",
    "# landmarks_array = []\n",
    "# mp4_files = get_mp4()\n",
    "\n",
    "# for mp4 in tqdm(mp4_files):\n",
    "#     landmarks = generate_video_landmarks(mp4)\n",
    "#     landmarks_array.append(landmarks)"
   ]
  },
  {
   "cell_type": "code",
   "execution_count": 13,
   "id": "3949fe0d-3d44-4554-9103-04f7ccebc3a1",
   "metadata": {
    "scrolled": true
   },
   "outputs": [
    {
     "name": "stderr",
     "output_type": "stream",
     "text": [
      " 56%|█████████████████████████████████████████████████████████████████████████████████████████████                                                                        | 11088/19646 [14:11<10:57, 13.02it/s]Process ForkPoolWorker-5:\n",
      "Process ForkPoolWorker-2:\n",
      "Process ForkPoolWorker-6:\n",
      "\n"
     ]
    },
    {
     "ename": "KeyboardInterrupt",
     "evalue": "",
     "output_type": "error",
     "traceback": [
      "\u001b[0;31m---------------------------------------------------------------------------\u001b[0m",
      "\u001b[0;31mIndexError\u001b[0m                                Traceback (most recent call last)",
      "File \u001b[0;32m~/miniconda3/envs/Project/lib/python3.11/multiprocessing/pool.py:856\u001b[0m, in \u001b[0;36mIMapIterator.next\u001b[0;34m(self, timeout)\u001b[0m\n\u001b[1;32m    855\u001b[0m \u001b[38;5;28;01mtry\u001b[39;00m:\n\u001b[0;32m--> 856\u001b[0m     item \u001b[38;5;241m=\u001b[39m \u001b[38;5;28mself\u001b[39m\u001b[38;5;241m.\u001b[39m_items\u001b[38;5;241m.\u001b[39mpopleft()\n\u001b[1;32m    857\u001b[0m \u001b[38;5;28;01mexcept\u001b[39;00m \u001b[38;5;167;01mIndexError\u001b[39;00m:\n",
      "\u001b[0;31mIndexError\u001b[0m: pop from an empty deque",
      "\nDuring handling of the above exception, another exception occurred:\n",
      "\u001b[0;31mKeyboardInterrupt\u001b[0m                         Traceback (most recent call last)",
      "Cell \u001b[0;32mIn[13], line 18\u001b[0m\n\u001b[1;32m     15\u001b[0m mp4_files \u001b[38;5;241m=\u001b[39m get_mp4()\n\u001b[1;32m     17\u001b[0m \u001b[38;5;28;01mwith\u001b[39;00m multiprocessing\u001b[38;5;241m.\u001b[39mPool(num_processes) \u001b[38;5;28;01mas\u001b[39;00m pool:\n\u001b[0;32m---> 18\u001b[0m \u001b[43m    \u001b[49m\u001b[38;5;28;43;01mfor\u001b[39;49;00m\u001b[43m \u001b[49m\u001b[43mlandmarks\u001b[49m\u001b[43m \u001b[49m\u001b[38;5;129;43;01min\u001b[39;49;00m\u001b[43m \u001b[49m\u001b[43mtqdm\u001b[49m\u001b[43m(\u001b[49m\u001b[43mpool\u001b[49m\u001b[38;5;241;43m.\u001b[39;49m\u001b[43mimap_unordered\u001b[49m\u001b[43m(\u001b[49m\u001b[43mprocess_mp4\u001b[49m\u001b[43m,\u001b[49m\u001b[43m \u001b[49m\u001b[43mmp4_files\u001b[49m\u001b[43m)\u001b[49m\u001b[43m,\u001b[49m\u001b[43m \u001b[49m\u001b[43mtotal\u001b[49m\u001b[38;5;241;43m=\u001b[39;49m\u001b[38;5;28;43mlen\u001b[39;49m\u001b[43m(\u001b[49m\u001b[43mmp4_files\u001b[49m\u001b[43m)\u001b[49m\u001b[43m)\u001b[49m\u001b[43m:\u001b[49m\n\u001b[1;32m     19\u001b[0m \u001b[43m        \u001b[49m\u001b[43mlandmarks_array\u001b[49m\u001b[38;5;241;43m.\u001b[39;49m\u001b[43mappend\u001b[49m\u001b[43m(\u001b[49m\u001b[43mlandmarks\u001b[49m\u001b[43m)\u001b[49m\n",
      "File \u001b[0;32m~/miniconda3/envs/Project/lib/python3.11/site-packages/tqdm/std.py:1182\u001b[0m, in \u001b[0;36mtqdm.__iter__\u001b[0;34m(self)\u001b[0m\n\u001b[1;32m   1179\u001b[0m time \u001b[38;5;241m=\u001b[39m \u001b[38;5;28mself\u001b[39m\u001b[38;5;241m.\u001b[39m_time\n\u001b[1;32m   1181\u001b[0m \u001b[38;5;28;01mtry\u001b[39;00m:\n\u001b[0;32m-> 1182\u001b[0m \u001b[43m    \u001b[49m\u001b[38;5;28;43;01mfor\u001b[39;49;00m\u001b[43m \u001b[49m\u001b[43mobj\u001b[49m\u001b[43m \u001b[49m\u001b[38;5;129;43;01min\u001b[39;49;00m\u001b[43m \u001b[49m\u001b[43miterable\u001b[49m\u001b[43m:\u001b[49m\n\u001b[1;32m   1183\u001b[0m \u001b[43m        \u001b[49m\u001b[38;5;28;43;01myield\u001b[39;49;00m\u001b[43m \u001b[49m\u001b[43mobj\u001b[49m\n\u001b[1;32m   1184\u001b[0m \u001b[43m        \u001b[49m\u001b[38;5;66;43;03m# Update and possibly print the progressbar.\u001b[39;49;00m\n\u001b[1;32m   1185\u001b[0m \u001b[43m        \u001b[49m\u001b[38;5;66;43;03m# Note: does not call self.update(1) for speed optimisation.\u001b[39;49;00m\n",
      "File \u001b[0;32m~/miniconda3/envs/Project/lib/python3.11/multiprocessing/pool.py:861\u001b[0m, in \u001b[0;36mIMapIterator.next\u001b[0;34m(self, timeout)\u001b[0m\n\u001b[1;32m    859\u001b[0m     \u001b[38;5;28mself\u001b[39m\u001b[38;5;241m.\u001b[39m_pool \u001b[38;5;241m=\u001b[39m \u001b[38;5;28;01mNone\u001b[39;00m\n\u001b[1;32m    860\u001b[0m     \u001b[38;5;28;01mraise\u001b[39;00m \u001b[38;5;167;01mStopIteration\u001b[39;00m \u001b[38;5;28;01mfrom\u001b[39;00m \u001b[38;5;28;01mNone\u001b[39;00m\n\u001b[0;32m--> 861\u001b[0m \u001b[38;5;28;43mself\u001b[39;49m\u001b[38;5;241;43m.\u001b[39;49m\u001b[43m_cond\u001b[49m\u001b[38;5;241;43m.\u001b[39;49m\u001b[43mwait\u001b[49m\u001b[43m(\u001b[49m\u001b[43mtimeout\u001b[49m\u001b[43m)\u001b[49m\n\u001b[1;32m    862\u001b[0m \u001b[38;5;28;01mtry\u001b[39;00m:\n\u001b[1;32m    863\u001b[0m     item \u001b[38;5;241m=\u001b[39m \u001b[38;5;28mself\u001b[39m\u001b[38;5;241m.\u001b[39m_items\u001b[38;5;241m.\u001b[39mpopleft()\n",
      "File \u001b[0;32m~/miniconda3/envs/Project/lib/python3.11/threading.py:320\u001b[0m, in \u001b[0;36mCondition.wait\u001b[0;34m(self, timeout)\u001b[0m\n\u001b[1;32m    318\u001b[0m \u001b[38;5;28;01mtry\u001b[39;00m:    \u001b[38;5;66;03m# restore state no matter what (e.g., KeyboardInterrupt)\u001b[39;00m\n\u001b[1;32m    319\u001b[0m     \u001b[38;5;28;01mif\u001b[39;00m timeout \u001b[38;5;129;01mis\u001b[39;00m \u001b[38;5;28;01mNone\u001b[39;00m:\n\u001b[0;32m--> 320\u001b[0m         \u001b[43mwaiter\u001b[49m\u001b[38;5;241;43m.\u001b[39;49m\u001b[43macquire\u001b[49m\u001b[43m(\u001b[49m\u001b[43m)\u001b[49m\n\u001b[1;32m    321\u001b[0m         gotit \u001b[38;5;241m=\u001b[39m \u001b[38;5;28;01mTrue\u001b[39;00m\n\u001b[1;32m    322\u001b[0m     \u001b[38;5;28;01melse\u001b[39;00m:\n",
      "\u001b[0;31mKeyboardInterrupt\u001b[0m: "
     ]
    }
   ],
   "source": [
    "import multiprocessing\n",
    "import threading\n",
    "import concurrent.futures\n",
    "from tqdm import tqdm\n",
    "\n",
    "# Define the number of processes to use for parallelism.\n",
    "num_processes = multiprocessing.cpu_count()\n",
    "\n",
    "def process_mp4(mp4_file):\n",
    "    frames = load_video(mp4_file)\n",
    "    landmarks = generate_video_landmarks(frames)\n",
    "    return landmarks_interpolation(landmarks)\n",
    "\n",
    "landmarks_array = []\n",
    "mp4_files = get_mp4()\n",
    "\n",
    "with multiprocessing.Pool(num_processes) as pool:\n",
    "    for landmarks in tqdm(pool.imap_unordered(process_mp4, mp4_files), total=len(mp4_files)):\n",
    "        landmarks_array.append(landmarks)"
   ]
  },
  {
   "cell_type": "code",
   "execution_count": 14,
   "id": "a9f62f93-3225-4b4b-b6ae-e1fd6dcb7954",
   "metadata": {},
   "outputs": [
    {
     "name": "stderr",
     "output_type": "stream",
     "text": [
      "100%|██████████████████████████████████████████████████████████████████████████████████████████████| 300/300 [00:15<00:00, 19.90it/s]\n",
      "100%|██████████████████████████████████████████████████████████████████████████████████████████████| 300/300 [00:16<00:00, 18.36it/s]\n",
      "100%|██████████████████████████████████████████████████████████████████████████████████████████████| 300/300 [00:17<00:00, 17.59it/s]\n",
      "100%|██████████████████████████████████████████████████████████████████████████████████████████████| 300/300 [00:16<00:00, 17.94it/s]\n",
      "100%|██████████████████████████████████████████████████████████████████████████████████████████████| 300/300 [00:17<00:00, 17.27it/s]\n",
      "100%|██████████████████████████████████████████████████████████████████████████████████████████████| 300/300 [00:17<00:00, 17.34it/s]\n",
      "100%|██████████████████████████████████████████████████████████████████████████████████████████████| 300/300 [00:18<00:00, 16.53it/s]\n",
      "100%|██████████████████████████████████████████████████████████████████████████████████████████████| 300/300 [00:17<00:00, 16.97it/s]\n",
      "100%|██████████████████████████████████████████████████████████████████████████████████████████████| 300/300 [00:17<00:00, 17.02it/s]\n",
      "100%|██████████████████████████████████████████████████████████████████████████████████████████████| 300/300 [00:18<00:00, 16.35it/s]\n",
      "100%|██████████████████████████████████████████████████████████████████████████████████████████████| 300/300 [00:18<00:00, 16.45it/s]\n",
      "100%|██████████████████████████████████████████████████████████████████████████████████████████████| 300/300 [00:18<00:00, 16.00it/s]\n",
      "100%|██████████████████████████████████████████████████████████████████████████████████████████████| 300/300 [00:18<00:00, 16.60it/s]\n",
      "100%|██████████████████████████████████████████████████████████████████████████████████████████████| 300/300 [00:18<00:00, 16.39it/s]\n",
      "100%|██████████████████████████████████████████████████████████████████████████████████████████████| 300/300 [00:19<00:00, 15.31it/s]\n",
      "100%|██████████████████████████████████████████████████████████████████████████████████████████████| 300/300 [00:18<00:00, 16.06it/s]\n",
      "100%|██████████████████████████████████████████████████████████████████████████████████████████████| 300/300 [00:19<00:00, 15.32it/s]\n",
      "100%|██████████████████████████████████████████████████████████████████████████████████████████████| 300/300 [00:18<00:00, 15.89it/s]\n",
      "100%|██████████████████████████████████████████████████████████████████████████████████████████████| 300/300 [00:18<00:00, 16.04it/s]\n",
      "100%|██████████████████████████████████████████████████████████████████████████████████████████████| 300/300 [00:18<00:00, 16.21it/s]\n",
      " 60%|████████████████████████████████████████████████████████                                      | 179/300 [00:11<00:08, 15.09it/s]Process ForkPoolWorker-121:\n",
      "Traceback (most recent call last):\n",
      "Process ForkPoolWorker-125:\n",
      "Process ForkPoolWorker-123:\n",
      "Process ForkPoolWorker-122:\n",
      "Traceback (most recent call last):\n",
      "  File \"/home/anujm/miniconda3/envs/Project/lib/python3.11/multiprocessing/process.py\", line 314, in _bootstrap\n",
      "    self.run()\n",
      "Process ForkPoolWorker-126:\n",
      "Process ForkPoolWorker-124:\n",
      "Traceback (most recent call last):\n",
      "Traceback (most recent call last):\n",
      "\n"
     ]
    },
    {
     "ename": "KeyboardInterrupt",
     "evalue": "",
     "output_type": "error",
     "traceback": [
      "\u001b[0;31m---------------------------------------------------------------------------\u001b[0m",
      "\u001b[0;31mIndexError\u001b[0m                                Traceback (most recent call last)",
      "File \u001b[0;32m~/miniconda3/envs/Project/lib/python3.11/multiprocessing/pool.py:856\u001b[0m, in \u001b[0;36mIMapIterator.next\u001b[0;34m(self, timeout)\u001b[0m\n\u001b[1;32m    855\u001b[0m \u001b[38;5;28;01mtry\u001b[39;00m:\n\u001b[0;32m--> 856\u001b[0m     item \u001b[38;5;241m=\u001b[39m \u001b[38;5;28mself\u001b[39m\u001b[38;5;241m.\u001b[39m_items\u001b[38;5;241m.\u001b[39mpopleft()\n\u001b[1;32m    857\u001b[0m \u001b[38;5;28;01mexcept\u001b[39;00m \u001b[38;5;167;01mIndexError\u001b[39;00m:\n",
      "\u001b[0;31mIndexError\u001b[0m: pop from an empty deque",
      "\nDuring handling of the above exception, another exception occurred:\n",
      "\u001b[0;31mKeyboardInterrupt\u001b[0m                         Traceback (most recent call last)",
      "Cell \u001b[0;32mIn[14], line 34\u001b[0m\n\u001b[1;32m     32\u001b[0m \u001b[38;5;28;01mfor\u001b[39;00m i \u001b[38;5;129;01min\u001b[39;00m \u001b[38;5;28mrange\u001b[39m(\u001b[38;5;241m0\u001b[39m, \u001b[38;5;28mlen\u001b[39m(mp4_files), batch_size):\n\u001b[1;32m     33\u001b[0m     batch \u001b[38;5;241m=\u001b[39m mp4_files[i:i \u001b[38;5;241m+\u001b[39m batch_size]  \u001b[38;5;66;03m# Get a batch of files\u001b[39;00m\n\u001b[0;32m---> 34\u001b[0m     all_landmarks\u001b[38;5;241m.\u001b[39mextend(\u001b[43mprocess_mp4\u001b[49m\u001b[43m(\u001b[49m\u001b[43mbatch\u001b[49m\u001b[43m)\u001b[49m)\n\u001b[1;32m     36\u001b[0m \u001b[38;5;28mlen\u001b[39m(all_landmarks)\n",
      "Cell \u001b[0;32mIn[14], line 23\u001b[0m, in \u001b[0;36mprocess_mp4\u001b[0;34m(mp4_files)\u001b[0m\n\u001b[1;32m     21\u001b[0m \u001b[38;5;66;03m# Use ProcessPool for CPU-bound processing.\u001b[39;00m\n\u001b[1;32m     22\u001b[0m \u001b[38;5;28;01mwith\u001b[39;00m multiprocessing\u001b[38;5;241m.\u001b[39mPool(num_processes) \u001b[38;5;28;01mas\u001b[39;00m pool:\n\u001b[0;32m---> 23\u001b[0m \u001b[43m    \u001b[49m\u001b[38;5;28;43;01mfor\u001b[39;49;00m\u001b[43m \u001b[49m\u001b[43mlandmarks\u001b[49m\u001b[43m \u001b[49m\u001b[38;5;129;43;01min\u001b[39;49;00m\u001b[43m \u001b[49m\u001b[43mtqdm\u001b[49m\u001b[43m(\u001b[49m\u001b[43mpool\u001b[49m\u001b[38;5;241;43m.\u001b[39;49m\u001b[43mimap_unordered\u001b[49m\u001b[43m(\u001b[49m\u001b[43mvideo_processing\u001b[49m\u001b[43m,\u001b[49m\u001b[43m \u001b[49m\u001b[43mframes\u001b[49m\u001b[43m)\u001b[49m\u001b[43m,\u001b[49m\u001b[43m \u001b[49m\u001b[43mtotal\u001b[49m\u001b[38;5;241;43m=\u001b[39;49m\u001b[38;5;28;43mlen\u001b[39;49m\u001b[43m(\u001b[49m\u001b[43mmp4_files\u001b[49m\u001b[43m)\u001b[49m\u001b[43m)\u001b[49m\u001b[43m:\u001b[49m\n\u001b[1;32m     24\u001b[0m \u001b[43m        \u001b[49m\u001b[43mlandmarks_array\u001b[49m\u001b[38;5;241;43m.\u001b[39;49m\u001b[43mappend\u001b[49m\u001b[43m(\u001b[49m\u001b[43mlandmarks\u001b[49m\u001b[43m)\u001b[49m\n\u001b[1;32m     26\u001b[0m \u001b[38;5;28;01mreturn\u001b[39;00m landmarks_array\n",
      "File \u001b[0;32m~/miniconda3/envs/Project/lib/python3.11/site-packages/tqdm/std.py:1182\u001b[0m, in \u001b[0;36mtqdm.__iter__\u001b[0;34m(self)\u001b[0m\n\u001b[1;32m   1179\u001b[0m time \u001b[38;5;241m=\u001b[39m \u001b[38;5;28mself\u001b[39m\u001b[38;5;241m.\u001b[39m_time\n\u001b[1;32m   1181\u001b[0m \u001b[38;5;28;01mtry\u001b[39;00m:\n\u001b[0;32m-> 1182\u001b[0m \u001b[43m    \u001b[49m\u001b[38;5;28;43;01mfor\u001b[39;49;00m\u001b[43m \u001b[49m\u001b[43mobj\u001b[49m\u001b[43m \u001b[49m\u001b[38;5;129;43;01min\u001b[39;49;00m\u001b[43m \u001b[49m\u001b[43miterable\u001b[49m\u001b[43m:\u001b[49m\n\u001b[1;32m   1183\u001b[0m \u001b[43m        \u001b[49m\u001b[38;5;28;43;01myield\u001b[39;49;00m\u001b[43m \u001b[49m\u001b[43mobj\u001b[49m\n\u001b[1;32m   1184\u001b[0m \u001b[43m        \u001b[49m\u001b[38;5;66;43;03m# Update and possibly print the progressbar.\u001b[39;49;00m\n\u001b[1;32m   1185\u001b[0m \u001b[43m        \u001b[49m\u001b[38;5;66;43;03m# Note: does not call self.update(1) for speed optimisation.\u001b[39;49;00m\n",
      "File \u001b[0;32m~/miniconda3/envs/Project/lib/python3.11/multiprocessing/pool.py:861\u001b[0m, in \u001b[0;36mIMapIterator.next\u001b[0;34m(self, timeout)\u001b[0m\n\u001b[1;32m    859\u001b[0m     \u001b[38;5;28mself\u001b[39m\u001b[38;5;241m.\u001b[39m_pool \u001b[38;5;241m=\u001b[39m \u001b[38;5;28;01mNone\u001b[39;00m\n\u001b[1;32m    860\u001b[0m     \u001b[38;5;28;01mraise\u001b[39;00m \u001b[38;5;167;01mStopIteration\u001b[39;00m \u001b[38;5;28;01mfrom\u001b[39;00m \u001b[38;5;28;01mNone\u001b[39;00m\n\u001b[0;32m--> 861\u001b[0m \u001b[38;5;28;43mself\u001b[39;49m\u001b[38;5;241;43m.\u001b[39;49m\u001b[43m_cond\u001b[49m\u001b[38;5;241;43m.\u001b[39;49m\u001b[43mwait\u001b[49m\u001b[43m(\u001b[49m\u001b[43mtimeout\u001b[49m\u001b[43m)\u001b[49m\n\u001b[1;32m    862\u001b[0m \u001b[38;5;28;01mtry\u001b[39;00m:\n\u001b[1;32m    863\u001b[0m     item \u001b[38;5;241m=\u001b[39m \u001b[38;5;28mself\u001b[39m\u001b[38;5;241m.\u001b[39m_items\u001b[38;5;241m.\u001b[39mpopleft()\n",
      "File \u001b[0;32m~/miniconda3/envs/Project/lib/python3.11/threading.py:320\u001b[0m, in \u001b[0;36mCondition.wait\u001b[0;34m(self, timeout)\u001b[0m\n\u001b[1;32m    318\u001b[0m \u001b[38;5;28;01mtry\u001b[39;00m:    \u001b[38;5;66;03m# restore state no matter what (e.g., KeyboardInterrupt)\u001b[39;00m\n\u001b[1;32m    319\u001b[0m     \u001b[38;5;28;01mif\u001b[39;00m timeout \u001b[38;5;129;01mis\u001b[39;00m \u001b[38;5;28;01mNone\u001b[39;00m:\n\u001b[0;32m--> 320\u001b[0m         \u001b[43mwaiter\u001b[49m\u001b[38;5;241;43m.\u001b[39;49m\u001b[43macquire\u001b[49m\u001b[43m(\u001b[49m\u001b[43m)\u001b[49m\n\u001b[1;32m    321\u001b[0m         gotit \u001b[38;5;241m=\u001b[39m \u001b[38;5;28;01mTrue\u001b[39;00m\n\u001b[1;32m    322\u001b[0m     \u001b[38;5;28;01melse\u001b[39;00m:\n",
      "\u001b[0;31mKeyboardInterrupt\u001b[0m: "
     ]
    }
   ],
   "source": [
    "import gc\n",
    "import multiprocessing\n",
    "import concurrent.futures\n",
    "from tqdm import tqdm\n",
    "import cv2\n",
    "\n",
    "# Define the number of processes to use for parallelism.\n",
    "num_processes = multiprocessing.cpu_count() - 1\n",
    "\n",
    "def video_processing(frames):\n",
    "    landmarks = generate_video_landmarks(frames)\n",
    "    return landmarks_interpolation(landmarks)\n",
    "\n",
    "def process_mp4_batch(mp4_files):\n",
    "    landmarks_array = []\n",
    "\n",
    "    with concurrent.futures.ThreadPoolExecutor() as thread_executor:\n",
    "        frames = list(thread_executor.map(load_video, mp4_files))\n",
    "\n",
    "    batch_size = 10  # Adjust this value based on your memory constraints\n",
    "\n",
    "    for i in range(0, len(frames), batch_size):\n",
    "        batch_frames = frames[i:i + batch_size]\n",
    "        with multiprocessing.Pool(num_processes) as pool:\n",
    "            batch_landmarks = list(tqdm(pool.imap_unordered(video_processing, batch_frames), total=len(batch_frames)))\n",
    "\n",
    "        landmarks_array.extend(batch_landmarks)\n",
    "\n",
    "        # Explicitly trigger garbage collection after processing each batch\n",
    "        gc.collect()\n",
    "\n",
    "    return landmarks_array\n",
    "\n",
    "def main():\n",
    "    batch_size = 300\n",
    "    mp4_files = get_mp4()\n",
    "    all_landmarks = []\n",
    "\n",
    "    with concurrent.futures.ProcessPoolExecutor() as executor:\n",
    "        futures = []\n",
    "        for i in range(0, len(mp4_files), batch_size):\n",
    "            batch = mp4_files[i:i + batch_size]\n",
    "            future = executor.submit(process_mp4_batch, batch)\n",
    "            futures.append(future)\n",
    "\n",
    "        # Collect results\n",
    "        for future in concurrent.futures.as_completed(futures):\n",
    "            all_landmarks.extend(future.result())\n",
    "\n",
    "    return all_landmarks\n",
    "\n",
    "all_landmarks = main()\n"
   ]
  },
  {
   "cell_type": "code",
   "execution_count": 24,
   "id": "75df8fb2-299a-4660-9917-84e4c7805dae",
   "metadata": {},
   "outputs": [
    {
     "ename": "ValueError",
     "evalue": "setting an array element with a sequence. The requested array has an inhomogeneous shape after 2 dimensions. The detected shape was (19646, 29) + inhomogeneous part.",
     "output_type": "error",
     "traceback": [
      "\u001b[0;31m---------------------------------------------------------------------------\u001b[0m",
      "\u001b[0;31mValueError\u001b[0m                                Traceback (most recent call last)",
      "Cell \u001b[0;32mIn[24], line 1\u001b[0m\n\u001b[0;32m----> 1\u001b[0m landmarks_array \u001b[38;5;241m=\u001b[39m \u001b[43mnp\u001b[49m\u001b[38;5;241;43m.\u001b[39;49m\u001b[43marray\u001b[49m\u001b[43m(\u001b[49m\u001b[43mlandmarks_array\u001b[49m\u001b[43m)\u001b[49m\n",
      "\u001b[0;31mValueError\u001b[0m: setting an array element with a sequence. The requested array has an inhomogeneous shape after 2 dimensions. The detected shape was (19646, 29) + inhomogeneous part."
     ]
    }
   ],
   "source": [
    "landmarks_array = np.array(landmarks_array)"
   ]
  },
  {
   "cell_type": "code",
   "execution_count": 23,
   "id": "0c1ae127-2f54-45e1-9f6d-a5dd789e8f7b",
   "metadata": {},
   "outputs": [
    {
     "ename": "AttributeError",
     "evalue": "'list' object has no attribute 'shape'",
     "output_type": "error",
     "traceback": [
      "\u001b[0;31m---------------------------------------------------------------------------\u001b[0m",
      "\u001b[0;31mAttributeError\u001b[0m                            Traceback (most recent call last)",
      "Cell \u001b[0;32mIn[23], line 1\u001b[0m\n\u001b[0;32m----> 1\u001b[0m \u001b[43mlandmarks_array\u001b[49m\u001b[38;5;241;43m.\u001b[39;49m\u001b[43mshape\u001b[49m\n",
      "\u001b[0;31mAttributeError\u001b[0m: 'list' object has no attribute 'shape'"
     ]
    }
   ],
   "source": [
    "landmarks_array.shape"
   ]
  },
  {
   "cell_type": "code",
   "execution_count": 23,
   "id": "bcdf1b02-512c-4d4e-ab78-3c9b9aa5a7a8",
   "metadata": {},
   "outputs": [],
   "source": [
    "mean_array = np.mean(landmarks_array, axis=0)"
   ]
  },
  {
   "cell_type": "code",
   "execution_count": 24,
   "id": "be282002-6025-4be5-9289-54e8ebfb8ddb",
   "metadata": {},
   "outputs": [
    {
     "name": "stderr",
     "output_type": "stream",
     "text": [
      "/home/anujm/miniconda3/envs/Project/lib/python3.11/site-packages/numpy/core/fromnumeric.py:3504: RuntimeWarning: Mean of empty slice.\n",
      "  return _methods._mean(a, axis=axis, dtype=dtype,\n",
      "/home/anujm/miniconda3/envs/Project/lib/python3.11/site-packages/numpy/core/_methods.py:129: RuntimeWarning: invalid value encountered in scalar divide\n",
      "  ret = ret.dtype.type(ret / rcount)\n"
     ]
    }
   ],
   "source": [
    "mean_array = np.mean(mean_array, axis=0)"
   ]
  },
  {
   "cell_type": "code",
   "execution_count": null,
   "id": "88e56bef-0148-41aa-acdd-0f536d0c726c",
   "metadata": {},
   "outputs": [],
   "source": [
    "plt.scatter(mean_array[:,0], mean_array[:,1])"
   ]
  },
  {
   "cell_type": "code",
   "execution_count": null,
   "id": "b8b8f033-22b5-485e-82b0-90bbaf37d49e",
   "metadata": {},
   "outputs": [],
   "source": [
    "np.max(mean_array, axis=0)"
   ]
  },
  {
   "cell_type": "code",
   "execution_count": 25,
   "id": "c1d1848a-2357-4718-bbde-f5428ebd0402",
   "metadata": {},
   "outputs": [
    {
     "data": {
      "text/plain": [
       "[]"
      ]
     },
     "execution_count": 25,
     "metadata": {},
     "output_type": "execute_result"
    }
   ],
   "source": [
    "video = load_video(mp4_files[1])\n",
    "video"
   ]
  },
  {
   "cell_type": "code",
   "execution_count": 16,
   "id": "2c927088-edfe-4d94-af88-224828a35814",
   "metadata": {},
   "outputs": [],
   "source": [
    "mp4_files = get_mp4()"
   ]
  },
  {
   "cell_type": "code",
   "execution_count": null,
   "id": "3b76fa1f-f0f0-4505-a2c3-c9cbfab642aa",
   "metadata": {},
   "outputs": [],
   "source": []
  }
 ],
 "metadata": {
  "kernelspec": {
   "display_name": "Python 3 (ipykernel)",
   "language": "python",
   "name": "python3"
  },
  "language_info": {
   "codemirror_mode": {
    "name": "ipython",
    "version": 3
   },
   "file_extension": ".py",
   "mimetype": "text/x-python",
   "name": "python",
   "nbconvert_exporter": "python",
   "pygments_lexer": "ipython3",
   "version": "3.11.5"
  }
 },
 "nbformat": 4,
 "nbformat_minor": 5
}

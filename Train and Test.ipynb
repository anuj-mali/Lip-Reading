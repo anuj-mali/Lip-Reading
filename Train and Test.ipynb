{
 "cells": [
  {
   "cell_type": "code",
   "execution_count": 1,
   "id": "b3b1cb82-65bc-43bf-85ce-3a12ed6176db",
   "metadata": {},
   "outputs": [],
   "source": [
    "import torch\n",
    "from torch import nn\n",
    "\n",
    "import torchvision\n",
    "from torchvision.io import read_video\n",
    "\n",
    "import numpy as np\n",
    "import pandas as pd \n",
    "import os\n",
    "import random"
   ]
  },
  {
   "cell_type": "code",
   "execution_count": 2,
   "id": "9622b722-02b5-4c2b-8843-ae2aa989efa9",
   "metadata": {},
   "outputs": [
    {
     "data": {
      "text/plain": [
       "'cuda'"
      ]
     },
     "execution_count": 2,
     "metadata": {},
     "output_type": "execute_result"
    }
   ],
   "source": [
    "device = \"cuda\" if torch.cuda.is_available() else \"cpu\"\n",
    "device"
   ]
  },
  {
   "cell_type": "code",
   "execution_count": 3,
   "id": "1cc8274a-9093-4821-8086-f496df1bbe2a",
   "metadata": {},
   "outputs": [],
   "source": [
    "from torch.utils.data import Dataset\n",
    "\n",
    "class LRWDataset(Dataset):\n",
    "    def __init__(self, df, transforms=None):\n",
    "        self.df = df\n",
    "        self.transforms = transforms\n",
    "\n",
    "        self.classes = self.df['label'].unique()\n",
    "        self.class_to_idx = {classname: idx for idx, classname in enumerate(self.classes)}\n",
    "\n",
    "\n",
    "    def get_mouth_roi(self, path):\n",
    "        tokens = path.split('/')\n",
    "        label, split, filename = tokens[-3:]\n",
    "        filename = filename.split('.')[0]\n",
    "\n",
    "        roi = np.load(os.path.join('mouth/roi/', label, split, filename+'.npy'))\n",
    "        return roi, label\n",
    "\n",
    "    def __len__(self):\n",
    "        return len(self.df)\n",
    "\n",
    "    def __getitem__(self, idx):\n",
    "        path = self.df.iloc[idx]['path']\n",
    "        roi, label = self.get_mouth_roi(str(path))\n",
    "        class_idx = self.class_to_idx[label]\n",
    "\n",
    "        \n",
    "        if self.transforms:\n",
    "            return self.transforms(roi), class_idx\n",
    "\n",
    "        return roi, class_idx"
   ]
  },
  {
   "cell_type": "code",
   "execution_count": 4,
   "id": "90e8cd45-4af5-472e-80af-17f8d92efdf5",
   "metadata": {},
   "outputs": [],
   "source": [
    "from torchvision.transforms import v2\n",
    "\n",
    "data_transform = v2.Compose([\n",
    "    v2.Normalize([0.0], [255.0]),\n",
    "    # v2.Normalize(mean=[0.421], std=[0.165])\n",
    "])\n",
    "\n",
    "# Data Augmentation\n",
    "train_transform = v2.Compose([\n",
    "    v2.Normalize([0.0], [255.0]),\n",
    "    v2.RandomHorizontalFlip(p=1),\n",
    "    # v2.Normalize(mean=[0.421], std=[0.165])\n",
    "])"
   ]
  },
  {
   "cell_type": "code",
   "execution_count": 5,
   "id": "71a50818-3b71-443e-b3f1-b4b0708c75c0",
   "metadata": {},
   "outputs": [
    {
     "name": "stdout",
     "output_type": "stream",
     "text": [
      "['ALLEGATIONS', 'BUSINESSES', 'CONSERVATIVE', 'DIFFERENCE', 'EVERYTHING', 'FINANCIAL', 'GOVERNMENT', 'HAPPENING', 'IMMIGRATION', 'JUSTICE', 'KILLED', 'MANCHESTER', 'SIGNIFICANT', 'VIOLENCE', 'YESTERDAY']\n"
     ]
    }
   ],
   "source": [
    "import pandas as pd\n",
    "\n",
    "train_df = pd.read_pickle(\"dataframe/train_df_complete.pkl\")\n",
    "test_df = pd.read_pickle(\"dataframe/test_df_complete.pkl\")\n",
    "val_df = pd.read_pickle(\"dataframe/val_df_complete.pkl\")\n",
    "\n",
    "labels = ['ALLEGATIONS', 'BUSINESSES', 'CONSERVATIVE', 'DIFFERENCE', 'EVERYTHING', 'FINANCIAL', 'GOVERNMENT', 'HAPPENING','IMMIGRATION', 'JUSTICE', 'KILLED', 'MANCHESTER', 'SIGNIFICANT', 'VIOLENCE', 'YESTERDAY']\n",
    "print(labels)\n",
    "train_df_2 = train_df[train_df['label'].isin(labels)].copy()\n",
    "test_df_2 = test_df[test_df['label'].isin(labels)]\n",
    "val_df_2 = val_df[val_df['label'].isin(labels)]"
   ]
  },
  {
   "cell_type": "code",
   "execution_count": 6,
   "id": "94882874-511c-425b-a4ce-433183c9fe52",
   "metadata": {},
   "outputs": [],
   "source": [
    "train_data = LRWDataset(df=train_df_2, transforms=data_transform)\n",
    "test_data = LRWDataset(df=test_df_2, transforms=data_transform)\n",
    "val_data = LRWDataset(df=val_df_2, transforms=data_transform)"
   ]
  },
  {
   "cell_type": "code",
   "execution_count": 7,
   "id": "8d167091-f139-4bd1-981a-fd9474f64146",
   "metadata": {},
   "outputs": [],
   "source": [
    "custom_df = pd.read_pickle('dataframe/custom.pkl')\n",
    "custom_test_df = pd.read_pickle('dataframe/custom_test.pkl')"
   ]
  },
  {
   "cell_type": "code",
   "execution_count": 8,
   "id": "b3aae6dd-bdaa-4021-b607-75db032e7610",
   "metadata": {},
   "outputs": [],
   "source": [
    "from torch.utils.data import Dataset\n",
    "\n",
    "class LRWDatasetCustom(Dataset):\n",
    "    def __init__(self, df, transforms=None):\n",
    "        self.df = df\n",
    "        self.transforms = transforms\n",
    "\n",
    "        self.classes = self.df['label'].unique()\n",
    "        self.class_to_idx = {classname: idx for idx, classname in enumerate(self.classes)}\n",
    "\n",
    "\n",
    "    def get_mouth_roi(self, path):\n",
    "        tokens = path.split('/')\n",
    "        label, filename = tokens[-2:]\n",
    "        filename = filename.split('.')[0]\n",
    "        split = 'train'\n",
    "        roi = np.load(os.path.join('mouth/roi/', label, split, filename+'.npy'))\n",
    "        return roi, label\n",
    "\n",
    "    def __len__(self):\n",
    "        return len(self.df)\n",
    "\n",
    "    def __getitem__(self, idx):\n",
    "        path = self.df.iloc[idx]['path']\n",
    "        # duration = self.df.iloc[idx]['duration']\n",
    "        roi, label = self.get_mouth_roi(str(path))\n",
    "        class_idx = self.class_to_idx[label]\n",
    "\n",
    "        # roi = self._apply_variable_length_aug(roi, duration)\n",
    "        \n",
    "        if self.transforms:\n",
    "            return self.transforms(roi), class_idx\n",
    "\n",
    "        return roi, class_idx"
   ]
  },
  {
   "cell_type": "code",
   "execution_count": 9,
   "id": "57f0cc86-483c-4667-a024-5eb3dbbfa015",
   "metadata": {},
   "outputs": [],
   "source": [
    "from torch.utils.data import Dataset\n",
    "\n",
    "class LRWDatasetCustomTest(Dataset):\n",
    "    def __init__(self, df, transforms=None):\n",
    "        self.df = df\n",
    "        self.transforms = transforms\n",
    "\n",
    "        self.classes = self.df['label'].unique()\n",
    "        self.class_to_idx = {classname: idx for idx, classname in enumerate(self.classes)}\n",
    "\n",
    "\n",
    "    def get_mouth_roi(self, path):\n",
    "        tokens = path.split('/')\n",
    "        label, filename = tokens[-2:]\n",
    "        filename = filename.split('.')[0]\n",
    "        split = 'test'\n",
    "        roi = np.load(os.path.join('mouth/roi/', label, split, filename+'.npy'))\n",
    "        return roi, label\n",
    "\n",
    "    def __len__(self):\n",
    "        return len(self.df)\n",
    "\n",
    "    def __getitem__(self, idx):\n",
    "        path = self.df.iloc[idx]['path']\n",
    "        # duration = self.df.iloc[idx]['duration']\n",
    "        roi, label = self.get_mouth_roi(str(path))\n",
    "        class_idx = self.class_to_idx[label]\n",
    "\n",
    "        # roi = self._apply_variable_length_aug(roi, duration)\n",
    "        \n",
    "        if self.transforms:\n",
    "            return self.transforms(roi), class_idx\n",
    "\n",
    "        return roi, class_idx"
   ]
  },
  {
   "cell_type": "code",
   "execution_count": 10,
   "id": "e3224df4-dfe9-4551-970b-36833e03deba",
   "metadata": {},
   "outputs": [],
   "source": [
    "custom_data = LRWDatasetCustom(df=custom_df, transforms=data_transform)\n",
    "custom_data_flipped = LRWDatasetCustom(df=custom_df, transforms=train_transform)"
   ]
  },
  {
   "cell_type": "code",
   "execution_count": 11,
   "id": "bd9ce7fa-b8ff-4f43-8e08-f059c3a4d175",
   "metadata": {},
   "outputs": [],
   "source": [
    "custom_data_test = LRWDatasetCustomTest(df=custom_test_df, transforms=data_transform)\n",
    "custom_data_test_flipped = LRWDatasetCustomTest(df=custom_test_df, transforms=train_transform)"
   ]
  },
  {
   "cell_type": "code",
   "execution_count": 12,
   "id": "b9d17f1e-ffed-4a90-bde3-0155ff9b9885",
   "metadata": {},
   "outputs": [],
   "source": [
    "from torch.utils.data import ConcatDataset\n",
    "\n",
    "concat_dataset = ConcatDataset([train_data, custom_data, custom_data_flipped])\n",
    "custom_test_concat = ConcatDataset([custom_data_test, custom_data_test_flipped])\n",
    "custom_concat = ConcatDataset([custom_data, custom_data_flipped])"
   ]
  },
  {
   "cell_type": "code",
   "execution_count": 13,
   "id": "83d273dc-9bd4-444a-a2c6-78576e7da579",
   "metadata": {},
   "outputs": [],
   "source": [
    "concat_val_data = ConcatDataset([val_data, custom_data_test])"
   ]
  },
  {
   "cell_type": "code",
   "execution_count": 14,
   "id": "f3a9366f-1538-420a-b3f5-cf95f1d5d7de",
   "metadata": {},
   "outputs": [],
   "source": [
    "import torch\n",
    "\n",
    "def collate_fn(batch):\n",
    "    # Sort batch by sequence length (descending order) to use with pad_sequence\n",
    "    batch.sort(key=lambda x: len(x[0]), reverse=True)\n",
    "    \n",
    "    # Separate sequences and labels\n",
    "    sequences, labels = zip(*batch)\n",
    "    \n",
    "    # Get sequence lengths\n",
    "    lengths = [len(seq) for seq in sequences]\n",
    "    \n",
    "    # Convert sequences to tensors\n",
    "    sequences_tensor = [torch.tensor(seq) for seq in sequences]\n",
    "    \n",
    "    # Pad sequences to the same length\n",
    "    padded_sequences = torch.nn.utils.rnn.pad_sequence(sequences_tensor, batch_first=True, padding_value=0)\n",
    "    \n",
    "    # Convert labels to tensor\n",
    "    labels_tensor = torch.tensor(labels)\n",
    "    \n",
    "    return padded_sequences, labels_tensor, lengths\n"
   ]
  },
  {
   "cell_type": "code",
   "execution_count": 15,
   "id": "8f3bd865-1d8d-4f6a-ac41-8bb8655037b2",
   "metadata": {},
   "outputs": [],
   "source": [
    "from torch.utils.data import DataLoader\n",
    "import os\n",
    "\n",
    "BATCH_SIZE = 5\n",
    "NUM_WORKERS = 1\n",
    "\n",
    "train_dataloader = DataLoader(dataset=concat_dataset,\n",
    "                              collate_fn=collate_fn,\n",
    "                             num_workers=NUM_WORKERS,\n",
    "                             shuffle=True,\n",
    "                             pin_memory=True,\n",
    "                             batch_size=BATCH_SIZE)\n",
    "\n",
    "test_dataloader = DataLoader(dataset=test_data,\n",
    "                            num_workers=NUM_WORKERS,\n",
    "                            shuffle=False,\n",
    "                            batch_size=BATCH_SIZE,collate_fn=collate_fn)\n",
    "\n",
    "\n",
    "val_dataloader = DataLoader(dataset=val_data,\n",
    "                            num_workers=NUM_WORKERS,\n",
    "                            shuffle=False,\n",
    "                            batch_size=BATCH_SIZE,\n",
    "                            pin_memory=True,\n",
    "                           collate_fn=collate_fn)"
   ]
  },
  {
   "cell_type": "code",
   "execution_count": 16,
   "id": "0797d854-8150-41bb-afeb-c421bf94d444",
   "metadata": {},
   "outputs": [],
   "source": [
    "from torch.utils.data import DataLoader\n",
    "import os\n",
    "\n",
    "BATCH_SIZE = 5\n",
    "NUM_WORKERS = 1\n",
    "\n",
    "custom_test_dataloader = DataLoader(dataset=custom_test_concat,\n",
    "                             num_workers=NUM_WORKERS,\n",
    "                             shuffle=False,\n",
    "                             pin_memory=True,\n",
    "                             batch_size=BATCH_SIZE,\n",
    "                              collate_fn=collate_fn\n",
    "                                   )\n",
    "\n",
    "custom_dataloader = DataLoader(dataset=custom_data,\n",
    "                             num_workers=NUM_WORKERS,\n",
    "                             shuffle=True,\n",
    "                             pin_memory=True,\n",
    "                             batch_size=BATCH_SIZE,\n",
    "                              collate_fn=collate_fn\n",
    "                                   )"
   ]
  },
  {
   "cell_type": "markdown",
   "id": "353252bb-1b9b-48b6-a3c4-c4443e844fcd",
   "metadata": {},
   "source": [
    "### Train Functions"
   ]
  },
  {
   "cell_type": "markdown",
   "id": "07c2acd5-3b2a-454a-91c0-2d64cf2510a3",
   "metadata": {
    "jp-MarkdownHeadingCollapsed": true
   },
   "source": [
    "#### Multi Cells"
   ]
  },
  {
   "cell_type": "code",
   "execution_count": 9,
   "id": "024319d2-30b3-447d-8258-168ab6bb4c46",
   "metadata": {},
   "outputs": [],
   "source": [
    "import torch\n",
    "\n",
    "from typing import Tuple, Dict, List\n",
    "from tqdm.notebook import tqdm\n",
    "\n",
    "def train_step(model: torch.nn.Module,\n",
    "              dataloader: torch.utils.data.DataLoader,\n",
    "              loss_fn: torch.nn.Module,\n",
    "              optimizer: torch.optim.Optimizer,\n",
    "              epoch: int = None,\n",
    "               scheduler: torch.optim.Optimizer = None,\n",
    "              device: torch.device='cpu') -> Tuple[float, float, List[float], List[float]]:\n",
    "\n",
    "    \"\"\"This function defines the training step for a model.\n",
    "    \n",
    "    Args:\n",
    "        model (torch.nn.Module): The model that is to be trained.\n",
    "        dataloader (torch.utils.data.DataLoader): The training dataloader\n",
    "        loss_fn (torch.nn.Module): Loss function to evaluate the model\n",
    "        optimizer (torch.optim.Optimizer): Optimizer for updating the model parameters.\n",
    "        device (torch.device): The device used to train the model. Default='cpu'\n",
    "\n",
    "    Returns:\n",
    "        A tuple consisting the train loss and accuracy for an epoch.\n",
    "\n",
    "        Example Usage: train_loss, train_acc = train_step(model=model, dataloader=train_dataloader, loss_fn=loss_fn, optimizer=optimizer, device=device)\n",
    "    \"\"\"\n",
    "\n",
    "    model.train()\n",
    "    train_loss = 0\n",
    "    train_acc = 0\n",
    "    batch_lr = []\n",
    "    batch_train_loss = []\n",
    "    batch_train_acc = []\n",
    "\n",
    "    iters = len(dataloader)\n",
    "    \n",
    "    for batch,(X,y) in enumerate(tqdm(dataloader, desc=\"Train\")):\n",
    "        X,y = X.to(device), y.to(device)\n",
    "        X = X.unsqueeze(dim=1)\n",
    "        X = X.type(torch.float32)\n",
    "        \n",
    "        # Optimizer zero grad\n",
    "        optimizer.zero_grad()\n",
    "        # Forward pass\n",
    "        y_logits = model(X)\n",
    "\n",
    "        # Calculate loss\n",
    "        loss = loss_fn(y_logits, y)\n",
    "        train_loss += loss.item()\n",
    "        batch_train_loss.append(loss.item())\n",
    "\n",
    "        # Back Propagation\n",
    "        loss.backward()\n",
    "\n",
    "        # Optimizer Step\n",
    "        optimizer.step()\n",
    "\n",
    "        if scheduler:\n",
    "            batch_lr.append(scheduler.get_last_lr())\n",
    "            # scheduler.step(epoch + batch / iters)\n",
    "            scheduler.step()\n",
    "\n",
    "        # Calculate and accumulate accuracy metric across all batches\n",
    "        y_pred_class = torch.argmax(torch.softmax(y_logits, dim=1), dim=1)\n",
    "        acc = (y_pred_class == y).sum().item()/len(y_logits)\n",
    "        train_acc += acc\n",
    "        batch_train_acc.append(acc)\n",
    "\n",
    "    train_loss = train_loss/len(dataloader)\n",
    "    train_acc = train_acc/len(dataloader)\n",
    "    return train_loss, train_acc, batch_lr, batch_train_loss, batch_train_acc"
   ]
  },
  {
   "cell_type": "code",
   "execution_count": 10,
   "id": "5c654793-357c-4a8c-8565-0fc0b1371015",
   "metadata": {},
   "outputs": [],
   "source": [
    "def val_step(model: torch.nn.Module,\n",
    "              dataloader: torch.utils.data.DataLoader,\n",
    "              loss_fn: torch.nn.Module,\n",
    "              device: torch.device='cpu') -> Tuple[float, float, List[float], List[float]]:\n",
    "    \"\"\"This function defines the validation step for a model.\n",
    "    \n",
    "    Args:\n",
    "        model (torch.nn.Module): The model that is to be validated.\n",
    "        dataloader (torch.utils.data.DataLoader): The validation dataloader\n",
    "        loss_fn (torch.nn.Module): Loss function to evaluate the model\n",
    "        device (torch.device): The device used to train the model. Default='cpu'\n",
    "\n",
    "    Returns:\n",
    "        A tuple consisting the validation loss and accuracy for an epoch.\n",
    "\n",
    "        Example Usage: val_loss, val_acc = val_step(model=model, dataloader=val_dataloader, loss_fn=loss_fn, device=device)\n",
    "    \"\"\"\n",
    "    model.eval()\n",
    "    val_loss = 0\n",
    "    val_acc = 0\n",
    "    batch_val_loss = []\n",
    "    batch_val_acc = []\n",
    "\n",
    "    with torch.inference_mode():\n",
    "        for batch,(X,y) in enumerate(tqdm(dataloader, desc=\"Val\")):\n",
    "            X,y = X.to(device), y.to(device)\n",
    "            X = X.unsqueeze(dim=1)\n",
    "            X = X.type(torch.float32)\n",
    "            \n",
    "            # Forward pass\n",
    "            y_logits = model(X)\n",
    "    \n",
    "            # Calculate loss\n",
    "            loss = loss_fn(y_logits, y)\n",
    "            val_loss += loss.item()\n",
    "            batch_val_loss.append(loss.item())\n",
    "\n",
    "            # Calculate and accumulate accuracy\n",
    "            y_labels = y_logits.argmax(dim=1)\n",
    "            acc = ((y_labels == y).sum().item()/len(y_labels))\n",
    "            val_acc += acc\n",
    "            batch_val_acc.append(acc)\n",
    "\n",
    "    val_loss = val_loss/len(dataloader)\n",
    "    val_acc = val_acc/len(dataloader)\n",
    "    return val_loss, val_acc, batch_val_loss, batch_val_acc"
   ]
  },
  {
   "cell_type": "code",
   "execution_count": 11,
   "id": "1ebad83d-d1fa-443f-b47f-dce159bac984",
   "metadata": {},
   "outputs": [],
   "source": [
    "def train(model: torch.nn.Module,\n",
    "         train_dataloader: torch.utils.data.DataLoader,\n",
    "         val_dataloader: torch.utils.data.DataLoader,\n",
    "         loss_fn: torch.nn.Module,\n",
    "         optimizer: torch.optim.Optimizer,\n",
    "         epoch_lr_scheduler: torch.optim.Optimizer = None,\n",
    "         epochs: int = 32,\n",
    "          batch_lr_scheduler: torch.optim.Optimizer = None,\n",
    "          batch_size: int = 24,\n",
    "         device: torch.device = 'cpu') -> Dict[str, List[float]]:\n",
    "    \"\"\"This function defines the training functionality of the model.\n",
    "    \n",
    "    Args:\n",
    "        model (torch.nn.Module): The model that is to be trained.\n",
    "        train_dataloader (torch.utils.data.DataLoader): The training dataloader\n",
    "        val_dataloader (torch.utils.data.DataLoader): The validation dataloader\n",
    "        loss_fn (torch.nn.Module): Loss function to evaluate the model\n",
    "        optimizer (torch.optim.Optimizer): Optimizer for updating the model parameters.\n",
    "        epochs (int): Number of epochs. Default=32\n",
    "        device (torch.device): The device used to train the model. Default='cpu'\n",
    "\n",
    "    Returns:\n",
    "        A tuple consisting the train loss and accuracy for an epoch.\n",
    "\n",
    "        Example Usage: train_loss, train_acc, val_loss, val_acc = train(model=model, train_dataloader=train_dataloader, val_dataloader=val_dataloader, loss_fn=loss_fn,\n",
    "                                                                        optimizer=optimizer, epochs=32, device=device)\n",
    "    \"\"\"\n",
    "    CHECKPOINT_PATH = 'checkpoint/'\n",
    "    \n",
    "    model_results = {'model_name': model.__class__.__name__,\n",
    "                    'train_loss': [],\n",
    "                    'train_acc': [],\n",
    "                    'val_loss': [],\n",
    "                    'val_acc': [],\n",
    "                     'batch_lr': [],\n",
    "                    'batch_size': batch_size,\n",
    "                    'train_dataset_len': len(train_dataloader.dataset),\n",
    "                    'val_dataset_len': len(val_dataloader.dataset)}\n",
    "    \n",
    "    for epoch in tqdm(range(epochs)):\n",
    "        train_loss, train_acc, batch_lr, batch_train_loss, batch_train_acc =  train_step(model=model,\n",
    "                                                                    dataloader=train_dataloader,\n",
    "                                                                    loss_fn=loss_fn,\n",
    "                                                                    optimizer=optimizer,\n",
    "                                                                    scheduler=batch_lr_scheduler,\n",
    "                                                                    epoch=epoch,\n",
    "                                                                    device=device)\n",
    "        \n",
    "        val_loss, val_acc, batch_val_loss, batch_val_acc = val_step(model=model,\n",
    "                                                                   dataloader=val_dataloader,\n",
    "                                                                   loss_fn=loss_fn,\n",
    "                                                                   device=device)\n",
    "        if epoch_lr_scheduler is not None:\n",
    "            epoch_lr_scheduler.step()\n",
    "        \n",
    "        model_results['train_loss'].extend(batch_train_loss)\n",
    "        model_results['train_acc'].extend(batch_train_acc)\n",
    "        model_results['val_loss'].extend(batch_val_loss)\n",
    "        model_results['val_acc'].extend(batch_val_acc)\n",
    "        model_results['batch_lr'].extend(batch_lr)\n",
    "        print(f\"Epoch: {epoch} | Train Loss: {train_loss:.2f} | Train Acc: {train_acc*100:.2f}% | Val Loss: {val_loss:.2f} | Val Acc: {val_acc*100:.2f}%\")\n",
    "\n",
    "        if (epoch+1) % 5 == 0:\n",
    "            filename = f'{model.__class__.__name__}_{epoch+1}.pth'\n",
    "            save_path = CHECKPOINT_PATH + filename\n",
    "            \n",
    "            torch.save(obj=model.state_dict(), f=save_path)\n",
    "    model_results['optimizer_params'] = optimizer.state_dict()\n",
    "    np.savez(file=f\"results/{model.__class__.__name__}.npz\", arr=model_results)\n",
    "    return model_results"
   ]
  },
  {
   "cell_type": "markdown",
   "id": "e47466fb-301a-4658-816c-0730a441a54f",
   "metadata": {},
   "source": [
    "#### Compiled"
   ]
  },
  {
   "cell_type": "code",
   "execution_count": 17,
   "id": "07b1929e-f44d-4c2f-90d2-f624538cad95",
   "metadata": {},
   "outputs": [],
   "source": [
    "import torch\n",
    "\n",
    "from typing import Tuple, Dict, List\n",
    "from tqdm.notebook import tqdm\n",
    "\n",
    "def train_step(model: torch.nn.Module,\n",
    "              dataloader: torch.utils.data.DataLoader,\n",
    "              loss_fn: torch.nn.Module,\n",
    "              optimizer: torch.optim.Optimizer,\n",
    "              epoch: int = None,\n",
    "               scheduler: torch.optim.lr_scheduler._LRScheduler = None,\n",
    "              device: torch.device='cpu') -> Tuple[float, float, List[float], List[float]]:\n",
    "\n",
    "    model.train()\n",
    "    train_loss = 0\n",
    "    train_acc = 0\n",
    "    batch_lr = []\n",
    "    batch_train_loss = []\n",
    "    batch_train_acc = []\n",
    "\n",
    "    iters = len(dataloader)\n",
    "    \n",
    "    for batch,(X,y,lengths) in enumerate(tqdm(dataloader, desc=\"Train\")):\n",
    "        X,y = X.to(device), y.to(device)\n",
    "        X = X.unsqueeze(dim=1)\n",
    "        X = X.type(torch.float32)\n",
    "        \n",
    "        # Optimizer zero grad\n",
    "        optimizer.zero_grad()\n",
    "        # Forward pass\n",
    "        y_logits = model(X, lengths)\n",
    "\n",
    "        # Calculate loss\n",
    "        loss = loss_fn(y_logits, y)\n",
    "        train_loss += loss.item()\n",
    "        batch_train_loss.append(loss.item())\n",
    "\n",
    "        # Back Propagation\n",
    "        loss.backward()\n",
    "\n",
    "        # Optimizer Step\n",
    "        optimizer.step()\n",
    "\n",
    "        if scheduler:\n",
    "            batch_lr.append(scheduler.get_last_lr()[0])\n",
    "            # scheduler.step(epoch + batch / iters)\n",
    "            scheduler.step()\n",
    "\n",
    "        # Calculate and accumulate accuracy metric across all batches\n",
    "        y_pred_class = torch.argmax(torch.softmax(y_logits, dim=1), dim=1)\n",
    "        acc = (y_pred_class == y).sum().item()/len(y_logits)\n",
    "        train_acc += acc\n",
    "        batch_train_acc.append(acc)\n",
    "\n",
    "    train_loss = train_loss/len(dataloader)\n",
    "    train_acc = train_acc/len(dataloader)\n",
    "    return train_loss, train_acc, batch_lr, batch_train_loss, batch_train_acc\n",
    "\n",
    "\n",
    "def val_step(model: torch.nn.Module,\n",
    "              dataloader: torch.utils.data.DataLoader,\n",
    "              loss_fn: torch.nn.Module,\n",
    "              device: torch.device='cpu') -> Tuple[float, float, List[float], List[float]]:\n",
    "    \"\"\"This function defines the validation step for a model.\n",
    "    \n",
    "    Args:\n",
    "        model (torch.nn.Module): The model that is to be validated.\n",
    "        dataloader (torch.utils.data.DataLoader): The validation dataloader\n",
    "        loss_fn (torch.nn.Module): Loss function to evaluate the model\n",
    "        device (torch.device): The device used to train the model. Default='cpu'\n",
    "\n",
    "    Returns:\n",
    "        A tuple consisting the validation loss and accuracy for an epoch.\n",
    "\n",
    "        Example Usage: val_loss, val_acc = val_step(model=model, dataloader=val_dataloader, loss_fn=loss_fn, device=device)\n",
    "    \"\"\"\n",
    "    model.eval()\n",
    "    val_loss = 0\n",
    "    val_acc = 0\n",
    "    batch_val_loss = []\n",
    "    batch_val_acc = []\n",
    "\n",
    "    with torch.inference_mode():\n",
    "        for batch,(X,y,lengths) in enumerate(tqdm(dataloader, desc=\"Val\")):\n",
    "            X,y = X.to(device), y.to(device)\n",
    "            X = X.unsqueeze(dim=1)\n",
    "            X = X.type(torch.float32)\n",
    "            \n",
    "            # Forward pass\n",
    "            y_logits = model(X, lengths)\n",
    "    \n",
    "            # Calculate loss\n",
    "            loss = loss_fn(y_logits, y)\n",
    "            val_loss += loss.item()\n",
    "            batch_val_loss.append(loss.item())\n",
    "\n",
    "            # Calculate and accumulate accuracy\n",
    "            y_labels = y_logits.argmax(dim=1)\n",
    "            acc = ((y_labels == y).sum().item()/len(y_labels))\n",
    "            val_acc += acc\n",
    "            batch_val_acc.append(acc)\n",
    "\n",
    "    val_loss = val_loss/len(dataloader)\n",
    "    val_acc = val_acc/len(dataloader)\n",
    "    return val_loss, val_acc, batch_val_loss, batch_val_acc\n",
    "\n",
    "\n",
    "def train(model: torch.nn.Module,\n",
    "         train_dataloader: torch.utils.data.DataLoader,\n",
    "         val_dataloader: torch.utils.data.DataLoader,\n",
    "         loss_fn: torch.nn.Module,\n",
    "         optimizer: torch.optim.Optimizer,\n",
    "         epoch_lr_scheduler: torch.optim.lr_scheduler._LRScheduler = None,\n",
    "         epochs: int = 32,\n",
    "          batch_lr_scheduler: torch.optim.lr_scheduler._LRScheduler = None,\n",
    "          batch_size: int = 24,\n",
    "         device: torch.device = 'cpu') -> Dict[str, List[float]]:\n",
    "    \"\"\"This function defines the training functionality of the model.\n",
    "    \n",
    "    Args:\n",
    "        model (torch.nn.Module): The model that is to be trained.\n",
    "        train_dataloader (torch.utils.data.DataLoader): The training dataloader\n",
    "        val_dataloader (torch.utils.data.DataLoader): The validation dataloader\n",
    "        loss_fn (torch.nn.Module): Loss function to evaluate the model\n",
    "        optimizer (torch.optim.Optimizer): Optimizer for updating the model parameters.\n",
    "        epochs (int): Number of epochs. Default=32\n",
    "        device (torch.device): The device used to train the model. Default='cpu'\n",
    "\n",
    "    Returns:\n",
    "        A tuple consisting the train loss and accuracy for an epoch.\n",
    "\n",
    "        Example Usage: train_loss, train_acc, val_loss, val_acc = train(model=model, train_dataloader=train_dataloader, val_dataloader=val_dataloader, loss_fn=loss_fn,\n",
    "                                                                        optimizer=optimizer, epochs=32, device=device)\n",
    "    \"\"\"\n",
    "    CHECKPOINT_PATH = 'checkpoint/'\n",
    "    \n",
    "    model_results = {'model_name': model.__class__.__name__,\n",
    "                    'train_loss_batch': [],\n",
    "                    'train_acc_batch': [],\n",
    "                    'val_loss_batch': [],\n",
    "                    'val_acc_batch': [],\n",
    "                     'train_loss_epoch': [],\n",
    "                     'val_loss_epoch': [],\n",
    "                     'train_acc_epoch': [],\n",
    "                     'val_acc_epoch': [],\n",
    "                     'batch_lr': [],\n",
    "                     'max_epoch': epochs,\n",
    "                    'batch_size': batch_size,\n",
    "                    'train_dataset_len': len(train_dataloader.dataset),\n",
    "                    'val_dataset_len': len(val_dataloader.dataset)}\n",
    "    \n",
    "    for epoch in tqdm(range(epochs)):\n",
    "        if epoch_lr_scheduler is not None:\n",
    "            lr = optimizer.param_groups[0]['lr']\n",
    "            \n",
    "        train_loss, train_acc, batch_lr, batch_train_loss, batch_train_acc =  train_step(model=model,\n",
    "                                                                    dataloader=train_dataloader,\n",
    "                                                                    loss_fn=loss_fn,\n",
    "                                                                    optimizer=optimizer,\n",
    "                                                                    scheduler=batch_lr_scheduler,\n",
    "                                                                    epoch=epoch,\n",
    "                                                                    device=device)\n",
    "        \n",
    "        val_loss, val_acc, batch_val_loss, batch_val_acc = val_step(model=model,\n",
    "                                                                   dataloader=val_dataloader,\n",
    "                                                                   loss_fn=loss_fn,\n",
    "                                                                   device=device)\n",
    "        if epoch_lr_scheduler is not None:\n",
    "            optimizer.param_groups[0]['lr'] = lr\n",
    "            epoch_lr_scheduler.step()\n",
    "            if batch_lr_scheduler is not None:\n",
    "                batch_lr_scheduler.base_lrs = epoch_lr_scheduler._last_lr\n",
    "        \n",
    "        model_results['train_loss_batch'].extend(batch_train_loss)\n",
    "        model_results['train_acc_batch'].extend(batch_train_acc)\n",
    "        model_results['val_loss_batch'].extend(batch_val_loss)\n",
    "        model_results['val_acc_batch'].extend(batch_val_acc)\n",
    "        model_results['batch_lr'].extend(batch_lr)\n",
    "\n",
    "        model_results['train_loss_epoch'].append(train_loss)\n",
    "        model_results['train_acc_epoch'].append(train_acc)\n",
    "        model_results['val_loss_epoch'].append(val_loss)\n",
    "        model_results['val_acc_epoch'].append(val_acc)\n",
    "        print(f\"Epoch: {epoch} | Train Loss: {train_loss:.2f} | Train Acc: {train_acc*100:.2f}% | Val Loss: {val_loss:.2f} | Val Acc: {val_acc*100:.2f}%\")\n",
    "\n",
    "        if (epoch+1) % 5 == 0:\n",
    "            filename = f'{model.__class__.__name__}_{epoch+1}_custom.pth'\n",
    "            save_path = CHECKPOINT_PATH + filename\n",
    "            \n",
    "            torch.save(obj=model.state_dict(), f=save_path)\n",
    "    model_results['optimizer_params'] = optimizer.state_dict()['param_groups'][0]\n",
    "    np.savez(file=f\"results/{model.__class__.__name__}_custom.npz\", arr=model_results)\n",
    "    return model_results"
   ]
  },
  {
   "cell_type": "markdown",
   "id": "e0f5414d-b455-454e-aabf-3f9201c06536",
   "metadata": {
    "jp-MarkdownHeadingCollapsed": true
   },
   "source": [
    "## BaseLine Lipnet Model"
   ]
  },
  {
   "cell_type": "code",
   "execution_count": 17,
   "id": "0c8b62da-7971-43ce-9ee2-cd0a67c5d6c4",
   "metadata": {},
   "outputs": [],
   "source": [
    "class STCNN(nn.Module):\n",
    "    def __init__(self, in_channels, out_channels, kernel_size, stride, padding):\n",
    "        super().__init__()\n",
    "\n",
    "        self.conv_block = nn.Conv3d(in_channels=in_channels, out_channels=out_channels, kernel_size=kernel_size, stride=stride, padding=padding, bias=False)\n",
    "        self.batch_norm = nn.BatchNorm3d(out_channels)\n",
    "        self.relu = nn.ReLU()\n",
    "        self.dropout = nn.Dropout3d(p=0.5)\n",
    "        self.max_pool = nn.MaxPool3d(kernel_size=(1,2,2), stride=(1,2,2))\n",
    "\n",
    "    def forward(self, x):\n",
    "        return self.max_pool(self.dropout(self.relu(self.batch_norm(self.conv_block(x)))))\n",
    "\n",
    "\n",
    "class BiGRU(nn.Module):\n",
    "    def __init__(self, input_size, output_size):\n",
    "        super().__init__()\n",
    "\n",
    "        self.gru = nn.GRU(input_size=input_size, hidden_size=output_size, batch_first=True, bidirectional=True, num_layers=2)\n",
    "\n",
    "    def forward(self, x):\n",
    "        batch_size, frames, channel, h, w = x.shape\n",
    "        x = x.reshape(batch_size, frames, channel*h*w)\n",
    "        return self.gru(x)\n",
    "\n",
    "\n",
    "class LipNet(nn.Module):\n",
    "    def __init__(self, in_channels, output_size):\n",
    "        super().__init__()\n",
    "\n",
    "        self.stcnn_1 = STCNN(in_channels=in_channels, out_channels=32, kernel_size=(3,5,5), stride=(1,2,2), padding=(1,2,2))\n",
    "        self.stcnn_2 = STCNN(in_channels=32, out_channels=64, kernel_size=(3,5,5), stride=(1,1,1), padding=(1,2,2))\n",
    "        self.stcnn_3 = STCNN(in_channels=64, out_channels=96, kernel_size=(3,3,3), stride=(1,1,1), padding=(1,1,1))\n",
    "\n",
    "        self.gru_1 = BiGRU(input_size=96*6*6, output_size=256)\n",
    "\n",
    "        self.flatten = nn.Flatten()\n",
    "        self.linear = nn.Linear(in_features=2*256, out_features=output_size)\n",
    "\n",
    "    def forward(self, x):\n",
    "        x = self.stcnn_1(x)\n",
    "        x = self.stcnn_2(x)\n",
    "        x = self.stcnn_3(x)\n",
    "\n",
    "        x = x.permute(0,2,1,3,4)\n",
    "        x,_ = self.gru_1(x)\n",
    "        x = torch.cat((x[:, -1, :256], x[:, 0, 256:]), dim=1)\n",
    "        x = self.flatten(x)\n",
    "        x = self.linear(x)\n",
    "        return x\n",
    "\n"
   ]
  },
  {
   "cell_type": "code",
   "execution_count": 18,
   "id": "2807de7e-8a4b-48ec-90c8-80f8b074412f",
   "metadata": {},
   "outputs": [],
   "source": [
    "lipnet_model = LipNet(in_channels=1, output_size=15).to(device)"
   ]
  },
  {
   "cell_type": "code",
   "execution_count": 16,
   "id": "65229aa1-6715-4bde-8dc5-b4d47393667f",
   "metadata": {
    "collapsed": true,
    "jupyter": {
     "outputs_hidden": true,
     "source_hidden": true
    }
   },
   "outputs": [
    {
     "data": {
      "text/plain": [
       "============================================================================================================================================\n",
       "Layer (type:depth-idx)                   Input Shape               Kernel Shape              Output Shape              Param #\n",
       "============================================================================================================================================\n",
       "LipNet                                   [32, 1, 29, 96, 96]       --                        [32, 15]                  --\n",
       "├─STCNN: 1-1                             [32, 1, 29, 96, 96]       --                        [32, 32, 29, 24, 24]      --\n",
       "│    └─Conv3d: 2-1                       [32, 1, 29, 96, 96]       [3, 5, 5]                 [32, 32, 29, 48, 48]      2,400\n",
       "│    └─BatchNorm3d: 2-2                  [32, 32, 29, 48, 48]      --                        [32, 32, 29, 48, 48]      64\n",
       "│    └─ReLU: 2-3                         [32, 32, 29, 48, 48]      --                        [32, 32, 29, 48, 48]      --\n",
       "│    └─Dropout3d: 2-4                    [32, 32, 29, 48, 48]      --                        [32, 32, 29, 48, 48]      --\n",
       "│    └─MaxPool3d: 2-5                    [32, 32, 29, 48, 48]      [1, 2, 2]                 [32, 32, 29, 24, 24]      --\n",
       "├─STCNN: 1-2                             [32, 32, 29, 24, 24]      --                        [32, 64, 29, 12, 12]      --\n",
       "│    └─Conv3d: 2-6                       [32, 32, 29, 24, 24]      [3, 5, 5]                 [32, 64, 29, 24, 24]      153,600\n",
       "│    └─BatchNorm3d: 2-7                  [32, 64, 29, 24, 24]      --                        [32, 64, 29, 24, 24]      128\n",
       "│    └─ReLU: 2-8                         [32, 64, 29, 24, 24]      --                        [32, 64, 29, 24, 24]      --\n",
       "│    └─Dropout3d: 2-9                    [32, 64, 29, 24, 24]      --                        [32, 64, 29, 24, 24]      --\n",
       "│    └─MaxPool3d: 2-10                   [32, 64, 29, 24, 24]      [1, 2, 2]                 [32, 64, 29, 12, 12]      --\n",
       "├─STCNN: 1-3                             [32, 64, 29, 12, 12]      --                        [32, 96, 29, 6, 6]        --\n",
       "│    └─Conv3d: 2-11                      [32, 64, 29, 12, 12]      [3, 3, 3]                 [32, 96, 29, 12, 12]      165,888\n",
       "│    └─BatchNorm3d: 2-12                 [32, 96, 29, 12, 12]      --                        [32, 96, 29, 12, 12]      192\n",
       "│    └─ReLU: 2-13                        [32, 96, 29, 12, 12]      --                        [32, 96, 29, 12, 12]      --\n",
       "│    └─Dropout3d: 2-14                   [32, 96, 29, 12, 12]      --                        [32, 96, 29, 12, 12]      --\n",
       "│    └─MaxPool3d: 2-15                   [32, 96, 29, 12, 12]      [1, 2, 2]                 [32, 96, 29, 6, 6]        --\n",
       "├─BiGRU: 1-4                             [32, 29, 96, 6, 6]        --                        [32, 29, 512]             --\n",
       "│    └─GRU: 2-16                         [32, 29, 3456]            --                        [32, 29, 512]             6,887,424\n",
       "├─Flatten: 1-5                           [32, 512]                 --                        [32, 512]                 --\n",
       "├─Linear: 1-6                            [32, 512]                 --                        [32, 15]                  7,695\n",
       "============================================================================================================================================\n",
       "Total params: 7,217,391\n",
       "Trainable params: 7,217,391\n",
       "Non-trainable params: 0\n",
       "Total mult-adds (Units.GIGABYTES): 115.79\n",
       "============================================================================================================================================\n",
       "Input size (MB): 34.21\n",
       "Forward/backward pass size (MB): 1851.13\n",
       "Params size (MB): 28.87\n",
       "Estimated Total Size (MB): 1914.21\n",
       "============================================================================================================================================"
      ]
     },
     "execution_count": 16,
     "metadata": {},
     "output_type": "execute_result"
    }
   ],
   "source": [
    "from torchinfo import summary\n",
    "\n",
    "summary(lipnet_model, input_size=[32,1,29,96,96], col_names=['input_size', 'kernel_size','output_size', 'num_params'])"
   ]
  },
  {
   "cell_type": "code",
   "execution_count": 19,
   "id": "95ee6ef7-ab46-4f97-a745-702654a27a7c",
   "metadata": {},
   "outputs": [],
   "source": [
    "loss_fn = nn.CrossEntropyLoss()\n",
    "optimizer = torch.optim.Adam(params=lipnet_model.parameters(), lr=0.001)"
   ]
  },
  {
   "cell_type": "code",
   "execution_count": 23,
   "id": "ec61ee30-f10e-44e4-99f7-522822996342",
   "metadata": {},
   "outputs": [
    {
     "data": {
      "application/vnd.jupyter.widget-view+json": {
       "model_id": "94c6e78cfac24663942cb40a1fbe0de0",
       "version_major": 2,
       "version_minor": 0
      },
      "text/plain": [
       "  0%|          | 0/10 [00:00<?, ?it/s]"
      ]
     },
     "metadata": {},
     "output_type": "display_data"
    },
    {
     "data": {
      "application/vnd.jupyter.widget-view+json": {
       "model_id": "aeef686c18c644d09b17da4f6c1603ec",
       "version_major": 2,
       "version_minor": 0
      },
      "text/plain": [
       "Train:   0%|          | 0/606 [00:00<?, ?it/s]"
      ]
     },
     "metadata": {},
     "output_type": "display_data"
    },
    {
     "data": {
      "application/vnd.jupyter.widget-view+json": {
       "model_id": "964bf793925d4023b00220d7c2b484e7",
       "version_major": 2,
       "version_minor": 0
      },
      "text/plain": [
       "Val:   0%|          | 0/32 [00:00<?, ?it/s]"
      ]
     },
     "metadata": {},
     "output_type": "display_data"
    },
    {
     "name": "stdout",
     "output_type": "stream",
     "text": [
      "Epoch: 0 | Train Loss: 1.19 | Train Acc: 59.96% | Val Loss: 1.09 | Val Acc: 64.19%\n"
     ]
    },
    {
     "data": {
      "application/vnd.jupyter.widget-view+json": {
       "model_id": "b14af550a8ea454fbd3ecafea9a4fed4",
       "version_major": 2,
       "version_minor": 0
      },
      "text/plain": [
       "Train:   0%|          | 0/606 [00:00<?, ?it/s]"
      ]
     },
     "metadata": {},
     "output_type": "display_data"
    },
    {
     "data": {
      "application/vnd.jupyter.widget-view+json": {
       "model_id": "58cf2493f6ec434d8e0d6b12bfb6e9f8",
       "version_major": 2,
       "version_minor": 0
      },
      "text/plain": [
       "Val:   0%|          | 0/32 [00:00<?, ?it/s]"
      ]
     },
     "metadata": {},
     "output_type": "display_data"
    },
    {
     "name": "stdout",
     "output_type": "stream",
     "text": [
      "Epoch: 1 | Train Loss: 1.07 | Train Acc: 64.69% | Val Loss: 1.13 | Val Acc: 61.59%\n"
     ]
    },
    {
     "data": {
      "application/vnd.jupyter.widget-view+json": {
       "model_id": "08e151978e034ef1a463e3a55c4e0f94",
       "version_major": 2,
       "version_minor": 0
      },
      "text/plain": [
       "Train:   0%|          | 0/606 [00:00<?, ?it/s]"
      ]
     },
     "metadata": {},
     "output_type": "display_data"
    },
    {
     "data": {
      "application/vnd.jupyter.widget-view+json": {
       "model_id": "2bfd4f7a558246789d1f23b89efb86c7",
       "version_major": 2,
       "version_minor": 0
      },
      "text/plain": [
       "Val:   0%|          | 0/32 [00:00<?, ?it/s]"
      ]
     },
     "metadata": {},
     "output_type": "display_data"
    },
    {
     "name": "stdout",
     "output_type": "stream",
     "text": [
      "Epoch: 2 | Train Loss: 0.98 | Train Acc: 67.31% | Val Loss: 1.03 | Val Acc: 66.02%\n"
     ]
    },
    {
     "data": {
      "application/vnd.jupyter.widget-view+json": {
       "model_id": "db2c0fdecf8040e0955b3ab396e7e1f7",
       "version_major": 2,
       "version_minor": 0
      },
      "text/plain": [
       "Train:   0%|          | 0/606 [00:00<?, ?it/s]"
      ]
     },
     "metadata": {},
     "output_type": "display_data"
    },
    {
     "data": {
      "application/vnd.jupyter.widget-view+json": {
       "model_id": "8852c83de8814c32b445b1a87a63f692",
       "version_major": 2,
       "version_minor": 0
      },
      "text/plain": [
       "Val:   0%|          | 0/32 [00:00<?, ?it/s]"
      ]
     },
     "metadata": {},
     "output_type": "display_data"
    },
    {
     "name": "stdout",
     "output_type": "stream",
     "text": [
      "Epoch: 3 | Train Loss: 0.92 | Train Acc: 69.54% | Val Loss: 0.89 | Val Acc: 70.18%\n"
     ]
    },
    {
     "data": {
      "application/vnd.jupyter.widget-view+json": {
       "model_id": "0af132d6e1d647e08c96f90334228c2d",
       "version_major": 2,
       "version_minor": 0
      },
      "text/plain": [
       "Train:   0%|          | 0/606 [00:00<?, ?it/s]"
      ]
     },
     "metadata": {},
     "output_type": "display_data"
    },
    {
     "data": {
      "application/vnd.jupyter.widget-view+json": {
       "model_id": "ff722565eaea44458e5ac860374516c2",
       "version_major": 2,
       "version_minor": 0
      },
      "text/plain": [
       "Val:   0%|          | 0/32 [00:00<?, ?it/s]"
      ]
     },
     "metadata": {},
     "output_type": "display_data"
    },
    {
     "name": "stdout",
     "output_type": "stream",
     "text": [
      "Epoch: 4 | Train Loss: 0.89 | Train Acc: 70.24% | Val Loss: 0.88 | Val Acc: 70.44%\n"
     ]
    },
    {
     "data": {
      "application/vnd.jupyter.widget-view+json": {
       "model_id": "7e6171dd916745e981668fa1890606f9",
       "version_major": 2,
       "version_minor": 0
      },
      "text/plain": [
       "Train:   0%|          | 0/606 [00:00<?, ?it/s]"
      ]
     },
     "metadata": {},
     "output_type": "display_data"
    },
    {
     "data": {
      "application/vnd.jupyter.widget-view+json": {
       "model_id": "7d906df927ce4009ba6fb6e0b437f643",
       "version_major": 2,
       "version_minor": 0
      },
      "text/plain": [
       "Val:   0%|          | 0/32 [00:00<?, ?it/s]"
      ]
     },
     "metadata": {},
     "output_type": "display_data"
    },
    {
     "name": "stdout",
     "output_type": "stream",
     "text": [
      "Epoch: 5 | Train Loss: 0.86 | Train Acc: 71.36% | Val Loss: 0.87 | Val Acc: 71.48%\n"
     ]
    },
    {
     "data": {
      "application/vnd.jupyter.widget-view+json": {
       "model_id": "e3c9efb810944286b597b6c9e71f456e",
       "version_major": 2,
       "version_minor": 0
      },
      "text/plain": [
       "Train:   0%|          | 0/606 [00:00<?, ?it/s]"
      ]
     },
     "metadata": {},
     "output_type": "display_data"
    },
    {
     "data": {
      "application/vnd.jupyter.widget-view+json": {
       "model_id": "cfb401525f914ea5ae2dba51fc9b7414",
       "version_major": 2,
       "version_minor": 0
      },
      "text/plain": [
       "Val:   0%|          | 0/32 [00:00<?, ?it/s]"
      ]
     },
     "metadata": {},
     "output_type": "display_data"
    },
    {
     "name": "stdout",
     "output_type": "stream",
     "text": [
      "Epoch: 6 | Train Loss: 0.80 | Train Acc: 73.47% | Val Loss: 0.87 | Val Acc: 72.79%\n"
     ]
    },
    {
     "data": {
      "application/vnd.jupyter.widget-view+json": {
       "model_id": "b05a70d81f784fdbbf19294b6dc673ca",
       "version_major": 2,
       "version_minor": 0
      },
      "text/plain": [
       "Train:   0%|          | 0/606 [00:00<?, ?it/s]"
      ]
     },
     "metadata": {},
     "output_type": "display_data"
    },
    {
     "data": {
      "application/vnd.jupyter.widget-view+json": {
       "model_id": "447c542e28f34fb08b1fde94322e71a4",
       "version_major": 2,
       "version_minor": 0
      },
      "text/plain": [
       "Val:   0%|          | 0/32 [00:00<?, ?it/s]"
      ]
     },
     "metadata": {},
     "output_type": "display_data"
    },
    {
     "name": "stdout",
     "output_type": "stream",
     "text": [
      "Epoch: 7 | Train Loss: 0.77 | Train Acc: 74.42% | Val Loss: 0.86 | Val Acc: 71.09%\n"
     ]
    },
    {
     "data": {
      "application/vnd.jupyter.widget-view+json": {
       "model_id": "aafafdc59eca467da6e6f710b96f5281",
       "version_major": 2,
       "version_minor": 0
      },
      "text/plain": [
       "Train:   0%|          | 0/606 [00:00<?, ?it/s]"
      ]
     },
     "metadata": {},
     "output_type": "display_data"
    },
    {
     "data": {
      "application/vnd.jupyter.widget-view+json": {
       "model_id": "ee74abbb923e4339b6e9a97ac4766593",
       "version_major": 2,
       "version_minor": 0
      },
      "text/plain": [
       "Val:   0%|          | 0/32 [00:00<?, ?it/s]"
      ]
     },
     "metadata": {},
     "output_type": "display_data"
    },
    {
     "name": "stdout",
     "output_type": "stream",
     "text": [
      "Epoch: 8 | Train Loss: 0.74 | Train Acc: 75.19% | Val Loss: 0.74 | Val Acc: 73.96%\n"
     ]
    },
    {
     "data": {
      "application/vnd.jupyter.widget-view+json": {
       "model_id": "5fa0971d6c6b4ee4b1e95fcc0b45a657",
       "version_major": 2,
       "version_minor": 0
      },
      "text/plain": [
       "Train:   0%|          | 0/606 [00:00<?, ?it/s]"
      ]
     },
     "metadata": {},
     "output_type": "display_data"
    },
    {
     "data": {
      "application/vnd.jupyter.widget-view+json": {
       "model_id": "0d22c9a1e33143a1a11f0263d7158430",
       "version_major": 2,
       "version_minor": 0
      },
      "text/plain": [
       "Val:   0%|          | 0/32 [00:00<?, ?it/s]"
      ]
     },
     "metadata": {},
     "output_type": "display_data"
    },
    {
     "name": "stdout",
     "output_type": "stream",
     "text": [
      "Epoch: 9 | Train Loss: 0.76 | Train Acc: 74.99% | Val Loss: 0.81 | Val Acc: 75.39%\n"
     ]
    }
   ],
   "source": [
    "lipnet_model_results = train(model=lipnet_model,\n",
    "                             train_dataloader=train_dataloader,\n",
    "                             val_dataloader=val_dataloader,\n",
    "                             loss_fn=loss_fn,\n",
    "                             optimizer=optimizer,\n",
    "                             device=device,\n",
    "                             epochs=10)"
   ]
  },
  {
   "cell_type": "code",
   "execution_count": 28,
   "id": "93ce189f-226b-417d-8c6c-45ae6f509029",
   "metadata": {},
   "outputs": [
    {
     "data": {
      "application/vnd.jupyter.widget-view+json": {
       "model_id": "11ae6de175ed4d6398287efdffa771d3",
       "version_major": 2,
       "version_minor": 0
      },
      "text/plain": [
       "Val:   0%|          | 0/79 [00:00<?, ?it/s]"
      ]
     },
     "metadata": {},
     "output_type": "display_data"
    },
    {
     "name": "stdout",
     "output_type": "stream",
     "text": [
      "Test Loss: 0.4245 | Test Acc: 86.67%\n"
     ]
    }
   ],
   "source": [
    "lipnet_model.load_state_dict(torch.load(f='checkpoint/lr_0.00001_wd_0.0001/LipNet_20.pth'))\n",
    "\n",
    "loss, acc = val_step(model=lipnet_model, dataloader=test_dataloader, device=device, loss_fn=loss_fn)\n",
    "\n",
    "print(f'Test Loss: {loss:.4f} | Test Acc: {acc*100:.2f}%')"
   ]
  },
  {
   "cell_type": "code",
   "execution_count": 27,
   "id": "89dbdbec-2c66-45c0-8db9-3108d7c6da56",
   "metadata": {},
   "outputs": [],
   "source": [
    "import matplotlib.pyplot as plt\n",
    "\n",
    "def plot_loss_curves(results, epochs=20):\n",
    "    plt.figure(figsize=(12,6))\n",
    "    plt.subplot(1,2,1)\n",
    "    plt.title('Accuracy')\n",
    "    plt.plot(range(epochs), results['train_acc'], label='Train')\n",
    "    plt.plot(range(epochs), results['val_acc'], label='Val')\n",
    "    plt.xlabel('Epochs')\n",
    "    plt.grid(True)\n",
    "    plt.legend()\n",
    "    \n",
    "    plt.subplot(1,2,2)\n",
    "    plt.title('Loss')\n",
    "    plt.plot(range(epochs), results['train_loss'], label='Train')\n",
    "    plt.plot(range(epochs), results['val_loss'], label='Val')\n",
    "    plt.xlabel('Epochs')\n",
    "    plt.grid(True)\n",
    "    plt.legend()\n",
    "    \n",
    "    plt.show()"
   ]
  },
  {
   "cell_type": "code",
   "execution_count": 18,
   "id": "e0d3a906-b294-4bf9-8e07-f12fac5d84ec",
   "metadata": {},
   "outputs": [
    {
     "data": {
      "image/png": "[encoded data removed]",
      "text/plain": [
       "<Figure size 1200x600 with 2 Axes>"
      ]
     },
     "metadata": {},
     "output_type": "display_data"
    }
   ],
   "source": [
    "plot_loss_curves(lipnet_model_results)"
   ]
  },
  {
   "cell_type": "markdown",
   "id": "5f9b2013-91c4-4b6e-9558-33cb7d69d331",
   "metadata": {
    "jp-MarkdownHeadingCollapsed": true
   },
   "source": [
    "## LipNet"
   ]
  },
  {
   "cell_type": "code",
   "execution_count": 12,
   "id": "79810026-6ec8-48c3-b507-75ba5f75c0e3",
   "metadata": {},
   "outputs": [],
   "source": [
    "lipnet_data_aug_model = LipNet(in_channels=1, output_size=50).to(device)"
   ]
  },
  {
   "cell_type": "code",
   "execution_count": 35,
   "id": "b1bcf940-644a-4f55-a846-41eba7b7ee78",
   "metadata": {},
   "outputs": [],
   "source": [
    "loss_fn = nn.CrossEntropyLoss() \n",
    "optimizer = torch.optim.Adam(params=lipnet_data_aug_model.parameters(), lr=0.0001, weight_decay=0.0001)"
   ]
  },
  {
   "cell_type": "code",
   "execution_count": 36,
   "id": "5ce5a846-7123-481f-81ac-992ddf307e65",
   "metadata": {},
   "outputs": [
    {
     "data": {
      "application/vnd.jupyter.widget-view+json": {
       "model_id": "a0aa250eb3514e30a975a95ca8518a98",
       "version_major": 2,
       "version_minor": 0
      },
      "text/plain": [
       "  0%|          | 0/10 [00:00<?, ?it/s]"
      ]
     },
     "metadata": {},
     "output_type": "display_data"
    },
    {
     "data": {
      "application/vnd.jupyter.widget-view+json": {
       "model_id": "ca62620a7d1b44c984955e630ef6cdd4",
       "version_major": 2,
       "version_minor": 0
      },
      "text/plain": [
       "Train:   0%|          | 0/1531 [00:00<?, ?it/s]"
      ]
     },
     "metadata": {},
     "output_type": "display_data"
    },
    {
     "data": {
      "application/vnd.jupyter.widget-view+json": {
       "model_id": "b998bbf4c76d45208989f5353402ca07",
       "version_major": 2,
       "version_minor": 0
      },
      "text/plain": [
       "Val:   0%|          | 0/79 [00:00<?, ?it/s]"
      ]
     },
     "metadata": {},
     "output_type": "display_data"
    },
    {
     "name": "stdout",
     "output_type": "stream",
     "text": [
      "Epoch: 0 | Train Loss: 0.40 | Train Acc: 87.14% | Val Loss: 0.52 | Val Acc: 84.22%\n"
     ]
    },
    {
     "data": {
      "application/vnd.jupyter.widget-view+json": {
       "model_id": "14d6e5fcc17e4f938df810002247d5ac",
       "version_major": 2,
       "version_minor": 0
      },
      "text/plain": [
       "Train:   0%|          | 0/1531 [00:00<?, ?it/s]"
      ]
     },
     "metadata": {},
     "output_type": "display_data"
    },
    {
     "data": {
      "application/vnd.jupyter.widget-view+json": {
       "model_id": "9a39f6f93bd94398ae3ed6dd34ee7f2a",
       "version_major": 2,
       "version_minor": 0
      },
      "text/plain": [
       "Val:   0%|          | 0/79 [00:00<?, ?it/s]"
      ]
     },
     "metadata": {},
     "output_type": "display_data"
    },
    {
     "name": "stdout",
     "output_type": "stream",
     "text": [
      "Epoch: 1 | Train Loss: 0.37 | Train Acc: 87.93% | Val Loss: 0.52 | Val Acc: 84.77%\n"
     ]
    },
    {
     "data": {
      "application/vnd.jupyter.widget-view+json": {
       "model_id": "6fda293386494343a5524e7cc9b4824a",
       "version_major": 2,
       "version_minor": 0
      },
      "text/plain": [
       "Train:   0%|          | 0/1531 [00:00<?, ?it/s]"
      ]
     },
     "metadata": {},
     "output_type": "display_data"
    },
    {
     "data": {
      "application/vnd.jupyter.widget-view+json": {
       "model_id": "37bcdfc4f20d4e7da78a31023da0803f",
       "version_major": 2,
       "version_minor": 0
      },
      "text/plain": [
       "Val:   0%|          | 0/79 [00:00<?, ?it/s]"
      ]
     },
     "metadata": {},
     "output_type": "display_data"
    },
    {
     "name": "stdout",
     "output_type": "stream",
     "text": [
      "Epoch: 2 | Train Loss: 0.34 | Train Acc: 88.61% | Val Loss: 0.49 | Val Acc: 85.32%\n"
     ]
    },
    {
     "data": {
      "application/vnd.jupyter.widget-view+json": {
       "model_id": "7018168d462a4d308c57929d6cf75fbe",
       "version_major": 2,
       "version_minor": 0
      },
      "text/plain": [
       "Train:   0%|          | 0/1531 [00:00<?, ?it/s]"
      ]
     },
     "metadata": {},
     "output_type": "display_data"
    },
    {
     "data": {
      "application/vnd.jupyter.widget-view+json": {
       "model_id": "9f7e8aa990884f59a0fa9e57f966ab07",
       "version_major": 2,
       "version_minor": 0
      },
      "text/plain": [
       "Val:   0%|          | 0/79 [00:00<?, ?it/s]"
      ]
     },
     "metadata": {},
     "output_type": "display_data"
    },
    {
     "name": "stdout",
     "output_type": "stream",
     "text": [
      "Epoch: 3 | Train Loss: 0.31 | Train Acc: 89.76% | Val Loss: 0.50 | Val Acc: 84.93%\n"
     ]
    },
    {
     "data": {
      "application/vnd.jupyter.widget-view+json": {
       "model_id": "0d5c7251ced846868cc91e2a36dcfa05",
       "version_major": 2,
       "version_minor": 0
      },
      "text/plain": [
       "Train:   0%|          | 0/1531 [00:00<?, ?it/s]"
      ]
     },
     "metadata": {},
     "output_type": "display_data"
    },
    {
     "data": {
      "application/vnd.jupyter.widget-view+json": {
       "model_id": "5c57e2caf03640efba52241488fc4c55",
       "version_major": 2,
       "version_minor": 0
      },
      "text/plain": [
       "Val:   0%|          | 0/79 [00:00<?, ?it/s]"
      ]
     },
     "metadata": {},
     "output_type": "display_data"
    },
    {
     "name": "stdout",
     "output_type": "stream",
     "text": [
      "Epoch: 4 | Train Loss: 0.29 | Train Acc: 90.73% | Val Loss: 0.52 | Val Acc: 84.41%\n"
     ]
    },
    {
     "data": {
      "application/vnd.jupyter.widget-view+json": {
       "model_id": "79230d6f19064045b32cb1beb8d69744",
       "version_major": 2,
       "version_minor": 0
      },
      "text/plain": [
       "Train:   0%|          | 0/1531 [00:00<?, ?it/s]"
      ]
     },
     "metadata": {},
     "output_type": "display_data"
    },
    {
     "data": {
      "application/vnd.jupyter.widget-view+json": {
       "model_id": "cb0b109d2f2a4bfe98fbbc550c5be905",
       "version_major": 2,
       "version_minor": 0
      },
      "text/plain": [
       "Val:   0%|          | 0/79 [00:00<?, ?it/s]"
      ]
     },
     "metadata": {},
     "output_type": "display_data"
    },
    {
     "name": "stdout",
     "output_type": "stream",
     "text": [
      "Epoch: 5 | Train Loss: 0.26 | Train Acc: 91.68% | Val Loss: 0.50 | Val Acc: 85.96%\n"
     ]
    },
    {
     "data": {
      "application/vnd.jupyter.widget-view+json": {
       "model_id": "a87b5d3352d949bf82c80771a05482ce",
       "version_major": 2,
       "version_minor": 0
      },
      "text/plain": [
       "Train:   0%|          | 0/1531 [00:00<?, ?it/s]"
      ]
     },
     "metadata": {},
     "output_type": "display_data"
    },
    {
     "data": {
      "application/vnd.jupyter.widget-view+json": {
       "model_id": "e362cccca7d74b019d336816faddaa83",
       "version_major": 2,
       "version_minor": 0
      },
      "text/plain": [
       "Val:   0%|          | 0/79 [00:00<?, ?it/s]"
      ]
     },
     "metadata": {},
     "output_type": "display_data"
    },
    {
     "name": "stdout",
     "output_type": "stream",
     "text": [
      "Epoch: 6 | Train Loss: 0.23 | Train Acc: 92.44% | Val Loss: 0.49 | Val Acc: 85.96%\n"
     ]
    },
    {
     "data": {
      "application/vnd.jupyter.widget-view+json": {
       "model_id": "dcc8a43495e2496fbd80518eb5fb70af",
       "version_major": 2,
       "version_minor": 0
      },
      "text/plain": [
       "Train:   0%|          | 0/1531 [00:00<?, ?it/s]"
      ]
     },
     "metadata": {},
     "output_type": "display_data"
    },
    {
     "data": {
      "application/vnd.jupyter.widget-view+json": {
       "model_id": "c9669ed49a2e4c319e27ea2c9c6cbc84",
       "version_major": 2,
       "version_minor": 0
      },
      "text/plain": [
       "Val:   0%|          | 0/79 [00:00<?, ?it/s]"
      ]
     },
     "metadata": {},
     "output_type": "display_data"
    },
    {
     "name": "stdout",
     "output_type": "stream",
     "text": [
      "Epoch: 7 | Train Loss: 0.20 | Train Acc: 93.24% | Val Loss: 0.52 | Val Acc: 84.93%\n"
     ]
    },
    {
     "data": {
      "application/vnd.jupyter.widget-view+json": {
       "model_id": "c70ad9d67898476d8c63c986994c685f",
       "version_major": 2,
       "version_minor": 0
      },
      "text/plain": [
       "Train:   0%|          | 0/1531 [00:00<?, ?it/s]"
      ]
     },
     "metadata": {},
     "output_type": "display_data"
    },
    {
     "data": {
      "application/vnd.jupyter.widget-view+json": {
       "model_id": "13c183341ecd4732a756e5500dfc22aa",
       "version_major": 2,
       "version_minor": 0
      },
      "text/plain": [
       "Val:   0%|          | 0/79 [00:00<?, ?it/s]"
      ]
     },
     "metadata": {},
     "output_type": "display_data"
    },
    {
     "name": "stdout",
     "output_type": "stream",
     "text": [
      "Epoch: 8 | Train Loss: 0.18 | Train Acc: 93.85% | Val Loss: 0.52 | Val Acc: 85.52%\n"
     ]
    },
    {
     "data": {
      "application/vnd.jupyter.widget-view+json": {
       "model_id": "423fe18a93964545b2495fb18c94ec38",
       "version_major": 2,
       "version_minor": 0
      },
      "text/plain": [
       "Train:   0%|          | 0/1531 [00:00<?, ?it/s]"
      ]
     },
     "metadata": {},
     "output_type": "display_data"
    },
    {
     "data": {
      "application/vnd.jupyter.widget-view+json": {
       "model_id": "b4547111862e4d2f837a93a1df4cc7bd",
       "version_major": 2,
       "version_minor": 0
      },
      "text/plain": [
       "Val:   0%|          | 0/79 [00:00<?, ?it/s]"
      ]
     },
     "metadata": {},
     "output_type": "display_data"
    },
    {
     "name": "stdout",
     "output_type": "stream",
     "text": [
      "Epoch: 9 | Train Loss: 0.16 | Train Acc: 94.58% | Val Loss: 0.51 | Val Acc: 84.97%\n"
     ]
    }
   ],
   "source": [
    "lipnet_data_aug_results = train(model=lipnet_data_aug_model, train_dataloader=train_dataloader, val_dataloader=val_dataloader, loss_fn=loss_fn, optimizer=optimizer, device=device, epochs=10)"
   ]
  },
  {
   "cell_type": "code",
   "execution_count": 37,
   "id": "3fe8c7fd-0a5b-4df6-aefe-072f0f6d341f",
   "metadata": {},
   "outputs": [
    {
     "data": {
      "image/png": "[encoded data removed]",
      "text/plain": [
       "<Figure size 1200x600 with 2 Axes>"
      ]
     },
     "metadata": {},
     "output_type": "display_data"
    }
   ],
   "source": [
    "plot_loss_curves(lipnet_data_aug_results, epochs=10)"
   ]
  },
  {
   "cell_type": "markdown",
   "id": "4aae81a9-79fb-4122-aa3e-d815441e75b5",
   "metadata": {
    "jp-MarkdownHeadingCollapsed": true
   },
   "source": [
    "## LipNet with LSTM"
   ]
  },
  {
   "cell_type": "code",
   "execution_count": 12,
   "id": "bf84a071-88ca-42f9-bb24-26e959c8e359",
   "metadata": {},
   "outputs": [],
   "source": [
    "from torch.nn.utils.rnn import pad_packed_sequence, pack_padded_sequence"
   ]
  },
  {
   "cell_type": "code",
   "execution_count": 13,
   "id": "05310b7e-2ade-487a-b980-7c7ec18f1366",
   "metadata": {},
   "outputs": [],
   "source": [
    "class STCNN(nn.Module):\n",
    "    def __init__(self, in_channels, out_channels, kernel_size, stride, padding):\n",
    "        super().__init__()\n",
    "\n",
    "        self.conv_block = nn.Conv3d(in_channels=in_channels,\n",
    "                                    out_channels=out_channels,\n",
    "                                    kernel_size=kernel_size,\n",
    "                                    stride=stride, \n",
    "                                    padding=padding,\n",
    "                                    bias=False)\n",
    "        self.batch_norm = nn.BatchNorm3d(out_channels, track_running_stats=False)\n",
    "        self.relu = nn.ReLU()\n",
    "        self.dropout = nn.Dropout3d(p=0.2)\n",
    "        self.max_pool = nn.MaxPool3d(kernel_size=(1,2,2),\n",
    "                                     stride=(1,2,2))\n",
    "\n",
    "    def forward(self, x):\n",
    "        return self.max_pool(self.dropout(self.relu(self.batch_norm(self.conv_block(x)))))\n",
    "\n",
    "\n",
    "class BiGRU(nn.Module):\n",
    "    def __init__(self, input_size, hidden_size):\n",
    "        super().__init__()\n",
    "\n",
    "        self.gru = nn.GRU(input_size=input_size,\n",
    "                          hidden_size=hidden_size,\n",
    "                          batch_first=True,\n",
    "                          bidirectional=True,\n",
    "                          num_layers=4,\n",
    "                          dropout=0.3)\n",
    "    \n",
    "    def forward(self, x):\n",
    "        return self.gru(x)\n",
    "\n",
    "\n",
    "class LipNet_GRU(nn.Module):\n",
    "    def __init__(self, in_channels, output_size, hidden_size):\n",
    "        super().__init__()\n",
    "        self.hidden_size = hidden_size\n",
    "\n",
    "        self.stcnn_1 = STCNN(in_channels=in_channels,\n",
    "                             out_channels=32,\n",
    "                             kernel_size=(3,5,5),\n",
    "                             stride=(1,2,2),\n",
    "                             padding=(1,2,2))\n",
    "        self.stcnn_2 = STCNN(in_channels=32,\n",
    "                             out_channels=64,\n",
    "                             kernel_size=(3,5,5),\n",
    "                             stride=(1,1,1),\n",
    "                             padding=(1,2,2))\n",
    "        self.stcnn_3 = STCNN(in_channels=64,\n",
    "                             out_channels=96,\n",
    "                             kernel_size=(3,3,3),\n",
    "                             stride=(1,1,1),\n",
    "                             padding=(1,1,1))\n",
    "\n",
    "        self.gru_1 = BiGRU(input_size=96*6*6,\n",
    "                           hidden_size=hidden_size)\n",
    "\n",
    "        self.flatten = nn.Flatten()\n",
    "        self.classifier = nn.Sequential(\n",
    "            nn.Linear(in_features=2*hidden_size,\n",
    "                      out_features=512),\n",
    "            nn.ReLU(),\n",
    "            nn.Linear(in_features=512,\n",
    "                      out_features=output_size)\n",
    "        )\n",
    "\n",
    "    def forward(self, x, lengths):\n",
    "        x = self.stcnn_1(x)\n",
    "        x = self.stcnn_2(x)\n",
    "        x = self.stcnn_3(x)\n",
    "        x = x.permute(0,2,1,3,4)\n",
    "        x = x.reshape(x.size(0), x.size(1), -1) \n",
    "        x = pack_padded_sequence(x, lengths, batch_first=True, enforce_sorted=False)\n",
    "        x,_ = self.gru_1(x)\n",
    "        x, _ = pad_packed_sequence(x, batch_first=True)\n",
    "        # print(x.shape)\n",
    "        x_combined = torch.cat((x[:, -1, :self.hidden_size], x[:, 0, self.hidden_size:]), dim=1)\n",
    "        x = self.classifier(x_combined)\n",
    "        return x\n",
    "\n",
    "        # return self.linear(self.flatten(self.lstm_1(self.stcnn_3(self.stcnn_2(self.stcnn_1(x))).permute(0,2,1,3,4))[0]))\n",
    "\n"
   ]
  },
  {
   "cell_type": "code",
   "execution_count": 14,
   "id": "b3bd18c0-9c98-488f-9e60-363c12a1a85d",
   "metadata": {},
   "outputs": [],
   "source": [
    "lipnet_lstm_model = LipNet_GRU(in_channels=1,\n",
    "                               output_size=50,\n",
    "                               hidden_size=824).to('cuda')"
   ]
  },
  {
   "cell_type": "code",
   "execution_count": 15,
   "id": "9585bac8-f073-4107-9b63-f5e6c71d55b9",
   "metadata": {},
   "outputs": [],
   "source": [
    "# lipnet_lstm_model.load_state_dict(torch.load('checkpoint/lstm_0.0001_0.001_0-30/LipNet_LSTM_15.pth'))"
   ]
  },
  {
   "cell_type": "code",
   "execution_count": 16,
   "id": "470087db-ec76-4d12-9dd6-f44f33a82710",
   "metadata": {},
   "outputs": [],
   "source": [
    "loss_fn = nn.CrossEntropyLoss()\n",
    "optimizer = torch.optim.Adam(params=lipnet_lstm_model.parameters(),\n",
    "                             lr=0.0001,\n",
    "                             weight_decay=1e-3)"
   ]
  },
  {
   "cell_type": "code",
   "execution_count": 17,
   "id": "eb4fdefd-c1aa-4b25-8824-5a1ddc98bbf8",
   "metadata": {},
   "outputs": [
    {
     "name": "stdout",
     "output_type": "stream",
     "text": [
      "Adjusting learning rate of group 0 to 1.0000e-04.\n"
     ]
    }
   ],
   "source": [
    "from torch.optim.lr_scheduler import ExponentialLR, StepLR, ReduceLROnPlateau\n",
    "\n",
    "scheduler = None\n",
    "scheduler = ExponentialLR(optimizer=optimizer,\n",
    "                          gamma=0.8,\n",
    "                          verbose=True)\n",
    "# scheduler = StepLR(optimizer, step_size=5, gamma=0.5, verbose=True)\n",
    "\n",
    "scheduler_2 = ReduceLROnPlateau(optimizer, 'min')"
   ]
  },
  {
   "cell_type": "code",
   "execution_count": 18,
   "id": "d3c1a849-87ef-4aaa-8b47-d4d96769e178",
   "metadata": {},
   "outputs": [
    {
     "data": {
      "application/vnd.jupyter.widget-view+json": {
       "model_id": "4a209d62ce1146708409367c86c72e43",
       "version_major": 2,
       "version_minor": 0
      },
      "text/plain": [
       "  0%|          | 0/10 [00:00<?, ?it/s]"
      ]
     },
     "metadata": {},
     "output_type": "display_data"
    },
    {
     "data": {
      "application/vnd.jupyter.widget-view+json": {
       "model_id": "48a15708dbbd48ffafc61ad2eaa076ba",
       "version_major": 2,
       "version_minor": 0
      },
      "text/plain": [
       "Train:   0%|          | 0/2041 [00:00<?, ?it/s]"
      ]
     },
     "metadata": {},
     "output_type": "display_data"
    },
    {
     "data": {
      "application/vnd.jupyter.widget-view+json": {
       "model_id": "b89e62cdb1ce495ebed120a8a0c9c179",
       "version_major": 2,
       "version_minor": 0
      },
      "text/plain": [
       "Val:   0%|          | 0/105 [00:00<?, ?it/s]"
      ]
     },
     "metadata": {},
     "output_type": "display_data"
    },
    {
     "name": "stdout",
     "output_type": "stream",
     "text": [
      "Adjusting learning rate of group 0 to 8.0000e-05.\n",
      "Epoch: 0 | Train Loss: 3.90 | Train Acc: 2.84% | Val Loss: 3.88 | Val Acc: 3.57%\n"
     ]
    },
    {
     "data": {
      "application/vnd.jupyter.widget-view+json": {
       "model_id": "9c9591eb3afb4c5f90c5824d63df81a3",
       "version_major": 2,
       "version_minor": 0
      },
      "text/plain": [
       "Train:   0%|          | 0/2041 [00:00<?, ?it/s]"
      ]
     },
     "metadata": {},
     "output_type": "display_data"
    },
    {
     "data": {
      "application/vnd.jupyter.widget-view+json": {
       "model_id": "d56690f5cd15443a9726ddb1a096dc52",
       "version_major": 2,
       "version_minor": 0
      },
      "text/plain": [
       "Val:   0%|          | 0/105 [00:00<?, ?it/s]"
      ]
     },
     "metadata": {},
     "output_type": "display_data"
    },
    {
     "name": "stdout",
     "output_type": "stream",
     "text": [
      "Adjusting learning rate of group 0 to 6.4000e-05.\n",
      "Epoch: 1 | Train Loss: 3.80 | Train Acc: 4.48% | Val Loss: 3.18 | Val Acc: 12.66%\n"
     ]
    },
    {
     "data": {
      "application/vnd.jupyter.widget-view+json": {
       "model_id": "5eda3c0cc6474691a8d019b09f50a3bd",
       "version_major": 2,
       "version_minor": 0
      },
      "text/plain": [
       "Train:   0%|          | 0/2041 [00:00<?, ?it/s]"
      ]
     },
     "metadata": {},
     "output_type": "display_data"
    },
    {
     "data": {
      "application/vnd.jupyter.widget-view+json": {
       "model_id": "c396d93179154a5bb294672c6c85f4e1",
       "version_major": 2,
       "version_minor": 0
      },
      "text/plain": [
       "Val:   0%|          | 0/105 [00:00<?, ?it/s]"
      ]
     },
     "metadata": {},
     "output_type": "display_data"
    },
    {
     "name": "stdout",
     "output_type": "stream",
     "text": [
      "Adjusting learning rate of group 0 to 5.1200e-05.\n",
      "Epoch: 2 | Train Loss: 2.40 | Train Acc: 29.86% | Val Loss: 1.80 | Val Acc: 45.48%\n"
     ]
    },
    {
     "data": {
      "application/vnd.jupyter.widget-view+json": {
       "model_id": "ea5aa21068d541e9a8d037f9432235f0",
       "version_major": 2,
       "version_minor": 0
      },
      "text/plain": [
       "Train:   0%|          | 0/2041 [00:00<?, ?it/s]"
      ]
     },
     "metadata": {},
     "output_type": "display_data"
    },
    {
     "data": {
      "application/vnd.jupyter.widget-view+json": {
       "model_id": "462cfc2e1a5c487f840285e72ba28017",
       "version_major": 2,
       "version_minor": 0
      },
      "text/plain": [
       "Val:   0%|          | 0/105 [00:00<?, ?it/s]"
      ]
     },
     "metadata": {},
     "output_type": "display_data"
    },
    {
     "name": "stdout",
     "output_type": "stream",
     "text": [
      "Adjusting learning rate of group 0 to 4.0960e-05.\n",
      "Epoch: 3 | Train Loss: 1.57 | Train Acc: 52.32% | Val Loss: 1.35 | Val Acc: 57.98%\n"
     ]
    },
    {
     "data": {
      "application/vnd.jupyter.widget-view+json": {
       "model_id": "23aaf76f38c44b45b366f55d26239a25",
       "version_major": 2,
       "version_minor": 0
      },
      "text/plain": [
       "Train:   0%|          | 0/2041 [00:00<?, ?it/s]"
      ]
     },
     "metadata": {},
     "output_type": "display_data"
    },
    {
     "data": {
      "application/vnd.jupyter.widget-view+json": {
       "model_id": "24ecfe1aa5374b69b83ed33042ed35ec",
       "version_major": 2,
       "version_minor": 0
      },
      "text/plain": [
       "Val:   0%|          | 0/105 [00:00<?, ?it/s]"
      ]
     },
     "metadata": {},
     "output_type": "display_data"
    },
    {
     "name": "stdout",
     "output_type": "stream",
     "text": [
      "Adjusting learning rate of group 0 to 3.2768e-05.\n",
      "Epoch: 4 | Train Loss: 1.23 | Train Acc: 62.23% | Val Loss: 1.14 | Val Acc: 64.88%\n"
     ]
    },
    {
     "data": {
      "application/vnd.jupyter.widget-view+json": {
       "model_id": "dfcb4f542c214ab8bb79942119673d1c",
       "version_major": 2,
       "version_minor": 0
      },
      "text/plain": [
       "Train:   0%|          | 0/2041 [00:00<?, ?it/s]"
      ]
     },
     "metadata": {},
     "output_type": "display_data"
    },
    {
     "data": {
      "application/vnd.jupyter.widget-view+json": {
       "model_id": "61e61d9b13ec4e9c8bc6d931566cfc30",
       "version_major": 2,
       "version_minor": 0
      },
      "text/plain": [
       "Val:   0%|          | 0/105 [00:00<?, ?it/s]"
      ]
     },
     "metadata": {},
     "output_type": "display_data"
    },
    {
     "name": "stdout",
     "output_type": "stream",
     "text": [
      "Adjusting learning rate of group 0 to 2.6214e-05.\n",
      "Epoch: 5 | Train Loss: 1.00 | Train Acc: 69.24% | Val Loss: 0.94 | Val Acc: 71.07%\n"
     ]
    },
    {
     "data": {
      "application/vnd.jupyter.widget-view+json": {
       "model_id": "be3d7624d4c14d3d8d6267ebc313ef75",
       "version_major": 2,
       "version_minor": 0
      },
      "text/plain": [
       "Train:   0%|          | 0/2041 [00:00<?, ?it/s]"
      ]
     },
     "metadata": {},
     "output_type": "display_data"
    },
    {
     "data": {
      "application/vnd.jupyter.widget-view+json": {
       "model_id": "f7ff02ecaf7344b2a54f862d9665ffe7",
       "version_major": 2,
       "version_minor": 0
      },
      "text/plain": [
       "Val:   0%|          | 0/105 [00:00<?, ?it/s]"
      ]
     },
     "metadata": {},
     "output_type": "display_data"
    },
    {
     "name": "stdout",
     "output_type": "stream",
     "text": [
      "Adjusting learning rate of group 0 to 2.0972e-05.\n",
      "Epoch: 6 | Train Loss: 0.83 | Train Acc: 73.93% | Val Loss: 0.81 | Val Acc: 74.44%\n"
     ]
    },
    {
     "data": {
      "application/vnd.jupyter.widget-view+json": {
       "model_id": "80aa0c8240c443939d48e9f728819fe8",
       "version_major": 2,
       "version_minor": 0
      },
      "text/plain": [
       "Train:   0%|          | 0/2041 [00:00<?, ?it/s]"
      ]
     },
     "metadata": {},
     "output_type": "display_data"
    },
    {
     "data": {
      "application/vnd.jupyter.widget-view+json": {
       "model_id": "7249ea93053c405aa2b1e9e6f560fbb8",
       "version_major": 2,
       "version_minor": 0
      },
      "text/plain": [
       "Val:   0%|          | 0/105 [00:00<?, ?it/s]"
      ]
     },
     "metadata": {},
     "output_type": "display_data"
    },
    {
     "name": "stdout",
     "output_type": "stream",
     "text": [
      "Adjusting learning rate of group 0 to 1.6777e-05.\n",
      "Epoch: 7 | Train Loss: 0.72 | Train Acc: 77.34% | Val Loss: 0.74 | Val Acc: 77.26%\n"
     ]
    },
    {
     "data": {
      "application/vnd.jupyter.widget-view+json": {
       "model_id": "8b7ffb457b524858bbedfec51f012730",
       "version_major": 2,
       "version_minor": 0
      },
      "text/plain": [
       "Train:   0%|          | 0/2041 [00:00<?, ?it/s]"
      ]
     },
     "metadata": {},
     "output_type": "display_data"
    },
    {
     "data": {
      "application/vnd.jupyter.widget-view+json": {
       "model_id": "d983c8a54fc74e7aa9f29d2bf7466f96",
       "version_major": 2,
       "version_minor": 0
      },
      "text/plain": [
       "Val:   0%|          | 0/105 [00:00<?, ?it/s]"
      ]
     },
     "metadata": {},
     "output_type": "display_data"
    },
    {
     "name": "stdout",
     "output_type": "stream",
     "text": [
      "Adjusting learning rate of group 0 to 1.3422e-05.\n",
      "Epoch: 8 | Train Loss: 0.65 | Train Acc: 79.29% | Val Loss: 0.73 | Val Acc: 77.54%\n"
     ]
    },
    {
     "data": {
      "application/vnd.jupyter.widget-view+json": {
       "model_id": "4761613aa9054930bf037fc5d3a81d83",
       "version_major": 2,
       "version_minor": 0
      },
      "text/plain": [
       "Train:   0%|          | 0/2041 [00:00<?, ?it/s]"
      ]
     },
     "metadata": {},
     "output_type": "display_data"
    },
    {
     "ename": "KeyboardInterrupt",
     "evalue": "",
     "output_type": "error",
     "traceback": [
      "\u001b[0;31m---------------------------------------------------------------------------\u001b[0m",
      "\u001b[0;31mKeyboardInterrupt\u001b[0m                         Traceback (most recent call last)",
      "Cell \u001b[0;32mIn[18], line 1\u001b[0m\n\u001b[0;32m----> 1\u001b[0m lipnet_model_results \u001b[38;5;241m=\u001b[39m \u001b[43mtrain\u001b[49m\u001b[43m(\u001b[49m\u001b[43mmodel\u001b[49m\u001b[38;5;241;43m=\u001b[39;49m\u001b[43mlipnet_lstm_model\u001b[49m\u001b[43m,\u001b[49m\n\u001b[1;32m      2\u001b[0m \u001b[43m                             \u001b[49m\u001b[43mtrain_dataloader\u001b[49m\u001b[38;5;241;43m=\u001b[39;49m\u001b[43mtrain_dataloader\u001b[49m\u001b[43m,\u001b[49m\n\u001b[1;32m      3\u001b[0m \u001b[43m                             \u001b[49m\u001b[43mval_dataloader\u001b[49m\u001b[38;5;241;43m=\u001b[39;49m\u001b[43mval_dataloader\u001b[49m\u001b[43m,\u001b[49m\n\u001b[1;32m      4\u001b[0m \u001b[43m                             \u001b[49m\u001b[43mloss_fn\u001b[49m\u001b[38;5;241;43m=\u001b[39;49m\u001b[43mloss_fn\u001b[49m\u001b[43m,\u001b[49m\u001b[43m \u001b[49m\u001b[43moptimizer\u001b[49m\u001b[38;5;241;43m=\u001b[39;49m\u001b[43moptimizer\u001b[49m\u001b[43m,\u001b[49m\n\u001b[1;32m      5\u001b[0m \u001b[43m                             \u001b[49m\u001b[43mscheduler\u001b[49m\u001b[38;5;241;43m=\u001b[39;49m\u001b[43mscheduler\u001b[49m\u001b[43m,\u001b[49m\n\u001b[1;32m      6\u001b[0m \u001b[43m                             \u001b[49m\u001b[43mdevice\u001b[49m\u001b[38;5;241;43m=\u001b[39;49m\u001b[43mdevice\u001b[49m\u001b[43m,\u001b[49m\n\u001b[1;32m      7\u001b[0m \u001b[43m                             \u001b[49m\u001b[43mepochs\u001b[49m\u001b[38;5;241;43m=\u001b[39;49m\u001b[38;5;241;43m10\u001b[39;49m\u001b[43m)\u001b[49m\n",
      "Cell \u001b[0;32mIn[5], line 34\u001b[0m, in \u001b[0;36mtrain\u001b[0;34m(model, train_dataloader, val_dataloader, loss_fn, optimizer, scheduler, epochs, device)\u001b[0m\n\u001b[1;32m     28\u001b[0m model_results \u001b[38;5;241m=\u001b[39m {\u001b[38;5;124m'\u001b[39m\u001b[38;5;124mmodel_name\u001b[39m\u001b[38;5;124m'\u001b[39m: model\u001b[38;5;241m.\u001b[39m\u001b[38;5;18m__class__\u001b[39m\u001b[38;5;241m.\u001b[39m\u001b[38;5;18m__name__\u001b[39m,\n\u001b[1;32m     29\u001b[0m                 \u001b[38;5;124m'\u001b[39m\u001b[38;5;124mtrain_loss\u001b[39m\u001b[38;5;124m'\u001b[39m: [],\n\u001b[1;32m     30\u001b[0m                 \u001b[38;5;124m'\u001b[39m\u001b[38;5;124mtrain_acc\u001b[39m\u001b[38;5;124m'\u001b[39m: [],\n\u001b[1;32m     31\u001b[0m                 \u001b[38;5;124m'\u001b[39m\u001b[38;5;124mval_loss\u001b[39m\u001b[38;5;124m'\u001b[39m: [],\n\u001b[1;32m     32\u001b[0m                 \u001b[38;5;124m'\u001b[39m\u001b[38;5;124mval_acc\u001b[39m\u001b[38;5;124m'\u001b[39m: []}\n\u001b[1;32m     33\u001b[0m \u001b[38;5;28;01mfor\u001b[39;00m epoch \u001b[38;5;129;01min\u001b[39;00m tqdm(\u001b[38;5;28mrange\u001b[39m(epochs)):\n\u001b[0;32m---> 34\u001b[0m     train_loss, train_acc \u001b[38;5;241m=\u001b[39m \u001b[43mtrain_step\u001b[49m\u001b[43m(\u001b[49m\u001b[43mmodel\u001b[49m\u001b[38;5;241;43m=\u001b[39;49m\u001b[43mmodel\u001b[49m\u001b[43m,\u001b[49m\n\u001b[1;32m     35\u001b[0m \u001b[43m                            \u001b[49m\u001b[43mdataloader\u001b[49m\u001b[38;5;241;43m=\u001b[39;49m\u001b[43mtrain_dataloader\u001b[49m\u001b[43m,\u001b[49m\n\u001b[1;32m     36\u001b[0m \u001b[43m                            \u001b[49m\u001b[43mloss_fn\u001b[49m\u001b[38;5;241;43m=\u001b[39;49m\u001b[43mloss_fn\u001b[49m\u001b[43m,\u001b[49m\n\u001b[1;32m     37\u001b[0m \u001b[43m                            \u001b[49m\u001b[43moptimizer\u001b[49m\u001b[38;5;241;43m=\u001b[39;49m\u001b[43moptimizer\u001b[49m\u001b[43m,\u001b[49m\n\u001b[1;32m     38\u001b[0m \u001b[43m                            \u001b[49m\u001b[43mdevice\u001b[49m\u001b[38;5;241;43m=\u001b[39;49m\u001b[43mdevice\u001b[49m\u001b[43m)\u001b[49m\n\u001b[1;32m     39\u001b[0m     val_loss, val_acc \u001b[38;5;241m=\u001b[39m val_step(model\u001b[38;5;241m=\u001b[39mmodel,\n\u001b[1;32m     40\u001b[0m                        dataloader\u001b[38;5;241m=\u001b[39mval_dataloader,\n\u001b[1;32m     41\u001b[0m                        loss_fn\u001b[38;5;241m=\u001b[39mloss_fn,\n\u001b[1;32m     42\u001b[0m                        device\u001b[38;5;241m=\u001b[39mdevice)\n\u001b[1;32m     43\u001b[0m     \u001b[38;5;28;01mif\u001b[39;00m scheduler \u001b[38;5;129;01mis\u001b[39;00m \u001b[38;5;129;01mnot\u001b[39;00m \u001b[38;5;28;01mNone\u001b[39;00m:\n",
      "Cell \u001b[0;32mIn[3], line 31\u001b[0m, in \u001b[0;36mtrain_step\u001b[0;34m(model, dataloader, loss_fn, optimizer, device)\u001b[0m\n\u001b[1;32m     28\u001b[0m train_loss \u001b[38;5;241m=\u001b[39m \u001b[38;5;241m0\u001b[39m\n\u001b[1;32m     29\u001b[0m train_acc \u001b[38;5;241m=\u001b[39m \u001b[38;5;241m0\u001b[39m\n\u001b[0;32m---> 31\u001b[0m \u001b[43m\u001b[49m\u001b[38;5;28;43;01mfor\u001b[39;49;00m\u001b[43m \u001b[49m\u001b[43mbatch\u001b[49m\u001b[43m,\u001b[49m\u001b[43m(\u001b[49m\u001b[43mX\u001b[49m\u001b[43m,\u001b[49m\u001b[43my\u001b[49m\u001b[43m,\u001b[49m\u001b[43mlengths\u001b[49m\u001b[43m)\u001b[49m\u001b[43m \u001b[49m\u001b[38;5;129;43;01min\u001b[39;49;00m\u001b[43m \u001b[49m\u001b[38;5;28;43menumerate\u001b[39;49m\u001b[43m(\u001b[49m\u001b[43mtqdm\u001b[49m\u001b[43m(\u001b[49m\u001b[43mdataloader\u001b[49m\u001b[43m,\u001b[49m\u001b[43m \u001b[49m\u001b[43mdesc\u001b[49m\u001b[38;5;241;43m=\u001b[39;49m\u001b[38;5;124;43m\"\u001b[39;49m\u001b[38;5;124;43mTrain\u001b[39;49m\u001b[38;5;124;43m\"\u001b[39;49m\u001b[43m)\u001b[49m\u001b[43m)\u001b[49m\u001b[43m:\u001b[49m\n\u001b[1;32m     32\u001b[0m \u001b[43m    \u001b[49m\u001b[43mX\u001b[49m\u001b[43m,\u001b[49m\u001b[43my\u001b[49m\u001b[43m \u001b[49m\u001b[38;5;241;43m=\u001b[39;49m\u001b[43m \u001b[49m\u001b[43mX\u001b[49m\u001b[38;5;241;43m.\u001b[39;49m\u001b[43mto\u001b[49m\u001b[43m(\u001b[49m\u001b[43mdevice\u001b[49m\u001b[43m)\u001b[49m\u001b[43m,\u001b[49m\u001b[43m \u001b[49m\u001b[43my\u001b[49m\u001b[38;5;241;43m.\u001b[39;49m\u001b[43mto\u001b[49m\u001b[43m(\u001b[49m\u001b[43mdevice\u001b[49m\u001b[43m)\u001b[49m\n\u001b[1;32m     33\u001b[0m \u001b[43m    \u001b[49m\u001b[43mX\u001b[49m\u001b[43m \u001b[49m\u001b[38;5;241;43m=\u001b[39;49m\u001b[43m \u001b[49m\u001b[43mX\u001b[49m\u001b[38;5;241;43m.\u001b[39;49m\u001b[43munsqueeze\u001b[49m\u001b[43m(\u001b[49m\u001b[43mdim\u001b[49m\u001b[38;5;241;43m=\u001b[39;49m\u001b[38;5;241;43m1\u001b[39;49m\u001b[43m)\u001b[49m\n",
      "File \u001b[0;32m~/miniconda3/envs/VSR/lib/python3.11/site-packages/tqdm/notebook.py:249\u001b[0m, in \u001b[0;36mtqdm_notebook.__iter__\u001b[0;34m(self)\u001b[0m\n\u001b[1;32m    247\u001b[0m \u001b[38;5;28;01mtry\u001b[39;00m:\n\u001b[1;32m    248\u001b[0m     it \u001b[38;5;241m=\u001b[39m \u001b[38;5;28msuper\u001b[39m(tqdm_notebook, \u001b[38;5;28mself\u001b[39m)\u001b[38;5;241m.\u001b[39m\u001b[38;5;21m__iter__\u001b[39m()\n\u001b[0;32m--> 249\u001b[0m \u001b[43m    \u001b[49m\u001b[38;5;28;43;01mfor\u001b[39;49;00m\u001b[43m \u001b[49m\u001b[43mobj\u001b[49m\u001b[43m \u001b[49m\u001b[38;5;129;43;01min\u001b[39;49;00m\u001b[43m \u001b[49m\u001b[43mit\u001b[49m\u001b[43m:\u001b[49m\n\u001b[1;32m    250\u001b[0m \u001b[43m        \u001b[49m\u001b[38;5;66;43;03m# return super(tqdm...) will not catch exception\u001b[39;49;00m\n\u001b[1;32m    251\u001b[0m \u001b[43m        \u001b[49m\u001b[38;5;28;43;01myield\u001b[39;49;00m\u001b[43m \u001b[49m\u001b[43mobj\u001b[49m\n\u001b[1;32m    252\u001b[0m \u001b[38;5;66;03m# NB: except ... [ as ...] breaks IPython async KeyboardInterrupt\u001b[39;00m\n",
      "File \u001b[0;32m~/miniconda3/envs/VSR/lib/python3.11/site-packages/tqdm/std.py:1182\u001b[0m, in \u001b[0;36mtqdm.__iter__\u001b[0;34m(self)\u001b[0m\n\u001b[1;32m   1179\u001b[0m time \u001b[38;5;241m=\u001b[39m \u001b[38;5;28mself\u001b[39m\u001b[38;5;241m.\u001b[39m_time\n\u001b[1;32m   1181\u001b[0m \u001b[38;5;28;01mtry\u001b[39;00m:\n\u001b[0;32m-> 1182\u001b[0m \u001b[43m    \u001b[49m\u001b[38;5;28;43;01mfor\u001b[39;49;00m\u001b[43m \u001b[49m\u001b[43mobj\u001b[49m\u001b[43m \u001b[49m\u001b[38;5;129;43;01min\u001b[39;49;00m\u001b[43m \u001b[49m\u001b[43miterable\u001b[49m\u001b[43m:\u001b[49m\n\u001b[1;32m   1183\u001b[0m \u001b[43m        \u001b[49m\u001b[38;5;28;43;01myield\u001b[39;49;00m\u001b[43m \u001b[49m\u001b[43mobj\u001b[49m\n\u001b[1;32m   1184\u001b[0m \u001b[43m        \u001b[49m\u001b[38;5;66;43;03m# Update and possibly print the progressbar.\u001b[39;49;00m\n\u001b[1;32m   1185\u001b[0m \u001b[43m        \u001b[49m\u001b[38;5;66;43;03m# Note: does not call self.update(1) for speed optimisation.\u001b[39;49;00m\n",
      "File \u001b[0;32m~/miniconda3/envs/VSR/lib/python3.11/site-packages/torch/utils/data/dataloader.py:630\u001b[0m, in \u001b[0;36m_BaseDataLoaderIter.__next__\u001b[0;34m(self)\u001b[0m\n\u001b[1;32m    627\u001b[0m \u001b[38;5;28;01mif\u001b[39;00m \u001b[38;5;28mself\u001b[39m\u001b[38;5;241m.\u001b[39m_sampler_iter \u001b[38;5;129;01mis\u001b[39;00m \u001b[38;5;28;01mNone\u001b[39;00m:\n\u001b[1;32m    628\u001b[0m     \u001b[38;5;66;03m# TODO(https://github.com/pytorch/pytorch/issues/76750)\u001b[39;00m\n\u001b[1;32m    629\u001b[0m     \u001b[38;5;28mself\u001b[39m\u001b[38;5;241m.\u001b[39m_reset()  \u001b[38;5;66;03m# type: ignore[call-arg]\u001b[39;00m\n\u001b[0;32m--> 630\u001b[0m data \u001b[38;5;241m=\u001b[39m \u001b[38;5;28;43mself\u001b[39;49m\u001b[38;5;241;43m.\u001b[39;49m\u001b[43m_next_data\u001b[49m\u001b[43m(\u001b[49m\u001b[43m)\u001b[49m\n\u001b[1;32m    631\u001b[0m \u001b[38;5;28mself\u001b[39m\u001b[38;5;241m.\u001b[39m_num_yielded \u001b[38;5;241m+\u001b[39m\u001b[38;5;241m=\u001b[39m \u001b[38;5;241m1\u001b[39m\n\u001b[1;32m    632\u001b[0m \u001b[38;5;28;01mif\u001b[39;00m \u001b[38;5;28mself\u001b[39m\u001b[38;5;241m.\u001b[39m_dataset_kind \u001b[38;5;241m==\u001b[39m _DatasetKind\u001b[38;5;241m.\u001b[39mIterable \u001b[38;5;129;01mand\u001b[39;00m \\\n\u001b[1;32m    633\u001b[0m         \u001b[38;5;28mself\u001b[39m\u001b[38;5;241m.\u001b[39m_IterableDataset_len_called \u001b[38;5;129;01mis\u001b[39;00m \u001b[38;5;129;01mnot\u001b[39;00m \u001b[38;5;28;01mNone\u001b[39;00m \u001b[38;5;129;01mand\u001b[39;00m \\\n\u001b[1;32m    634\u001b[0m         \u001b[38;5;28mself\u001b[39m\u001b[38;5;241m.\u001b[39m_num_yielded \u001b[38;5;241m>\u001b[39m \u001b[38;5;28mself\u001b[39m\u001b[38;5;241m.\u001b[39m_IterableDataset_len_called:\n",
      "File \u001b[0;32m~/miniconda3/envs/VSR/lib/python3.11/site-packages/torch/utils/data/dataloader.py:1328\u001b[0m, in \u001b[0;36m_MultiProcessingDataLoaderIter._next_data\u001b[0;34m(self)\u001b[0m\n\u001b[1;32m   1325\u001b[0m     \u001b[38;5;28;01mreturn\u001b[39;00m \u001b[38;5;28mself\u001b[39m\u001b[38;5;241m.\u001b[39m_process_data(data)\n\u001b[1;32m   1327\u001b[0m \u001b[38;5;28;01massert\u001b[39;00m \u001b[38;5;129;01mnot\u001b[39;00m \u001b[38;5;28mself\u001b[39m\u001b[38;5;241m.\u001b[39m_shutdown \u001b[38;5;129;01mand\u001b[39;00m \u001b[38;5;28mself\u001b[39m\u001b[38;5;241m.\u001b[39m_tasks_outstanding \u001b[38;5;241m>\u001b[39m \u001b[38;5;241m0\u001b[39m\n\u001b[0;32m-> 1328\u001b[0m idx, data \u001b[38;5;241m=\u001b[39m \u001b[38;5;28;43mself\u001b[39;49m\u001b[38;5;241;43m.\u001b[39;49m\u001b[43m_get_data\u001b[49m\u001b[43m(\u001b[49m\u001b[43m)\u001b[49m\n\u001b[1;32m   1329\u001b[0m \u001b[38;5;28mself\u001b[39m\u001b[38;5;241m.\u001b[39m_tasks_outstanding \u001b[38;5;241m-\u001b[39m\u001b[38;5;241m=\u001b[39m \u001b[38;5;241m1\u001b[39m\n\u001b[1;32m   1330\u001b[0m \u001b[38;5;28;01mif\u001b[39;00m \u001b[38;5;28mself\u001b[39m\u001b[38;5;241m.\u001b[39m_dataset_kind \u001b[38;5;241m==\u001b[39m _DatasetKind\u001b[38;5;241m.\u001b[39mIterable:\n\u001b[1;32m   1331\u001b[0m     \u001b[38;5;66;03m# Check for _IterableDatasetStopIteration\u001b[39;00m\n",
      "File \u001b[0;32m~/miniconda3/envs/VSR/lib/python3.11/site-packages/torch/utils/data/dataloader.py:1284\u001b[0m, in \u001b[0;36m_MultiProcessingDataLoaderIter._get_data\u001b[0;34m(self)\u001b[0m\n\u001b[1;32m   1282\u001b[0m \u001b[38;5;28;01melif\u001b[39;00m \u001b[38;5;28mself\u001b[39m\u001b[38;5;241m.\u001b[39m_pin_memory:\n\u001b[1;32m   1283\u001b[0m     \u001b[38;5;28;01mwhile\u001b[39;00m \u001b[38;5;28mself\u001b[39m\u001b[38;5;241m.\u001b[39m_pin_memory_thread\u001b[38;5;241m.\u001b[39mis_alive():\n\u001b[0;32m-> 1284\u001b[0m         success, data \u001b[38;5;241m=\u001b[39m \u001b[38;5;28;43mself\u001b[39;49m\u001b[38;5;241;43m.\u001b[39;49m\u001b[43m_try_get_data\u001b[49m\u001b[43m(\u001b[49m\u001b[43m)\u001b[49m\n\u001b[1;32m   1285\u001b[0m         \u001b[38;5;28;01mif\u001b[39;00m success:\n\u001b[1;32m   1286\u001b[0m             \u001b[38;5;28;01mreturn\u001b[39;00m data\n",
      "File \u001b[0;32m~/miniconda3/envs/VSR/lib/python3.11/site-packages/torch/utils/data/dataloader.py:1132\u001b[0m, in \u001b[0;36m_MultiProcessingDataLoaderIter._try_get_data\u001b[0;34m(self, timeout)\u001b[0m\n\u001b[1;32m   1119\u001b[0m \u001b[38;5;28;01mdef\u001b[39;00m \u001b[38;5;21m_try_get_data\u001b[39m(\u001b[38;5;28mself\u001b[39m, timeout\u001b[38;5;241m=\u001b[39m_utils\u001b[38;5;241m.\u001b[39mMP_STATUS_CHECK_INTERVAL):\n\u001b[1;32m   1120\u001b[0m     \u001b[38;5;66;03m# Tries to fetch data from `self._data_queue` once for a given timeout.\u001b[39;00m\n\u001b[1;32m   1121\u001b[0m     \u001b[38;5;66;03m# This can also be used as inner loop of fetching without timeout, with\u001b[39;00m\n\u001b[0;32m   (...)\u001b[0m\n\u001b[1;32m   1129\u001b[0m     \u001b[38;5;66;03m# Returns a 2-tuple:\u001b[39;00m\n\u001b[1;32m   1130\u001b[0m     \u001b[38;5;66;03m#   (bool: whether successfully get data, any: data if successful else None)\u001b[39;00m\n\u001b[1;32m   1131\u001b[0m     \u001b[38;5;28;01mtry\u001b[39;00m:\n\u001b[0;32m-> 1132\u001b[0m         data \u001b[38;5;241m=\u001b[39m \u001b[38;5;28;43mself\u001b[39;49m\u001b[38;5;241;43m.\u001b[39;49m\u001b[43m_data_queue\u001b[49m\u001b[38;5;241;43m.\u001b[39;49m\u001b[43mget\u001b[49m\u001b[43m(\u001b[49m\u001b[43mtimeout\u001b[49m\u001b[38;5;241;43m=\u001b[39;49m\u001b[43mtimeout\u001b[49m\u001b[43m)\u001b[49m\n\u001b[1;32m   1133\u001b[0m         \u001b[38;5;28;01mreturn\u001b[39;00m (\u001b[38;5;28;01mTrue\u001b[39;00m, data)\n\u001b[1;32m   1134\u001b[0m     \u001b[38;5;28;01mexcept\u001b[39;00m \u001b[38;5;167;01mException\u001b[39;00m \u001b[38;5;28;01mas\u001b[39;00m e:\n\u001b[1;32m   1135\u001b[0m         \u001b[38;5;66;03m# At timeout and error, we manually check whether any worker has\u001b[39;00m\n\u001b[1;32m   1136\u001b[0m         \u001b[38;5;66;03m# failed. Note that this is the only mechanism for Windows to detect\u001b[39;00m\n\u001b[1;32m   1137\u001b[0m         \u001b[38;5;66;03m# worker failures.\u001b[39;00m\n",
      "File \u001b[0;32m~/miniconda3/envs/VSR/lib/python3.11/queue.py:180\u001b[0m, in \u001b[0;36mQueue.get\u001b[0;34m(self, block, timeout)\u001b[0m\n\u001b[1;32m    178\u001b[0m         \u001b[38;5;28;01mif\u001b[39;00m remaining \u001b[38;5;241m<\u001b[39m\u001b[38;5;241m=\u001b[39m \u001b[38;5;241m0.0\u001b[39m:\n\u001b[1;32m    179\u001b[0m             \u001b[38;5;28;01mraise\u001b[39;00m Empty\n\u001b[0;32m--> 180\u001b[0m         \u001b[38;5;28;43mself\u001b[39;49m\u001b[38;5;241;43m.\u001b[39;49m\u001b[43mnot_empty\u001b[49m\u001b[38;5;241;43m.\u001b[39;49m\u001b[43mwait\u001b[49m\u001b[43m(\u001b[49m\u001b[43mremaining\u001b[49m\u001b[43m)\u001b[49m\n\u001b[1;32m    181\u001b[0m item \u001b[38;5;241m=\u001b[39m \u001b[38;5;28mself\u001b[39m\u001b[38;5;241m.\u001b[39m_get()\n\u001b[1;32m    182\u001b[0m \u001b[38;5;28mself\u001b[39m\u001b[38;5;241m.\u001b[39mnot_full\u001b[38;5;241m.\u001b[39mnotify()\n",
      "File \u001b[0;32m~/miniconda3/envs/VSR/lib/python3.11/threading.py:324\u001b[0m, in \u001b[0;36mCondition.wait\u001b[0;34m(self, timeout)\u001b[0m\n\u001b[1;32m    322\u001b[0m \u001b[38;5;28;01melse\u001b[39;00m:\n\u001b[1;32m    323\u001b[0m     \u001b[38;5;28;01mif\u001b[39;00m timeout \u001b[38;5;241m>\u001b[39m \u001b[38;5;241m0\u001b[39m:\n\u001b[0;32m--> 324\u001b[0m         gotit \u001b[38;5;241m=\u001b[39m \u001b[43mwaiter\u001b[49m\u001b[38;5;241;43m.\u001b[39;49m\u001b[43macquire\u001b[49m\u001b[43m(\u001b[49m\u001b[38;5;28;43;01mTrue\u001b[39;49;00m\u001b[43m,\u001b[49m\u001b[43m \u001b[49m\u001b[43mtimeout\u001b[49m\u001b[43m)\u001b[49m\n\u001b[1;32m    325\u001b[0m     \u001b[38;5;28;01melse\u001b[39;00m:\n\u001b[1;32m    326\u001b[0m         gotit \u001b[38;5;241m=\u001b[39m waiter\u001b[38;5;241m.\u001b[39macquire(\u001b[38;5;28;01mFalse\u001b[39;00m)\n",
      "\u001b[0;31mKeyboardInterrupt\u001b[0m: "
     ]
    }
   ],
   "source": [
    "lipnet_model_results = train(model=lipnet_lstm_model,\n",
    "                             train_dataloader=train_dataloader,\n",
    "                             val_dataloader=val_dataloader,\n",
    "                             loss_fn=loss_fn, optimizer=optimizer,\n",
    "                             scheduler=scheduler,\n",
    "                             device=device,\n",
    "                             epochs=10)"
   ]
  },
  {
   "cell_type": "code",
   "execution_count": 18,
   "id": "077e0469-5ab1-463a-acfc-6eb6f05ca82f",
   "metadata": {},
   "outputs": [],
   "source": [
    "from torchmetrics.classification import MulticlassRecall, MulticlassPrecision, MulticlassF1Score, MulticlassConfusionMatrix\n",
    "\n",
    "recall = MulticlassRecall(num_classes=10)\n",
    "precision = MulticlassPrecision(num_classes=10)\n",
    "f1_score = MulticlassF1Score(num_classes=10)\n",
    "conf_mat = MulticlassConfusionMatrix(num_classes=10)"
   ]
  },
  {
   "cell_type": "code",
   "execution_count": 19,
   "id": "69e5523e-a978-495e-901f-8ff46850a6f4",
   "metadata": {},
   "outputs": [],
   "source": [
    "target, pred = [],[]"
   ]
  },
  {
   "cell_type": "code",
   "execution_count": 20,
   "id": "b16b69a0-a557-4902-9975-88fd2290027a",
   "metadata": {},
   "outputs": [],
   "source": [
    "def val_step(model: torch.nn.Module,\n",
    "              dataloader: torch.utils.data.DataLoader,\n",
    "              loss_fn: torch.nn.Module,\n",
    "              device: torch.device='cpu') -> Tuple[float, float]:\n",
    "    model.eval()\n",
    "    val_loss = 0\n",
    "    val_acc = 0\n",
    "\n",
    "    with torch.inference_mode():\n",
    "        for batch,(X,y, lengths) in enumerate(tqdm(dataloader, desc=\"Val\")):\n",
    "            X,y = X.to(device), y.to(device)\n",
    "            X = X.unsqueeze(dim=1)\n",
    "            X = X.type(torch.float32)\n",
    "\n",
    "            target.extend(list(y.cpu().numpy()))\n",
    "            # Forward pass\n",
    "            y_logits = model(X, lengths)\n",
    "    \n",
    "            # Calculate loss\n",
    "            loss = loss_fn(y_logits, y)\n",
    "            val_loss += loss.item()\n",
    "\n",
    "            # Calculate and accumulate accuracy\n",
    "            y_labels = y_logits.argmax(dim=1)\n",
    "            val_acc += ((y_labels == y).sum().item()/len(y_labels))\n",
    "            pred.extend(y_labels.cpu().numpy())\n",
    "\n",
    "    val_loss = val_loss/len(dataloader)\n",
    "    val_acc = val_acc/len(dataloader)\n",
    "    return val_loss, val_acc"
   ]
  },
  {
   "cell_type": "code",
   "execution_count": 21,
   "id": "86c543cb-4c29-46b4-8dab-60f90013c123",
   "metadata": {},
   "outputs": [
    {
     "data": {
      "text/plain": [
       "<All keys matched successfully>"
      ]
     },
     "execution_count": 21,
     "metadata": {},
     "output_type": "execute_result"
    }
   ],
   "source": [
    "lipnet_lstm_model.load_state_dict(torch.load('checkpoint/LipNet_GRU_15.pth'))"
   ]
  },
  {
   "cell_type": "code",
   "execution_count": 24,
   "id": "27421189-317d-431d-8670-419becb88692",
   "metadata": {},
   "outputs": [
    {
     "data": {
      "application/vnd.jupyter.widget-view+json": {
       "model_id": "bd71052279d74c26ba75de22a84802d2",
       "version_major": 2,
       "version_minor": 0
      },
      "text/plain": [
       "Val:   0%|          | 0/16 [00:00<?, ?it/s]"
      ]
     },
     "metadata": {},
     "output_type": "display_data"
    },
    {
     "data": {
      "text/plain": [
       "(0.4356676498427987, 0.8609375)"
      ]
     },
     "execution_count": 24,
     "metadata": {},
     "output_type": "execute_result"
    }
   ],
   "source": [
    "val_step(model=lipnet_lstm_model, dataloader=test_dataloader, loss_fn=loss_fn, device='cuda')"
   ]
  },
  {
   "cell_type": "code",
   "execution_count": 25,
   "id": "45948245-0f7b-4dc4-9d59-1a8510eb998c",
   "metadata": {},
   "outputs": [
    {
     "data": {
      "text/plain": [
       "tensor(0.8600)"
      ]
     },
     "execution_count": 25,
     "metadata": {},
     "output_type": "execute_result"
    }
   ],
   "source": [
    "recall(torch.tensor(pred), torch.tensor(target))"
   ]
  },
  {
   "cell_type": "code",
   "execution_count": 26,
   "id": "89551475-d7d3-4fe8-912a-90ee38d2d16f",
   "metadata": {},
   "outputs": [
    {
     "data": {
      "text/plain": [
       "tensor(0.8616)"
      ]
     },
     "execution_count": 26,
     "metadata": {},
     "output_type": "execute_result"
    }
   ],
   "source": [
    "precision(torch.tensor(pred), torch.tensor(target))"
   ]
  },
  {
   "cell_type": "code",
   "execution_count": 27,
   "id": "7144566d-480d-4568-934e-a4ea5926d29c",
   "metadata": {},
   "outputs": [
    {
     "data": {
      "text/plain": [
       "tensor(0.8590)"
      ]
     },
     "execution_count": 27,
     "metadata": {},
     "output_type": "execute_result"
    }
   ],
   "source": [
    "f1_score(torch.tensor(pred), torch.tensor(target))"
   ]
  },
  {
   "cell_type": "code",
   "execution_count": 28,
   "id": "dbd4a0c9-5810-434d-a85e-8550be532c04",
   "metadata": {},
   "outputs": [
    {
     "data": {
      "text/plain": [
       "(<Figure size 640x480 with 1 Axes>,\n",
       " <Axes: xlabel='Predicted class', ylabel='True class'>)"
      ]
     },
     "execution_count": 28,
     "metadata": {},
     "output_type": "execute_result"
    },
    {
     "data": {
      "image/png": "[encoded data removed]",
      "text/plain": [
       "<Figure size 640x480 with 1 Axes>"
      ]
     },
     "metadata": {},
     "output_type": "display_data"
    }
   ],
   "source": [
    "conf_mat.update(torch.tensor(pred), torch.tensor(target))\n",
    "conf_mat.plot()"
   ]
  },
  {
   "cell_type": "code",
   "execution_count": 20,
   "id": "560667a6-d899-4ff5-90d6-522517d9e60e",
   "metadata": {},
   "outputs": [],
   "source": [
    "train_dataloader_no_shuffle = DataLoader(dataset=train_data,\n",
    "                             num_workers=NUM_WORKERS,\n",
    "                             shuffle=False,\n",
    "                             pin_memory=True,\n",
    "                             batch_size=BATCH_SIZE)"
   ]
  },
  {
   "cell_type": "markdown",
   "id": "c2029a30-d417-4a6f-9361-95e53d3de3d5",
   "metadata": {},
   "source": [
    "## ResNet"
   ]
  },
  {
   "cell_type": "markdown",
   "id": "a77a1fcc-4faf-42ee-847b-0d3aa0a221e4",
   "metadata": {},
   "source": [
    "#### Train"
   ]
  },
  {
   "cell_type": "code",
   "execution_count": 18,
   "id": "e11c3e00-c4c8-4265-b821-15d065505e75",
   "metadata": {},
   "outputs": [],
   "source": [
    "import math\n",
    "import torch.nn as nn\n",
    "import pdb\n",
    "\n",
    "def conv3x3(in_planes, out_planes, stride=1):\n",
    "    return nn.Conv2d(in_planes, out_planes, kernel_size=3, stride=stride,\n",
    "                     padding=1, bias=False)\n",
    "\n",
    "\n",
    "def downsample_basic_block( inplanes, outplanes, stride ):\n",
    "    return  nn.Sequential(\n",
    "                nn.Conv2d(inplanes, outplanes, kernel_size=1, stride=stride, bias=False),\n",
    "                nn.BatchNorm2d(outplanes),\n",
    "            )\n",
    "\n",
    "class BasicBlock(nn.Module):\n",
    "    expansion = 1\n",
    "\n",
    "    def __init__(self, inplanes, planes, stride=1, downsample=None):\n",
    "        super(BasicBlock, self).__init__()\n",
    "\n",
    "        self.conv1 = conv3x3(inplanes, planes, stride)\n",
    "        self.bn1 = nn.BatchNorm2d(planes)\n",
    "\n",
    "        self.relu1 = nn.ReLU(inplace=True)\n",
    "        self.relu2 = nn.ReLU(inplace=True)\n",
    "\n",
    "        self.conv2 = conv3x3(planes, planes)\n",
    "        self.bn2 = nn.BatchNorm2d(planes)\n",
    "\n",
    "        self.downsample = downsample\n",
    "        self.stride = stride\n",
    "\n",
    "    def forward(self, x):\n",
    "        residual = x\n",
    "        out = self.conv1(x)\n",
    "        out = self.bn1(out)\n",
    "        out = self.relu1(out)\n",
    "        out = self.conv2(out)\n",
    "        out = self.bn2(out)\n",
    "        if self.downsample is not None:\n",
    "            residual = self.downsample(x)\n",
    "\n",
    "        out += residual\n",
    "        out = self.relu2(out)\n",
    "\n",
    "        return out\n",
    "\n",
    "\n",
    "class ResNet(nn.Module):\n",
    "\n",
    "    def __init__(self, block, layers, num_classes=50):\n",
    "        self.inplanes = 64\n",
    "        self.downsample_block = downsample_basic_block\n",
    "\n",
    "        super(ResNet, self).__init__()\n",
    "        self.layer1 = self._make_layer(block, 64, layers[0])\n",
    "        self.layer2 = self._make_layer(block, 128, layers[1], stride=2)\n",
    "        self.layer3 = self._make_layer(block, 256, layers[2], stride=2)\n",
    "        self.layer4 = self._make_layer(block, 512, layers[3], stride=2)\n",
    "        self.avgpool = nn.AdaptiveAvgPool2d(1)\n",
    "\n",
    "        # default init\n",
    "        for m in self.modules():\n",
    "            if isinstance(m, nn.Conv2d):\n",
    "                n = m.kernel_size[0] * m.kernel_size[1] * m.out_channels\n",
    "                m.weight.data.normal_(0, math.sqrt(2. / n))\n",
    "            elif isinstance(m, nn.BatchNorm2d):\n",
    "                m.weight.data.fill_(1)\n",
    "                m.bias.data.zero_()\n",
    "                #nn.init.ones_(m.weight)\n",
    "                #nn.init.zeros_(m.bias)\n",
    "\n",
    "    def _make_layer(self, block, planes, blocks, stride=1):\n",
    "        downsample = None\n",
    "        if stride != 1 or self.inplanes != planes * block.expansion:\n",
    "            downsample = self.downsample_block(inplanes = self.inplanes,\n",
    "                                                 outplanes = planes * block.expansion,\n",
    "                                                 stride = stride)\n",
    "\n",
    "        layers = []\n",
    "        layers.append(block(self.inplanes, planes, stride, downsample))\n",
    "        self.inplanes = planes * block.expansion\n",
    "        for i in range(1, blocks):\n",
    "            layers.append(block(self.inplanes, planes))\n",
    "\n",
    "        return nn.Sequential(*layers)\n",
    "\n",
    "    def forward(self, x):\n",
    "        x = self.layer1(x)\n",
    "        x = self.layer2(x)\n",
    "        x = self.layer3(x)\n",
    "        x = self.layer4(x)\n",
    "        x = self.avgpool(x)\n",
    "        x = x.view(x.size(0), -1)\n",
    "        return x"
   ]
  },
  {
   "cell_type": "code",
   "execution_count": 19,
   "id": "05b3a534-27c1-44f5-ab71-ca1b5aee1a2d",
   "metadata": {},
   "outputs": [],
   "source": [
    "from torch.nn.utils.rnn import pack_padded_sequence, pad_packed_sequence\n",
    "\n",
    "class STCNN(nn.Module):\n",
    "    def __init__(self, in_channels, out_channels, kernel_size, stride, padding):\n",
    "        super().__init__()\n",
    "\n",
    "        self.conv_block = nn.Conv3d(in_channels=1,\n",
    "                                    out_channels=out_channels,\n",
    "                                    kernel_size=kernel_size,\n",
    "                                    stride=stride, \n",
    "                                    padding=padding,\n",
    "                                    bias=False)\n",
    "        self.batch_norm = nn.BatchNorm3d(out_channels)\n",
    "        self.relu = nn.ReLU()\n",
    "        self.max_pool = nn.MaxPool3d(kernel_size=(1,3,3),\n",
    "                                     stride=(1,2,2),\n",
    "                                     padding=(0, 1, 1))\n",
    "\n",
    "    def forward(self, x):\n",
    "        return self.max_pool(self.relu(self.batch_norm(self.conv_block(x))))\n",
    "\n",
    "\n",
    "class BiGRU(nn.Module):\n",
    "    def __init__(self, input_size, hidden_size):\n",
    "        super().__init__()\n",
    "\n",
    "        self.gru = nn.GRU(input_size=input_size,\n",
    "                          hidden_size=hidden_size,\n",
    "                          batch_first=True,\n",
    "                          bidirectional=True,\n",
    "                          num_layers=2)\n",
    "    \n",
    "    def forward(self, x):\n",
    "        self.gru.flatten_parameters()\n",
    "        return self.gru(x)[0]\n",
    "\n",
    "\n",
    "\n",
    "class ResNet_GRU(nn.Module):\n",
    "    def __init__(self, in_channels, output_size, hidden_size):\n",
    "        super().__init__()\n",
    "        self.hidden_size = hidden_size\n",
    "\n",
    "        self.stcnn_1 = STCNN(in_channels=in_channels,\n",
    "                             out_channels=64,\n",
    "                             kernel_size=(5, 7, 7),\n",
    "                             stride=(1, 2, 2),\n",
    "                             padding=(2, 3, 3))\n",
    "\n",
    "        self.gru_1 = BiGRU(input_size=512,\n",
    "                           hidden_size=hidden_size)\n",
    "\n",
    "        self.resnet = ResNet(BasicBlock, [2, 2, 2, 2])\n",
    "\n",
    "        self.classifier = nn.Sequential(\n",
    "            nn.Linear(in_features=2 * hidden_size,\n",
    "                      out_features=output_size)\n",
    "        )\n",
    "\n",
    "        # Freeze all layers except the classifier\n",
    "        for param in self.parameters():\n",
    "            param.requires_grad = False\n",
    "        for param in self.classifier.parameters():\n",
    "            param.requires_grad = True\n",
    "        for param in self.gru_1.parameters():\n",
    "            param.requires_grad = True\n",
    "\n",
    "    def forward(self, x, lengths):\n",
    "        b = x.size(0)\n",
    "        x = self.stcnn_1(x)\n",
    "        x = x.transpose(1, 2).contiguous()\n",
    "        x = x.view(-1, 64, x.size(3), x.size(4))\n",
    "        x = self.resnet(x)\n",
    "        x = x.view(b, -1, 512)\n",
    "        x = pack_padded_sequence(x, lengths, batch_first=True, enforce_sorted=False)\n",
    "        x = self.gru_1(x)\n",
    "        x, _ = pad_packed_sequence(x, batch_first=True)\n",
    "        x = torch.cat((x[:, -1, :self.hidden_size], x[:, 0, self.hidden_size:]), dim=1)\n",
    "        x = self.classifier(x)\n",
    "        return x"
   ]
  },
  {
   "cell_type": "code",
   "execution_count": 20,
   "id": "bdd5c098-9fc2-4062-a015-f4aefed2e72a",
   "metadata": {},
   "outputs": [],
   "source": [
    "resnet_gru_model = ResNet_GRU(in_channels=1,\n",
    "                               output_size=15,\n",
    "                               hidden_size=1024).to('cuda')"
   ]
  },
  {
   "cell_type": "code",
   "execution_count": 21,
   "id": "d0f0f8c1-7905-48a4-8ce4-5f03638cf0b4",
   "metadata": {},
   "outputs": [
    {
     "data": {
      "text/plain": [
       "<All keys matched successfully>"
      ]
     },
     "execution_count": 21,
     "metadata": {},
     "output_type": "execute_result"
    }
   ],
   "source": [
    "resnet_gru_model.load_state_dict(torch.load('checkpoint/custom/ResNet_GRU_10_custom.pth'))"
   ]
  },
  {
   "cell_type": "code",
   "execution_count": 22,
   "id": "7ed45f99-0403-4a86-8ea1-b97eedbc4d22",
   "metadata": {},
   "outputs": [],
   "source": [
    "loss_fn = nn.CrossEntropyLoss()\n",
    "optimizer = torch.optim.Adam(params=resnet_gru_model.parameters(),\n",
    "                             lr=0.0001)"
   ]
  },
  {
   "cell_type": "code",
   "execution_count": 41,
   "id": "3625523c-3024-48f0-a384-3f926e5892ee",
   "metadata": {},
   "outputs": [
    {
     "name": "stdout",
     "output_type": "stream",
     "text": [
      "Adjusting learning rate of group 0 to 1.0000e-06.\n"
     ]
    }
   ],
   "source": [
    "from torch.optim.lr_scheduler import ExponentialLR, StepLR, CosineAnnealingWarmRestarts\n",
    "\n",
    "scheduler = None\n",
    "step_scheduler = StepLR(optimizer=optimizer, verbose=True, gamma=0.1, step_size=5)\n",
    "cosine_scheduler_warm_restarts = CosineAnnealingWarmRestarts(optimizer=optimizer, T_0=10)"
   ]
  },
  {
   "cell_type": "code",
   "execution_count": 42,
   "id": "d30fa302-a3e3-4214-8bf3-49043d85b5d9",
   "metadata": {},
   "outputs": [
    {
     "data": {
      "application/vnd.jupyter.widget-view+json": {
       "model_id": "db038c6262474636a745fc94836fa236",
       "version_major": 2,
       "version_minor": 0
      },
      "text/plain": [
       "  0%|          | 0/10 [00:00<?, ?it/s]"
      ]
     },
     "metadata": {},
     "output_type": "display_data"
    },
    {
     "data": {
      "application/vnd.jupyter.widget-view+json": {
       "model_id": "e100acb5737b41179742f6f738518846",
       "version_major": 2,
       "version_minor": 0
      },
      "text/plain": [
       "Train:   0%|          | 0/102 [00:00<?, ?it/s]"
      ]
     },
     "metadata": {},
     "output_type": "display_data"
    },
    {
     "data": {
      "application/vnd.jupyter.widget-view+json": {
       "model_id": "dca810c195d74d0b988334d8a118a8fd",
       "version_major": 2,
       "version_minor": 0
      },
      "text/plain": [
       "Val:   0%|          | 0/18 [00:00<?, ?it/s]"
      ]
     },
     "metadata": {},
     "output_type": "display_data"
    },
    {
     "name": "stdout",
     "output_type": "stream",
     "text": [
      "Adjusting learning rate of group 0 to 1.0000e-04.\n",
      "Epoch: 0 | Train Loss: 0.07 | Train Acc: 98.24% | Val Loss: 1.22 | Val Acc: 68.89%\n"
     ]
    },
    {
     "data": {
      "application/vnd.jupyter.widget-view+json": {
       "model_id": "8f71f14f3f314df0ae37140f2e95bd40",
       "version_major": 2,
       "version_minor": 0
      },
      "text/plain": [
       "Train:   0%|          | 0/102 [00:00<?, ?it/s]"
      ]
     },
     "metadata": {},
     "output_type": "display_data"
    },
    {
     "data": {
      "application/vnd.jupyter.widget-view+json": {
       "model_id": "b73a64d7b6c64ed3a330f7d9b8ff98a0",
       "version_major": 2,
       "version_minor": 0
      },
      "text/plain": [
       "Val:   0%|          | 0/18 [00:00<?, ?it/s]"
      ]
     },
     "metadata": {},
     "output_type": "display_data"
    },
    {
     "name": "stdout",
     "output_type": "stream",
     "text": [
      "Adjusting learning rate of group 0 to 1.0000e-04.\n",
      "Epoch: 1 | Train Loss: 0.04 | Train Acc: 99.22% | Val Loss: 1.27 | Val Acc: 71.11%\n"
     ]
    },
    {
     "data": {
      "application/vnd.jupyter.widget-view+json": {
       "model_id": "66bb1cbf9d604997be658655c9bf3004",
       "version_major": 2,
       "version_minor": 0
      },
      "text/plain": [
       "Train:   0%|          | 0/102 [00:00<?, ?it/s]"
      ]
     },
     "metadata": {},
     "output_type": "display_data"
    },
    {
     "data": {
      "application/vnd.jupyter.widget-view+json": {
       "model_id": "691e6470c18c46c2aaa00b0882ac5e6d",
       "version_major": 2,
       "version_minor": 0
      },
      "text/plain": [
       "Val:   0%|          | 0/18 [00:00<?, ?it/s]"
      ]
     },
     "metadata": {},
     "output_type": "display_data"
    },
    {
     "name": "stdout",
     "output_type": "stream",
     "text": [
      "Adjusting learning rate of group 0 to 1.0000e-04.\n",
      "Epoch: 2 | Train Loss: 0.03 | Train Acc: 99.02% | Val Loss: 1.34 | Val Acc: 75.56%\n"
     ]
    },
    {
     "data": {
      "application/vnd.jupyter.widget-view+json": {
       "model_id": "8086029121994a998e182b2be1ede7fa",
       "version_major": 2,
       "version_minor": 0
      },
      "text/plain": [
       "Train:   0%|          | 0/102 [00:00<?, ?it/s]"
      ]
     },
     "metadata": {},
     "output_type": "display_data"
    },
    {
     "data": {
      "application/vnd.jupyter.widget-view+json": {
       "model_id": "da7f1c811f0b4105b3f25e2b33ab35cd",
       "version_major": 2,
       "version_minor": 0
      },
      "text/plain": [
       "Val:   0%|          | 0/18 [00:00<?, ?it/s]"
      ]
     },
     "metadata": {},
     "output_type": "display_data"
    },
    {
     "name": "stdout",
     "output_type": "stream",
     "text": [
      "Adjusting learning rate of group 0 to 1.0000e-04.\n",
      "Epoch: 3 | Train Loss: 0.01 | Train Acc: 99.61% | Val Loss: 1.72 | Val Acc: 66.67%\n"
     ]
    },
    {
     "data": {
      "application/vnd.jupyter.widget-view+json": {
       "model_id": "f6ead88d20eb44cb94f023799e8f4d48",
       "version_major": 2,
       "version_minor": 0
      },
      "text/plain": [
       "Train:   0%|          | 0/102 [00:00<?, ?it/s]"
      ]
     },
     "metadata": {},
     "output_type": "display_data"
    },
    {
     "data": {
      "application/vnd.jupyter.widget-view+json": {
       "model_id": "e0f6ca7da43942eb9a8be683b3d48a08",
       "version_major": 2,
       "version_minor": 0
      },
      "text/plain": [
       "Val:   0%|          | 0/18 [00:00<?, ?it/s]"
      ]
     },
     "metadata": {},
     "output_type": "display_data"
    },
    {
     "name": "stdout",
     "output_type": "stream",
     "text": [
      "Adjusting learning rate of group 0 to 1.0000e-05.\n",
      "Epoch: 4 | Train Loss: 0.01 | Train Acc: 100.00% | Val Loss: 1.96 | Val Acc: 62.22%\n"
     ]
    },
    {
     "data": {
      "application/vnd.jupyter.widget-view+json": {
       "model_id": "6298c06ed5f94a70ac37a74b1bd79962",
       "version_major": 2,
       "version_minor": 0
      },
      "text/plain": [
       "Train:   0%|          | 0/102 [00:00<?, ?it/s]"
      ]
     },
     "metadata": {},
     "output_type": "display_data"
    },
    {
     "ename": "KeyboardInterrupt",
     "evalue": "",
     "output_type": "error",
     "traceback": [
      "\u001b[0;31m---------------------------------------------------------------------------\u001b[0m",
      "\u001b[0;31mKeyboardInterrupt\u001b[0m                         Traceback (most recent call last)",
      "Cell \u001b[0;32mIn[42], line 1\u001b[0m\n\u001b[0;32m----> 1\u001b[0m lipnet_model_results \u001b[38;5;241m=\u001b[39m \u001b[43mtrain\u001b[49m\u001b[43m(\u001b[49m\u001b[43mmodel\u001b[49m\u001b[38;5;241;43m=\u001b[39;49m\u001b[43mresnet_gru_model\u001b[49m\u001b[43m,\u001b[49m\n\u001b[1;32m      2\u001b[0m \u001b[43m                             \u001b[49m\u001b[43mtrain_dataloader\u001b[49m\u001b[38;5;241;43m=\u001b[39;49m\u001b[43mcustom_dataloader\u001b[49m\u001b[43m,\u001b[49m\n\u001b[1;32m      3\u001b[0m \u001b[43m                             \u001b[49m\u001b[43mval_dataloader\u001b[49m\u001b[38;5;241;43m=\u001b[39;49m\u001b[43mcustom_test_dataloader\u001b[49m\u001b[43m,\u001b[49m\n\u001b[1;32m      4\u001b[0m \u001b[43m                             \u001b[49m\u001b[43mloss_fn\u001b[49m\u001b[38;5;241;43m=\u001b[39;49m\u001b[43mloss_fn\u001b[49m\u001b[43m,\u001b[49m\u001b[43m \u001b[49m\n\u001b[1;32m      5\u001b[0m \u001b[43m                             \u001b[49m\u001b[43moptimizer\u001b[49m\u001b[38;5;241;43m=\u001b[39;49m\u001b[43moptimizer\u001b[49m\u001b[43m,\u001b[49m\n\u001b[1;32m      6\u001b[0m \u001b[43m                             \u001b[49m\u001b[43mbatch_lr_scheduler\u001b[49m\u001b[38;5;241;43m=\u001b[39;49m\u001b[43mcosine_scheduler_warm_restarts\u001b[49m\u001b[43m,\u001b[49m\n\u001b[1;32m      7\u001b[0m \u001b[43m                             \u001b[49m\u001b[43mepoch_lr_scheduler\u001b[49m\u001b[38;5;241;43m=\u001b[39;49m\u001b[43mstep_scheduler\u001b[49m\u001b[43m,\u001b[49m\n\u001b[1;32m      8\u001b[0m \u001b[43m                             \u001b[49m\u001b[43mdevice\u001b[49m\u001b[38;5;241;43m=\u001b[39;49m\u001b[43mdevice\u001b[49m\u001b[43m,\u001b[49m\n\u001b[1;32m      9\u001b[0m \u001b[43m                             \u001b[49m\u001b[43mepochs\u001b[49m\u001b[38;5;241;43m=\u001b[39;49m\u001b[38;5;241;43m10\u001b[39;49m\u001b[43m,\u001b[49m\n\u001b[1;32m     10\u001b[0m \u001b[43m                            \u001b[49m\u001b[43mbatch_size\u001b[49m\u001b[38;5;241;43m=\u001b[39;49m\u001b[43mBATCH_SIZE\u001b[49m\u001b[43m)\u001b[49m\n",
      "Cell \u001b[0;32mIn[17], line 156\u001b[0m, in \u001b[0;36mtrain\u001b[0;34m(model, train_dataloader, val_dataloader, loss_fn, optimizer, epoch_lr_scheduler, epochs, batch_lr_scheduler, batch_size, device)\u001b[0m\n\u001b[1;32m    153\u001b[0m \u001b[38;5;28;01mif\u001b[39;00m epoch_lr_scheduler \u001b[38;5;129;01mis\u001b[39;00m \u001b[38;5;129;01mnot\u001b[39;00m \u001b[38;5;28;01mNone\u001b[39;00m:\n\u001b[1;32m    154\u001b[0m     lr \u001b[38;5;241m=\u001b[39m optimizer\u001b[38;5;241m.\u001b[39mparam_groups[\u001b[38;5;241m0\u001b[39m][\u001b[38;5;124m'\u001b[39m\u001b[38;5;124mlr\u001b[39m\u001b[38;5;124m'\u001b[39m]\n\u001b[0;32m--> 156\u001b[0m train_loss, train_acc, batch_lr, batch_train_loss, batch_train_acc \u001b[38;5;241m=\u001b[39m  \u001b[43mtrain_step\u001b[49m\u001b[43m(\u001b[49m\u001b[43mmodel\u001b[49m\u001b[38;5;241;43m=\u001b[39;49m\u001b[43mmodel\u001b[49m\u001b[43m,\u001b[49m\n\u001b[1;32m    157\u001b[0m \u001b[43m                                                            \u001b[49m\u001b[43mdataloader\u001b[49m\u001b[38;5;241;43m=\u001b[39;49m\u001b[43mtrain_dataloader\u001b[49m\u001b[43m,\u001b[49m\n\u001b[1;32m    158\u001b[0m \u001b[43m                                                            \u001b[49m\u001b[43mloss_fn\u001b[49m\u001b[38;5;241;43m=\u001b[39;49m\u001b[43mloss_fn\u001b[49m\u001b[43m,\u001b[49m\n\u001b[1;32m    159\u001b[0m \u001b[43m                                                            \u001b[49m\u001b[43moptimizer\u001b[49m\u001b[38;5;241;43m=\u001b[39;49m\u001b[43moptimizer\u001b[49m\u001b[43m,\u001b[49m\n\u001b[1;32m    160\u001b[0m \u001b[43m                                                            \u001b[49m\u001b[43mscheduler\u001b[49m\u001b[38;5;241;43m=\u001b[39;49m\u001b[43mbatch_lr_scheduler\u001b[49m\u001b[43m,\u001b[49m\n\u001b[1;32m    161\u001b[0m \u001b[43m                                                            \u001b[49m\u001b[43mepoch\u001b[49m\u001b[38;5;241;43m=\u001b[39;49m\u001b[43mepoch\u001b[49m\u001b[43m,\u001b[49m\n\u001b[1;32m    162\u001b[0m \u001b[43m                                                            \u001b[49m\u001b[43mdevice\u001b[49m\u001b[38;5;241;43m=\u001b[39;49m\u001b[43mdevice\u001b[49m\u001b[43m)\u001b[49m\n\u001b[1;32m    164\u001b[0m val_loss, val_acc, batch_val_loss, batch_val_acc \u001b[38;5;241m=\u001b[39m val_step(model\u001b[38;5;241m=\u001b[39mmodel,\n\u001b[1;32m    165\u001b[0m                                                            dataloader\u001b[38;5;241m=\u001b[39mval_dataloader,\n\u001b[1;32m    166\u001b[0m                                                            loss_fn\u001b[38;5;241m=\u001b[39mloss_fn,\n\u001b[1;32m    167\u001b[0m                                                            device\u001b[38;5;241m=\u001b[39mdevice)\n\u001b[1;32m    168\u001b[0m \u001b[38;5;28;01mif\u001b[39;00m epoch_lr_scheduler \u001b[38;5;129;01mis\u001b[39;00m \u001b[38;5;129;01mnot\u001b[39;00m \u001b[38;5;28;01mNone\u001b[39;00m:\n",
      "Cell \u001b[0;32mIn[17], line 31\u001b[0m, in \u001b[0;36mtrain_step\u001b[0;34m(model, dataloader, loss_fn, optimizer, epoch, scheduler, device)\u001b[0m\n\u001b[1;32m     29\u001b[0m optimizer\u001b[38;5;241m.\u001b[39mzero_grad()\n\u001b[1;32m     30\u001b[0m \u001b[38;5;66;03m# Forward pass\u001b[39;00m\n\u001b[0;32m---> 31\u001b[0m y_logits \u001b[38;5;241m=\u001b[39m \u001b[43mmodel\u001b[49m\u001b[43m(\u001b[49m\u001b[43mX\u001b[49m\u001b[43m,\u001b[49m\u001b[43m \u001b[49m\u001b[43mlengths\u001b[49m\u001b[43m)\u001b[49m\n\u001b[1;32m     33\u001b[0m \u001b[38;5;66;03m# Calculate loss\u001b[39;00m\n\u001b[1;32m     34\u001b[0m loss \u001b[38;5;241m=\u001b[39m loss_fn(y_logits, y)\n",
      "File \u001b[0;32m~/miniconda3/envs/VSR/lib/python3.11/site-packages/torch/nn/modules/module.py:1518\u001b[0m, in \u001b[0;36mModule._wrapped_call_impl\u001b[0;34m(self, *args, **kwargs)\u001b[0m\n\u001b[1;32m   1516\u001b[0m     \u001b[38;5;28;01mreturn\u001b[39;00m \u001b[38;5;28mself\u001b[39m\u001b[38;5;241m.\u001b[39m_compiled_call_impl(\u001b[38;5;241m*\u001b[39margs, \u001b[38;5;241m*\u001b[39m\u001b[38;5;241m*\u001b[39mkwargs)  \u001b[38;5;66;03m# type: ignore[misc]\u001b[39;00m\n\u001b[1;32m   1517\u001b[0m \u001b[38;5;28;01melse\u001b[39;00m:\n\u001b[0;32m-> 1518\u001b[0m     \u001b[38;5;28;01mreturn\u001b[39;00m \u001b[38;5;28;43mself\u001b[39;49m\u001b[38;5;241;43m.\u001b[39;49m\u001b[43m_call_impl\u001b[49m\u001b[43m(\u001b[49m\u001b[38;5;241;43m*\u001b[39;49m\u001b[43margs\u001b[49m\u001b[43m,\u001b[49m\u001b[43m \u001b[49m\u001b[38;5;241;43m*\u001b[39;49m\u001b[38;5;241;43m*\u001b[39;49m\u001b[43mkwargs\u001b[49m\u001b[43m)\u001b[49m\n",
      "File \u001b[0;32m~/miniconda3/envs/VSR/lib/python3.11/site-packages/torch/nn/modules/module.py:1527\u001b[0m, in \u001b[0;36mModule._call_impl\u001b[0;34m(self, *args, **kwargs)\u001b[0m\n\u001b[1;32m   1522\u001b[0m \u001b[38;5;66;03m# If we don't have any hooks, we want to skip the rest of the logic in\u001b[39;00m\n\u001b[1;32m   1523\u001b[0m \u001b[38;5;66;03m# this function, and just call forward.\u001b[39;00m\n\u001b[1;32m   1524\u001b[0m \u001b[38;5;28;01mif\u001b[39;00m \u001b[38;5;129;01mnot\u001b[39;00m (\u001b[38;5;28mself\u001b[39m\u001b[38;5;241m.\u001b[39m_backward_hooks \u001b[38;5;129;01mor\u001b[39;00m \u001b[38;5;28mself\u001b[39m\u001b[38;5;241m.\u001b[39m_backward_pre_hooks \u001b[38;5;129;01mor\u001b[39;00m \u001b[38;5;28mself\u001b[39m\u001b[38;5;241m.\u001b[39m_forward_hooks \u001b[38;5;129;01mor\u001b[39;00m \u001b[38;5;28mself\u001b[39m\u001b[38;5;241m.\u001b[39m_forward_pre_hooks\n\u001b[1;32m   1525\u001b[0m         \u001b[38;5;129;01mor\u001b[39;00m _global_backward_pre_hooks \u001b[38;5;129;01mor\u001b[39;00m _global_backward_hooks\n\u001b[1;32m   1526\u001b[0m         \u001b[38;5;129;01mor\u001b[39;00m _global_forward_hooks \u001b[38;5;129;01mor\u001b[39;00m _global_forward_pre_hooks):\n\u001b[0;32m-> 1527\u001b[0m     \u001b[38;5;28;01mreturn\u001b[39;00m \u001b[43mforward_call\u001b[49m\u001b[43m(\u001b[49m\u001b[38;5;241;43m*\u001b[39;49m\u001b[43margs\u001b[49m\u001b[43m,\u001b[49m\u001b[43m \u001b[49m\u001b[38;5;241;43m*\u001b[39;49m\u001b[38;5;241;43m*\u001b[39;49m\u001b[43mkwargs\u001b[49m\u001b[43m)\u001b[49m\n\u001b[1;32m   1529\u001b[0m \u001b[38;5;28;01mtry\u001b[39;00m:\n\u001b[1;32m   1530\u001b[0m     result \u001b[38;5;241m=\u001b[39m \u001b[38;5;28;01mNone\u001b[39;00m\n",
      "Cell \u001b[0;32mIn[19], line 75\u001b[0m, in \u001b[0;36mResNet_GRU.forward\u001b[0;34m(self, x, lengths)\u001b[0m\n\u001b[1;32m     73\u001b[0m x \u001b[38;5;241m=\u001b[39m \u001b[38;5;28mself\u001b[39m\u001b[38;5;241m.\u001b[39mresnet(x)\n\u001b[1;32m     74\u001b[0m x \u001b[38;5;241m=\u001b[39m x\u001b[38;5;241m.\u001b[39mview(b, \u001b[38;5;241m-\u001b[39m\u001b[38;5;241m1\u001b[39m, \u001b[38;5;241m512\u001b[39m)\n\u001b[0;32m---> 75\u001b[0m x \u001b[38;5;241m=\u001b[39m \u001b[43mpack_padded_sequence\u001b[49m\u001b[43m(\u001b[49m\u001b[43mx\u001b[49m\u001b[43m,\u001b[49m\u001b[43m \u001b[49m\u001b[43mlengths\u001b[49m\u001b[43m,\u001b[49m\u001b[43m \u001b[49m\u001b[43mbatch_first\u001b[49m\u001b[38;5;241;43m=\u001b[39;49m\u001b[38;5;28;43;01mTrue\u001b[39;49;00m\u001b[43m,\u001b[49m\u001b[43m \u001b[49m\u001b[43menforce_sorted\u001b[49m\u001b[38;5;241;43m=\u001b[39;49m\u001b[38;5;28;43;01mFalse\u001b[39;49;00m\u001b[43m)\u001b[49m\n\u001b[1;32m     76\u001b[0m x \u001b[38;5;241m=\u001b[39m \u001b[38;5;28mself\u001b[39m\u001b[38;5;241m.\u001b[39mgru_1(x)\n\u001b[1;32m     77\u001b[0m x, _ \u001b[38;5;241m=\u001b[39m pad_packed_sequence(x, batch_first\u001b[38;5;241m=\u001b[39m\u001b[38;5;28;01mTrue\u001b[39;00m)\n",
      "File \u001b[0;32m~/miniconda3/envs/VSR/lib/python3.11/site-packages/torch/nn/utils/rnn.py:259\u001b[0m, in \u001b[0;36mpack_padded_sequence\u001b[0;34m(input, lengths, batch_first, enforce_sorted)\u001b[0m\n\u001b[1;32m    257\u001b[0m \u001b[38;5;28;01melse\u001b[39;00m:\n\u001b[1;32m    258\u001b[0m     lengths, sorted_indices \u001b[38;5;241m=\u001b[39m torch\u001b[38;5;241m.\u001b[39msort(lengths, descending\u001b[38;5;241m=\u001b[39m\u001b[38;5;28;01mTrue\u001b[39;00m)\n\u001b[0;32m--> 259\u001b[0m     sorted_indices \u001b[38;5;241m=\u001b[39m \u001b[43msorted_indices\u001b[49m\u001b[38;5;241;43m.\u001b[39;49m\u001b[43mto\u001b[49m\u001b[43m(\u001b[49m\u001b[38;5;28;43minput\u001b[39;49m\u001b[38;5;241;43m.\u001b[39;49m\u001b[43mdevice\u001b[49m\u001b[43m)\u001b[49m\n\u001b[1;32m    260\u001b[0m     batch_dim \u001b[38;5;241m=\u001b[39m \u001b[38;5;241m0\u001b[39m \u001b[38;5;28;01mif\u001b[39;00m batch_first \u001b[38;5;28;01melse\u001b[39;00m \u001b[38;5;241m1\u001b[39m\n\u001b[1;32m    261\u001b[0m     \u001b[38;5;28minput\u001b[39m \u001b[38;5;241m=\u001b[39m \u001b[38;5;28minput\u001b[39m\u001b[38;5;241m.\u001b[39mindex_select(batch_dim, sorted_indices)\n",
      "\u001b[0;31mKeyboardInterrupt\u001b[0m: "
     ]
    }
   ],
   "source": [
    "lipnet_model_results = train(model=resnet_gru_model,\n",
    "                             train_dataloader=custom_dataloader,\n",
    "                             val_dataloader=custom_test_dataloader,\n",
    "                             loss_fn=loss_fn, \n",
    "                             optimizer=optimizer,\n",
    "                             batch_lr_scheduler=cosine_scheduler_warm_restarts,\n",
    "                             epoch_lr_scheduler=step_scheduler,\n",
    "                             device=device,\n",
    "                             epochs=10,\n",
    "                            batch_size=BATCH_SIZE)"
   ]
  },
  {
   "cell_type": "markdown",
   "id": "2133e268-3a2a-41ee-b5e5-45b1a7c078f8",
   "metadata": {},
   "source": [
    "#### Evaluate"
   ]
  },
  {
   "cell_type": "code",
   "execution_count": 23,
   "id": "faaa3df0-6f35-4abb-b14c-0ea505a73a2d",
   "metadata": {},
   "outputs": [],
   "source": [
    "from torchmetrics.classification import MulticlassRecall, MulticlassPrecision, MulticlassF1Score, MulticlassConfusionMatrix\n",
    "\n",
    "recall = MulticlassRecall(num_classes=15)\n",
    "precision = MulticlassPrecision(num_classes=15)\n",
    "f1_score = MulticlassF1Score(num_classes=15)"
   ]
  },
  {
   "cell_type": "code",
   "execution_count": 24,
   "id": "77ade7c8-f839-4c1b-a6fe-48c79ddae0c0",
   "metadata": {},
   "outputs": [
    {
     "data": {
      "text/plain": [
       "<All keys matched successfully>"
      ]
     },
     "execution_count": 24,
     "metadata": {},
     "output_type": "execute_result"
    }
   ],
   "source": [
    "resnet_gru_model.load_state_dict(torch.load('checkpoint/best yer/ResNet_GRU_15_custom_freeze.pth'))"
   ]
  },
  {
   "cell_type": "code",
   "execution_count": 25,
   "id": "a7d16c0b-534d-48f3-8a40-0fba75a9b0cd",
   "metadata": {},
   "outputs": [],
   "source": [
    "target, pred = [],[]\n",
    "\n",
    "from tqdm.auto import tqdm\n",
    "def evaluate(model: torch.nn.Module,\n",
    "              dataloader: torch.utils.data.DataLoader,\n",
    "              loss_fn: torch.nn.Module,\n",
    "              device: torch.device='cpu'):\n",
    "    model.eval()\n",
    "    eval_loss = 0\n",
    "    eval_acc = 0\n",
    "\n",
    "    with torch.inference_mode():\n",
    "        for batch,(X,y,lengths) in enumerate(tqdm(dataloader, desc=\"Evaluate\")):\n",
    "            X,y = X.to(device), y.to(device)\n",
    "            X = X.unsqueeze(dim=1)\n",
    "            X = X.type(torch.float32)\n",
    "\n",
    "            target.extend(list(y.cpu().numpy()))\n",
    "            # Forward pass\n",
    "            y_logits = model(X,lengths)\n",
    "    \n",
    "            # Calculate loss\n",
    "            loss = loss_fn(y_logits, y)\n",
    "            eval_loss += loss.item()\n",
    "\n",
    "            # Calculate and accumulate accuracy\n",
    "            y_labels = y_logits.argmax(dim=1)\n",
    "            eval_acc += ((y_labels == y).sum().item()/len(y_labels))\n",
    "            pred.extend(y_labels.cpu().numpy())\n",
    "\n",
    "    eval_loss = eval_loss/len(dataloader)\n",
    "    eval_acc = eval_acc/len(dataloader)\n",
    "    return eval_loss, eval_acc"
   ]
  },
  {
   "cell_type": "code",
   "execution_count": 26,
   "id": "305806d9-dde8-442a-9086-5a5774e236ca",
   "metadata": {},
   "outputs": [
    {
     "data": {
      "application/vnd.jupyter.widget-view+json": {
       "model_id": "831cb45bc6474057bc8281fc453dfd38",
       "version_major": 2,
       "version_minor": 0
      },
      "text/plain": [
       "Evaluate:   0%|          | 0/150 [00:00<?, ?it/s]"
      ]
     },
     "metadata": {},
     "output_type": "display_data"
    }
   ],
   "source": [
    "loss, acc = evaluate(model=resnet_gru_model,\n",
    "                    dataloader=test_dataloader,\n",
    "                    loss_fn=loss_fn,\n",
    "                    device=device)"
   ]
  },
  {
   "cell_type": "code",
   "execution_count": 27,
   "id": "30173591-012b-4d7b-a3c3-548ed43c6ed3",
   "metadata": {},
   "outputs": [],
   "source": [
    "model_recall = recall(torch.tensor(pred), torch.tensor(target))\n",
    "model_precision = precision(torch.tensor(pred), torch.tensor(target))\n",
    "model_f1 = f1_score(torch.tensor(pred), torch.tensor(target))"
   ]
  },
  {
   "cell_type": "code",
   "execution_count": 28,
   "id": "4814a7a4-d4aa-4ec7-abda-679a0930a005",
   "metadata": {},
   "outputs": [
    {
     "name": "stdout",
     "output_type": "stream",
     "text": [
      "Metrics: \t| Results\n",
      "----------------+--------\n",
      "Test Loss: \t|  0.295\n",
      "Test Accuracy: \t|  0.911\n",
      "Recall: \t|  0.911\n",
      "Precision: \t|  0.915\n",
      "F1-Score: \t|  0.911\n"
     ]
    }
   ],
   "source": [
    "print(\"Metrics: \\t| Results\")\n",
    "print(\"-\"*16+'+'+'-'*8)\n",
    "print(f\"Test Loss: \\t| {loss: .3f}\")\n",
    "print(f\"Test Accuracy: \\t| {acc: .3f}\")\n",
    "print(f\"Recall: \\t| {model_recall: .3f}\")\n",
    "print(f\"Precision: \\t| {model_precision: .3f}\")\n",
    "print(f\"F1-Score: \\t| {model_f1: .3f}\")"
   ]
  },
  {
   "cell_type": "code",
   "execution_count": 29,
   "id": "4e73d0f2-e6d9-4809-a108-6fb393d0ecd0",
   "metadata": {
    "scrolled": true
   },
   "outputs": [
    {
     "data": {
      "image/png": "[encoded data removed]",
      "text/plain": [
       "<Figure size 1500x1500 with 1 Axes>"
      ]
     },
     "metadata": {},
     "output_type": "display_data"
    }
   ],
   "source": [
    "labels = ['YESTERDAY',\n",
    " 'GOVERNMENT',\n",
    " 'HAPPENING',\n",
    " 'IMMIGRATION',\n",
    " 'DIFFERENCE',\n",
    " 'ALLEGATIONS',\n",
    " 'KILLED',\n",
    " 'BUSINESSES',\n",
    " 'FINANCIAL',\n",
    " 'MANCHESTER',\n",
    " 'JUSTICE',\n",
    " 'EVERYTHING',\n",
    " 'CONSERVATIVE',\n",
    " 'SIGNIFICANT',\n",
    " 'VIOLENCE']\n",
    "conf_mat = MulticlassConfusionMatrix(num_classes=15)\n",
    "conf_mat.update(torch.tensor(pred), torch.tensor(target))\n",
    "fig, ax = conf_mat.plot(labels=list(labels))\n",
    "\n",
    "fig.set_figheight(15)\n",
    "fig.set_figwidth(15)\n",
    "# fig\n",
    "fig.savefig('conf_mat_test.png')"
   ]
  },
  {
   "cell_type": "code",
   "execution_count": null,
   "id": "38280454-9039-452d-aacf-34571fdae692",
   "metadata": {},
   "outputs": [],
   "source": []
  }
 ],
 "metadata": {
  "kernelspec": {
   "display_name": "Python 3 (ipykernel)",
   "language": "python",
   "name": "python3"
  },
  "language_info": {
   "codemirror_mode": {
    "name": "ipython",
    "version": 3
   },
   "file_extension": ".py",
   "mimetype": "text/x-python",
   "name": "python",
   "nbconvert_exporter": "python",
   "pygments_lexer": "ipython3",
   "version": "3.12.2"
  }
 },
 "nbformat": 4,
 "nbformat_minor": 5
}
